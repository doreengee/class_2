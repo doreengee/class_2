{
  "nbformat": 4,
  "nbformat_minor": 0,
  "metadata": {
    "colab": {
      "name": "Dictionaries_sets_exceptions_files",
      "provenance": [],
      "toc_visible": true,
      "include_colab_link": true
    },
    "kernelspec": {
      "name": "python3",
      "display_name": "Python 3"
    }
  },
  "cells": [
    {
      "cell_type": "markdown",
      "metadata": {
        "id": "view-in-github",
        "colab_type": "text"
      },
      "source": [
        "<a href=\"https://colab.research.google.com/github/doreengee/class_2/blob/master/Dictionaries_sets_exceptions_files.ipynb\" target=\"_parent\"><img src=\"https://colab.research.google.com/assets/colab-badge.svg\" alt=\"Open In Colab\"/></a>"
      ]
    },
    {
      "cell_type": "markdown",
      "metadata": {
        "id": "sDX6iLynCP_9",
        "colab_type": "text"
      },
      "source": [
        "# **Dictionary**"
      ]
    },
    {
      "cell_type": "markdown",
      "metadata": {
        "id": "BtT9SeQAqjFu",
        "colab_type": "text"
      },
      "source": [
        "In python its called a `dict`"
      ]
    },
    {
      "cell_type": "markdown",
      "metadata": {
        "id": "rIU-5IwGqoiX",
        "colab_type": "text"
      },
      "source": [
        "In other languages its called:"
      ]
    },
    {
      "cell_type": "markdown",
      "metadata": {
        "id": "TilowvtzCXFg",
        "colab_type": "text"
      },
      "source": [
        "* dictionary\n",
        "* associative array\n",
        "* map\n",
        "* hash table\n",
        "* hash\n",
        "* key-value pair"
      ]
    },
    {
      "cell_type": "markdown",
      "metadata": {
        "id": "569Hhjf1qvrO",
        "colab_type": "text"
      },
      "source": [
        "**Dictionary Constructions**"
      ]
    },
    {
      "cell_type": "code",
      "metadata": {
        "id": "7OC5Xd2iCjP5",
        "colab_type": "code",
        "colab": {}
      },
      "source": [
        "some_dict = {}"
      ],
      "execution_count": 0,
      "outputs": []
    },
    {
      "cell_type": "code",
      "metadata": {
        "id": "rDOlmWc9Czlo",
        "colab_type": "code",
        "colab": {}
      },
      "source": [
        "another_dict = dict()"
      ],
      "execution_count": 0,
      "outputs": []
    },
    {
      "cell_type": "code",
      "metadata": {
        "id": "wSnQOTNEC-Aa",
        "colab_type": "code",
        "colab": {}
      },
      "source": [
        "some_dict = {'key': 'value', \n",
        "             'key2':'Value2'}"
      ],
      "execution_count": 0,
      "outputs": []
    },
    {
      "cell_type": "code",
      "metadata": {
        "id": "1Mxr6lpjDL-j",
        "colab_type": "code",
        "colab": {}
      },
      "source": [
        "another_dict = {'age':5, \n",
        "                'Hair_color':'Brown',\n",
        "                'shoe_size':6}"
      ],
      "execution_count": 0,
      "outputs": []
    },
    {
      "cell_type": "code",
      "metadata": {
        "id": "KDwO5nmnEJdh",
        "colab_type": "code",
        "colab": {}
      },
      "source": [
        "player = dict(weapons=12, lives=5, food=['garri','rice','afofo'], maps=2)"
      ],
      "execution_count": 0,
      "outputs": []
    },
    {
      "cell_type": "code",
      "metadata": {
        "id": "3fIIydxmGUJO",
        "colab_type": "code",
        "outputId": "c81af5f6-5859-4a57-8d59-877f9198a25a",
        "colab": {
          "base_uri": "https://localhost:8080/",
          "height": 35
        }
      },
      "source": [
        "player"
      ],
      "execution_count": 0,
      "outputs": [
        {
          "output_type": "execute_result",
          "data": {
            "text/plain": [
              "{'food': ['garri', 'rice', 'afofo'], 'lives': 5, 'maps': 2, 'weapons': 12}"
            ]
          },
          "metadata": {
            "tags": []
          },
          "execution_count": 2
        }
      ]
    },
    {
      "cell_type": "markdown",
      "metadata": {
        "id": "gLIjMTCPGngP",
        "colab_type": "text"
      },
      "source": [
        "**Dictionary Indexing**"
      ]
    },
    {
      "cell_type": "code",
      "metadata": {
        "id": "cCrW0XmDHBA4",
        "colab_type": "code",
        "outputId": "7ca8f229-36d2-42b7-d366-07648365e0d1",
        "colab": {
          "base_uri": "https://localhost:8080/",
          "height": 35
        }
      },
      "source": [
        "player['food']"
      ],
      "execution_count": 0,
      "outputs": [
        {
          "output_type": "execute_result",
          "data": {
            "text/plain": [
              "['garri', 'rice', 'afofo']"
            ]
          },
          "metadata": {
            "tags": []
          },
          "execution_count": 3
        }
      ]
    },
    {
      "cell_type": "code",
      "metadata": {
        "id": "O0Nsh1c_HJ02",
        "colab_type": "code",
        "outputId": "0c248e70-23d8-42e9-a075-26ec531fff40",
        "colab": {
          "base_uri": "https://localhost:8080/",
          "height": 35
        }
      },
      "source": [
        "player['lives']"
      ],
      "execution_count": 0,
      "outputs": [
        {
          "output_type": "execute_result",
          "data": {
            "text/plain": [
              "5"
            ]
          },
          "metadata": {
            "tags": []
          },
          "execution_count": 4
        }
      ]
    },
    {
      "cell_type": "markdown",
      "metadata": {
        "id": "S1yWGHizsRje",
        "colab_type": "text"
      },
      "source": [
        "Keys can be any immutable:\n",
        "\n",
        "    * number\n",
        "    * string\n",
        "    * tuple"
      ]
    },
    {
      "cell_type": "code",
      "metadata": {
        "id": "RrPvWWd9Hthu",
        "colab_type": "code",
        "colab": {}
      },
      "source": [
        "d = {}"
      ],
      "execution_count": 0,
      "outputs": []
    },
    {
      "cell_type": "code",
      "metadata": {
        "id": "p7Nj8l4wHy5L",
        "colab_type": "code",
        "colab": {}
      },
      "source": [
        "d[3] = 'Somebody'"
      ],
      "execution_count": 0,
      "outputs": []
    },
    {
      "cell_type": "code",
      "metadata": {
        "id": "nacDIgXEH5rR",
        "colab_type": "code",
        "colab": {}
      },
      "source": [
        "d"
      ],
      "execution_count": 0,
      "outputs": []
    },
    {
      "cell_type": "code",
      "metadata": {
        "id": "ZgXprZA0IGSl",
        "colab_type": "code",
        "colab": {}
      },
      "source": [
        "d[(1,2,3)] = 'Three blind mice'"
      ],
      "execution_count": 0,
      "outputs": []
    },
    {
      "cell_type": "code",
      "metadata": {
        "id": "rVD44_pMIRNn",
        "colab_type": "code",
        "outputId": "d9c9865e-6715-4110-e23b-f174be597c0c",
        "colab": {
          "base_uri": "https://localhost:8080/",
          "height": 35
        }
      },
      "source": [
        "d"
      ],
      "execution_count": 0,
      "outputs": [
        {
          "output_type": "execute_result",
          "data": {
            "text/plain": [
              "{(1, 2, 3): 'Three blind mice', 3: 'Somebody'}"
            ]
          },
          "metadata": {
            "tags": []
          },
          "execution_count": 9
        }
      ]
    },
    {
      "cell_type": "code",
      "metadata": {
        "id": "Ex5ajPsKIcCd",
        "colab_type": "code",
        "colab": {}
      },
      "source": [
        "d[ [1,2,3] ] = 'Mr Kokoji'"
      ],
      "execution_count": 0,
      "outputs": []
    },
    {
      "cell_type": "code",
      "metadata": {
        "id": "T3NkInIqJ53z",
        "colab_type": "code",
        "colab": {}
      },
      "source": [
        "man = dict(name='Willy',age=100, hair='blond', eyes='brown', height=5.8)"
      ],
      "execution_count": 0,
      "outputs": []
    },
    {
      "cell_type": "code",
      "metadata": {
        "id": "9QjDqLNIKRbH",
        "colab_type": "code",
        "outputId": "81a1be4c-de8b-43b4-8ee4-7ebf31fea60b",
        "colab": {
          "base_uri": "https://localhost:8080/",
          "height": 35
        }
      },
      "source": [
        "man"
      ],
      "execution_count": 0,
      "outputs": [
        {
          "output_type": "execute_result",
          "data": {
            "text/plain": [
              "{'age': 100, 'eyes': 'brown', 'hair': 'blond', 'height': 5.8, 'name': 'Willy'}"
            ]
          },
          "metadata": {
            "tags": []
          },
          "execution_count": 13
        }
      ]
    },
    {
      "cell_type": "markdown",
      "metadata": {
        "id": "MrvXfEWytH_a",
        "colab_type": "text"
      },
      "source": [
        "Actually – any “hashable” type.\n",
        "\n",
        "Hash functions convert arbitrarily large data to a small proxy (usually int)\n",
        "\n",
        "Always return the same proxy for the same input\n",
        "\n",
        "MD5, SHA, etc\n",
        "\n",
        "Dictionaries hash the key to an integer proxy and use it to find the key and value.\n",
        "\n",
        "Key lookup is efficient because the hash function leads directly to a bucket with very few keys (often just one)\n",
        "\n",
        "What would happen if the proxy changed after storing a key?\n",
        "\n",
        "Hashability requires immutability\n",
        "\n",
        "Key lookup is very efficient\n",
        "\n",
        "Same average time regardless of size\n",
        "\n",
        "Note: Python name look-ups are implemented with dict – it’s highly optimized\n",
        "\n",
        "**Key to value:**\n",
        "\n",
        "   * lookup is one way\n",
        "\n",
        "**Value to key:**\n",
        "   * requires visiting the whole dict\n",
        "   \n",
        "If you need to check dict values often, create another dict or set (up to you to keep them in sync)"
      ]
    },
    {
      "cell_type": "markdown",
      "metadata": {
        "id": "KpTMHMIStsGg",
        "colab_type": "text"
      },
      "source": [
        "**Dictionary Ordering(Not)**"
      ]
    },
    {
      "cell_type": "markdown",
      "metadata": {
        "id": "dXz8_019tzkN",
        "colab_type": "text"
      },
      "source": [
        "Dictionaries have no defined order"
      ]
    },
    {
      "cell_type": "code",
      "metadata": {
        "id": "bKBNpbVAt5VA",
        "colab_type": "code",
        "colab": {}
      },
      "source": [
        "d = {'one':1, 'two':2, 'three':3}"
      ],
      "execution_count": 0,
      "outputs": []
    },
    {
      "cell_type": "code",
      "metadata": {
        "id": "JTr590jBuG7n",
        "colab_type": "code",
        "outputId": "8655473e-c8a0-4df6-a150-89784c1cd69b",
        "colab": {
          "base_uri": "https://localhost:8080/",
          "height": 34
        }
      },
      "source": [
        "d"
      ],
      "execution_count": 0,
      "outputs": [
        {
          "output_type": "execute_result",
          "data": {
            "text/plain": [
              "{'one': 1, 'three': 3, 'two': 2}"
            ]
          },
          "metadata": {
            "tags": []
          },
          "execution_count": 2
        }
      ]
    },
    {
      "cell_type": "code",
      "metadata": {
        "id": "fmFXjIh_uKXz",
        "colab_type": "code",
        "outputId": "f1ff2117-6800-4ebc-cd50-a4e5ac41e780",
        "colab": {
          "base_uri": "https://localhost:8080/",
          "height": 34
        }
      },
      "source": [
        "d.keys()"
      ],
      "execution_count": 0,
      "outputs": [
        {
          "output_type": "execute_result",
          "data": {
            "text/plain": [
              "dict_keys(['one', 'two', 'three'])"
            ]
          },
          "metadata": {
            "tags": []
          },
          "execution_count": 3
        }
      ]
    },
    {
      "cell_type": "markdown",
      "metadata": {
        "id": "uX_Mh6PpuPg8",
        "colab_type": "text"
      },
      "source": [
        "**Dictionary Iterating**"
      ]
    },
    {
      "cell_type": "markdown",
      "metadata": {
        "id": "RdDZfph5uWOV",
        "colab_type": "text"
      },
      "source": [
        "`for` loop iterates over the keys"
      ]
    },
    {
      "cell_type": "code",
      "metadata": {
        "id": "LmsUx1e4KX91",
        "colab_type": "code",
        "outputId": "ba4553fd-ac09-471c-e0e9-166698e0cd3a",
        "colab": {
          "base_uri": "https://localhost:8080/",
          "height": 104
        }
      },
      "source": [
        "for x  in man:\n",
        "  print(x)"
      ],
      "execution_count": 0,
      "outputs": [
        {
          "output_type": "stream",
          "text": [
            "name\n",
            "age\n",
            "hair\n",
            "eyes\n",
            "height\n"
          ],
          "name": "stdout"
        }
      ]
    },
    {
      "cell_type": "markdown",
      "metadata": {
        "id": "GB_UFJv5ui2-",
        "colab_type": "text"
      },
      "source": [
        "Not that the order is not the same as it was entered"
      ]
    },
    {
      "cell_type": "markdown",
      "metadata": {
        "id": "nqbu_I7dunTd",
        "colab_type": "text"
      },
      "source": [
        "**Dict Keys and values**"
      ]
    },
    {
      "cell_type": "code",
      "metadata": {
        "id": "tWvOEy7DKvR9",
        "colab_type": "code",
        "outputId": "a5ee4db4-64fc-43d4-fadf-8c94d066a452",
        "colab": {
          "base_uri": "https://localhost:8080/",
          "height": 35
        }
      },
      "source": [
        "man.keys()"
      ],
      "execution_count": 0,
      "outputs": [
        {
          "output_type": "execute_result",
          "data": {
            "text/plain": [
              "dict_keys(['name', 'age', 'hair', 'eyes', 'height'])"
            ]
          },
          "metadata": {
            "tags": []
          },
          "execution_count": 15
        }
      ]
    },
    {
      "cell_type": "code",
      "metadata": {
        "id": "6_8l1ACZK7jB",
        "colab_type": "code",
        "outputId": "4b06ccd3-c70d-4b14-d74b-22ae21af1eee",
        "colab": {
          "base_uri": "https://localhost:8080/",
          "height": 35
        }
      },
      "source": [
        "man.values()"
      ],
      "execution_count": 0,
      "outputs": [
        {
          "output_type": "execute_result",
          "data": {
            "text/plain": [
              "dict_values(['Willy', 100, 'blond', 'brown', 5.8])"
            ]
          },
          "metadata": {
            "tags": []
          },
          "execution_count": 16
        }
      ]
    },
    {
      "cell_type": "code",
      "metadata": {
        "id": "VNytTw35LLSG",
        "colab_type": "code",
        "outputId": "9f64caa2-c36f-4c64-a6c4-b596aa3c55be",
        "colab": {
          "base_uri": "https://localhost:8080/",
          "height": 55
        }
      },
      "source": [
        "man.items()"
      ],
      "execution_count": 0,
      "outputs": [
        {
          "output_type": "execute_result",
          "data": {
            "text/plain": [
              "dict_items([('name', 'Willy'), ('age', 100), ('hair', 'blond'), ('eyes', 'brown'), ('height', 5.8)])"
            ]
          },
          "metadata": {
            "tags": []
          },
          "execution_count": 17
        }
      ]
    },
    {
      "cell_type": "markdown",
      "metadata": {
        "id": "dIbaWoLQuv5s",
        "colab_type": "text"
      },
      "source": [
        "**Dict keys and values**"
      ]
    },
    {
      "cell_type": "markdown",
      "metadata": {
        "id": "qLijrJobu3An",
        "colab_type": "text"
      },
      "source": [
        "Iterating over everything"
      ]
    },
    {
      "cell_type": "code",
      "metadata": {
        "id": "iw-OK6gULaFZ",
        "colab_type": "code",
        "outputId": "a9c4009c-409b-491c-d1ce-3377969e61f6",
        "colab": {
          "base_uri": "https://localhost:8080/",
          "height": 104
        }
      },
      "source": [
        "for k, v in man.items():\n",
        "  print(v,':',k)"
      ],
      "execution_count": 0,
      "outputs": [
        {
          "output_type": "stream",
          "text": [
            "Willy : name\n",
            "100 : age\n",
            "blond : hair\n",
            "brown : eyes\n",
            "5.8 : height\n"
          ],
          "name": "stdout"
        }
      ]
    },
    {
      "cell_type": "markdown",
      "metadata": {
        "id": "E1r9GVisvArf",
        "colab_type": "text"
      },
      "source": [
        "**Dictionary Performance**"
      ]
    },
    {
      "cell_type": "markdown",
      "metadata": {
        "id": "6jLYb4MBvHDi",
        "colab_type": "text"
      },
      "source": [
        "* indexing is fast and constant time: O(1)\n",
        "* x in s constant time: O(1)\n",
        "* visiting all is proportional to n: O(n)\n",
        "* inserting is constant time: O(1)\n",
        "* deleting is constant time: O(1)"
      ]
    },
    {
      "cell_type": "markdown",
      "metadata": {
        "id": "vJuJ6P81vUEC",
        "colab_type": "text"
      },
      "source": [
        "**Other Dictionary Operations**"
      ]
    },
    {
      "cell_type": "markdown",
      "metadata": {
        "id": "XrHMKhTyvcrR",
        "colab_type": "text"
      },
      "source": [
        "is it in there? "
      ]
    },
    {
      "cell_type": "code",
      "metadata": {
        "id": "xqYO4ZA7MMWF",
        "colab_type": "code",
        "colab": {}
      },
      "source": [
        "'name' in man"
      ],
      "execution_count": 0,
      "outputs": []
    },
    {
      "cell_type": "code",
      "metadata": {
        "id": "-vUfwUJmMx6G",
        "colab_type": "code",
        "outputId": "273794dc-f4f4-4f70-d141-1fe6c00781c9",
        "colab": {
          "base_uri": "https://localhost:8080/",
          "height": 35
        }
      },
      "source": [
        "'gender' not in man"
      ],
      "execution_count": 0,
      "outputs": [
        {
          "output_type": "execute_result",
          "data": {
            "text/plain": [
              "True"
            ]
          },
          "metadata": {
            "tags": []
          },
          "execution_count": 23
        }
      ]
    },
    {
      "cell_type": "markdown",
      "metadata": {
        "id": "0FLua5tavlGS",
        "colab_type": "text"
      },
      "source": [
        "Containment is on the keys"
      ]
    },
    {
      "cell_type": "markdown",
      "metadata": {
        "id": "_oSG897NvqUr",
        "colab_type": "text"
      },
      "source": [
        "Getting some thing(like indexing)"
      ]
    },
    {
      "cell_type": "code",
      "metadata": {
        "id": "yr7UkeFeNKfR",
        "colab_type": "code",
        "colab": {}
      },
      "source": [
        "man.get('name')"
      ],
      "execution_count": 0,
      "outputs": []
    },
    {
      "cell_type": "code",
      "metadata": {
        "id": "eQ0Du1CYNeVv",
        "colab_type": "code",
        "outputId": "c86434ca-4399-41a7-b480-25464192b3d4",
        "colab": {
          "base_uri": "https://localhost:8080/",
          "height": 35
        }
      },
      "source": [
        "man.get('gender', 'male')"
      ],
      "execution_count": 0,
      "outputs": [
        {
          "output_type": "execute_result",
          "data": {
            "text/plain": [
              "'male'"
            ]
          },
          "metadata": {
            "tags": []
          },
          "execution_count": 25
        }
      ]
    },
    {
      "cell_type": "markdown",
      "metadata": {
        "id": "w_WZMISAv_ZU",
        "colab_type": "text"
      },
      "source": [
        "`pop` to remove an specific item"
      ]
    },
    {
      "cell_type": "code",
      "metadata": {
        "id": "ytqPbnBBPxUz",
        "colab_type": "code",
        "outputId": "5efb5300-bf33-469d-f132-969a812af871",
        "colab": {
          "base_uri": "https://localhost:8080/",
          "height": 35
        }
      },
      "source": [
        "man.pop('name')"
      ],
      "execution_count": 0,
      "outputs": [
        {
          "output_type": "execute_result",
          "data": {
            "text/plain": [
              "'Willy'"
            ]
          },
          "metadata": {
            "tags": []
          },
          "execution_count": 27
        }
      ]
    },
    {
      "cell_type": "code",
      "metadata": {
        "id": "rPRHrf8QP3MV",
        "colab_type": "code",
        "outputId": "4347699b-faf8-4491-ec37-9eebc6f0d99a",
        "colab": {
          "base_uri": "https://localhost:8080/",
          "height": 35
        }
      },
      "source": [
        "man"
      ],
      "execution_count": 0,
      "outputs": [
        {
          "output_type": "execute_result",
          "data": {
            "text/plain": [
              "{'age': 100, 'eyes': 'brown', 'hair': 'blond', 'height': 5.8}"
            ]
          },
          "metadata": {
            "tags": []
          },
          "execution_count": 28
        }
      ]
    },
    {
      "cell_type": "markdown",
      "metadata": {
        "id": "LLN1YChSwGOG",
        "colab_type": "text"
      },
      "source": [
        "`popitem` to remove an arbitrary item "
      ]
    },
    {
      "cell_type": "code",
      "metadata": {
        "id": "K56cBfCVQEgw",
        "colab_type": "code",
        "outputId": "d1e3e635-9f99-4aa0-cc1a-71413c487d0b",
        "colab": {
          "base_uri": "https://localhost:8080/",
          "height": 35
        }
      },
      "source": [
        "man.popitem()"
      ],
      "execution_count": 0,
      "outputs": [
        {
          "output_type": "execute_result",
          "data": {
            "text/plain": [
              "('height', 5.8)"
            ]
          },
          "metadata": {
            "tags": []
          },
          "execution_count": 29
        }
      ]
    },
    {
      "cell_type": "code",
      "metadata": {
        "id": "iNXXSb1LQEWM",
        "colab_type": "code",
        "outputId": "fc685619-cb7e-48a9-8574-ae6f6219ade0",
        "colab": {
          "base_uri": "https://localhost:8080/",
          "height": 35
        }
      },
      "source": [
        "man"
      ],
      "execution_count": 0,
      "outputs": [
        {
          "output_type": "execute_result",
          "data": {
            "text/plain": [
              "{'age': 100, 'eyes': 'brown', 'hair': 'blond'}"
            ]
          },
          "metadata": {
            "tags": []
          },
          "execution_count": 30
        }
      ]
    },
    {
      "cell_type": "markdown",
      "metadata": {
        "id": "6KpnMLH4wnca",
        "colab_type": "text"
      },
      "source": [
        "`setdefault` sets a value if tis there and the default if its not"
      ]
    },
    {
      "cell_type": "code",
      "metadata": {
        "id": "pAsiaLgtRHgN",
        "colab_type": "code",
        "colab": {}
      },
      "source": [
        "woman = {}"
      ],
      "execution_count": 0,
      "outputs": []
    },
    {
      "cell_type": "code",
      "metadata": {
        "id": "6HqtxGwmRNay",
        "colab_type": "code",
        "colab": {}
      },
      "source": [
        "woman.setdefault('likes',[])"
      ],
      "execution_count": 0,
      "outputs": []
    },
    {
      "cell_type": "code",
      "metadata": {
        "id": "i2yHHFy7jeco",
        "colab_type": "code",
        "colab": {}
      },
      "source": [
        "woman.setdefault('age',25)"
      ],
      "execution_count": 0,
      "outputs": []
    },
    {
      "cell_type": "code",
      "metadata": {
        "id": "ce77yNkMj0Mf",
        "colab_type": "code",
        "colab": {}
      },
      "source": [
        "woman.setdefault('something','something_else')"
      ],
      "execution_count": 0,
      "outputs": []
    },
    {
      "cell_type": "markdown",
      "metadata": {
        "id": "EoGdLVSMkn5R",
        "colab_type": "text"
      },
      "source": [
        "# **Sets**"
      ]
    },
    {
      "cell_type": "markdown",
      "metadata": {
        "id": "5zWfp6_Ek9kL",
        "colab_type": "text"
      },
      "source": [
        "`set`is an unordered collection of distinct values\n",
        "\n",
        "Essentially a dict with only keys"
      ]
    },
    {
      "cell_type": "markdown",
      "metadata": {
        "id": "cqF583uPxi8n",
        "colab_type": "text"
      },
      "source": [
        "**Set Constructors**"
      ]
    },
    {
      "cell_type": "code",
      "metadata": {
        "id": "TaK4uLJtktqu",
        "colab_type": "code",
        "colab": {}
      },
      "source": [
        "alist = [1, 3, 4, 5, 1, 3, 7, 10, 'James']"
      ],
      "execution_count": 0,
      "outputs": []
    },
    {
      "cell_type": "code",
      "metadata": {
        "id": "xPGJJIZRltpr",
        "colab_type": "code",
        "colab": {}
      },
      "source": [
        "cars = set()"
      ],
      "execution_count": 0,
      "outputs": []
    },
    {
      "cell_type": "code",
      "metadata": {
        "id": "2ouhHWU4mDLE",
        "colab_type": "code",
        "colab": {}
      },
      "source": [
        "cars"
      ],
      "execution_count": 0,
      "outputs": []
    },
    {
      "cell_type": "code",
      "metadata": {
        "id": "4SRzq1iimMbc",
        "colab_type": "code",
        "colab": {}
      },
      "source": [
        "cars.update(['Benz', 'Bimmer', 'Range', 'Audi'])"
      ],
      "execution_count": 0,
      "outputs": []
    },
    {
      "cell_type": "code",
      "metadata": {
        "id": "QQGCHvBtmcuj",
        "colab_type": "code",
        "outputId": "a3322768-d4f7-4bc3-9f15-4f75f9c3f933",
        "colab": {
          "base_uri": "https://localhost:8080/",
          "height": 34
        }
      },
      "source": [
        "cars"
      ],
      "execution_count": 0,
      "outputs": [
        {
          "output_type": "execute_result",
          "data": {
            "text/plain": [
              "{'Audi', 'Benz', 'Bimmer', 'Range'}"
            ]
          },
          "metadata": {
            "tags": []
          },
          "execution_count": 9
        }
      ]
    },
    {
      "cell_type": "code",
      "metadata": {
        "id": "IzA_aDQtl1a2",
        "colab_type": "code",
        "colab": {}
      },
      "source": [
        "boats = set([])"
      ],
      "execution_count": 0,
      "outputs": []
    },
    {
      "cell_type": "code",
      "metadata": {
        "id": "lfRII3KdmHuc",
        "colab_type": "code",
        "colab": {}
      },
      "source": [
        "boats"
      ],
      "execution_count": 0,
      "outputs": []
    },
    {
      "cell_type": "code",
      "metadata": {
        "id": "hlnlTHNLmioT",
        "colab_type": "code",
        "colab": {}
      },
      "source": [
        "boats.update(['yamaha', 'kawasaki', 'toyota', 'yamaha', 'toyota'])"
      ],
      "execution_count": 0,
      "outputs": []
    },
    {
      "cell_type": "code",
      "metadata": {
        "id": "hxu_AVskmyEX",
        "colab_type": "code",
        "outputId": "80280916-a683-4e80-88be-8db4178aa677",
        "colab": {
          "base_uri": "https://localhost:8080/",
          "height": 34
        }
      },
      "source": [
        "boats"
      ],
      "execution_count": 0,
      "outputs": [
        {
          "output_type": "execute_result",
          "data": {
            "text/plain": [
              "{'kawasaki', 'toyota', 'yamaha'}"
            ]
          },
          "metadata": {
            "tags": []
          },
          "execution_count": 11
        }
      ]
    },
    {
      "cell_type": "markdown",
      "metadata": {
        "id": "gndf0s7YnmJ9",
        "colab_type": "text"
      },
      "source": [
        "**Set Properties**"
      ]
    },
    {
      "cell_type": "markdown",
      "metadata": {
        "id": "rO1o7rK7nrbe",
        "colab_type": "text"
      },
      "source": [
        "sets must be hashable\n",
        "\n",
        "Like dictionary keys – and for same reason (efficient lookup)\n",
        "\n",
        "No indexing (unordered)"
      ]
    },
    {
      "cell_type": "markdown",
      "metadata": {
        "id": "b69Vj_IkocT4",
        "colab_type": "text"
      },
      "source": [
        "**Set Methods**"
      ]
    },
    {
      "cell_type": "markdown",
      "metadata": {
        "id": "a1CHwdjnonNm",
        "colab_type": "text"
      },
      "source": [
        "`.pop()` "
      ]
    },
    {
      "cell_type": "code",
      "metadata": {
        "id": "PvmR-jZaownH",
        "colab_type": "code",
        "outputId": "bf0ff960-bcb4-4ad8-ef18-f179c684c422",
        "colab": {
          "base_uri": "https://localhost:8080/",
          "height": 34
        }
      },
      "source": [
        "cars.pop()"
      ],
      "execution_count": 0,
      "outputs": [
        {
          "output_type": "execute_result",
          "data": {
            "text/plain": [
              "'Audi'"
            ]
          },
          "metadata": {
            "tags": []
          },
          "execution_count": 12
        }
      ]
    },
    {
      "cell_type": "markdown",
      "metadata": {
        "id": "tzK3ZSTSpCua",
        "colab_type": "text"
      },
      "source": [
        ".pop does not work on empty sets."
      ]
    },
    {
      "cell_type": "markdown",
      "metadata": {
        "id": "VVUe__umpQwy",
        "colab_type": "text"
      },
      "source": [
        "`.remove()`"
      ]
    },
    {
      "cell_type": "code",
      "metadata": {
        "id": "ziHUHwG-pUzU",
        "colab_type": "code",
        "colab": {}
      },
      "source": [
        "cars.remove('Range')"
      ],
      "execution_count": 0,
      "outputs": []
    },
    {
      "cell_type": "code",
      "metadata": {
        "id": "ENXIf0bbphJb",
        "colab_type": "code",
        "outputId": "dccd991b-2ff1-49c2-bd33-0402ce099626",
        "colab": {
          "base_uri": "https://localhost:8080/",
          "height": 34
        }
      },
      "source": [
        "cars"
      ],
      "execution_count": 0,
      "outputs": [
        {
          "output_type": "execute_result",
          "data": {
            "text/plain": [
              "{'Benz', 'Bimmer'}"
            ]
          },
          "metadata": {
            "tags": []
          },
          "execution_count": 15
        }
      ]
    },
    {
      "cell_type": "code",
      "metadata": {
        "id": "t7_KQCpdpk7H",
        "colab_type": "code",
        "colab": {}
      },
      "source": [
        "cars.remove('Range')"
      ],
      "execution_count": 0,
      "outputs": []
    },
    {
      "cell_type": "markdown",
      "metadata": {
        "id": "-xhGU8-dyRu8",
        "colab_type": "text"
      },
      "source": [
        "**All the set operations from Arithmetic class also work**"
      ]
    },
    {
      "cell_type": "markdown",
      "metadata": {
        "id": "WT_QvA2Mp5Oz",
        "colab_type": "text"
      },
      "source": [
        "s.isdisjoint(other)\n",
        "\n",
        "s.issubset(other)\n",
        "\n",
        "s.union(other, ...)\n",
        "\n",
        "s.intersection(other, ...)\n",
        "\n",
        "s.difference(other, ...)\n",
        "\n",
        "s.symmetric_difference( other, ...)"
      ]
    },
    {
      "cell_type": "markdown",
      "metadata": {
        "id": "L-74SQIsqNI_",
        "colab_type": "text"
      },
      "source": [
        "**Frozen Set**"
      ]
    },
    {
      "cell_type": "markdown",
      "metadata": {
        "id": "UpHaqxdLqqNR",
        "colab_type": "text"
      },
      "source": [
        "immutable – for use as a key in a dict (or another set...)"
      ]
    },
    {
      "cell_type": "code",
      "metadata": {
        "id": "pla5RIg5qvLU",
        "colab_type": "code",
        "colab": {}
      },
      "source": [
        "fs = frozenset([1,2,3])"
      ],
      "execution_count": 0,
      "outputs": []
    },
    {
      "cell_type": "code",
      "metadata": {
        "id": "-A5ri5HCq4JE",
        "colab_type": "code",
        "outputId": "84f26268-2e68-42ee-981d-115a8fa53d48",
        "colab": {
          "base_uri": "https://localhost:8080/",
          "height": 163
        }
      },
      "source": [
        "fs.add(9)"
      ],
      "execution_count": 0,
      "outputs": [
        {
          "output_type": "error",
          "ename": "AttributeError",
          "evalue": "ignored",
          "traceback": [
            "\u001b[0;31m---------------------------------------------------------------------------\u001b[0m",
            "\u001b[0;31mAttributeError\u001b[0m                            Traceback (most recent call last)",
            "\u001b[0;32m<ipython-input-20-2bcda275ef7c>\u001b[0m in \u001b[0;36m<module>\u001b[0;34m()\u001b[0m\n\u001b[0;32m----> 1\u001b[0;31m \u001b[0mfs\u001b[0m\u001b[0;34m.\u001b[0m\u001b[0madd\u001b[0m\u001b[0;34m(\u001b[0m\u001b[0;36m9\u001b[0m\u001b[0;34m)\u001b[0m\u001b[0;34m\u001b[0m\u001b[0;34m\u001b[0m\u001b[0m\n\u001b[0m",
            "\u001b[0;31mAttributeError\u001b[0m: 'frozenset' object has no attribute 'add'"
          ]
        }
      ]
    },
    {
      "cell_type": "markdown",
      "metadata": {
        "id": "CJj2mwu2rKh7",
        "colab_type": "text"
      },
      "source": [
        "# **Exceptions**"
      ]
    },
    {
      "cell_type": "markdown",
      "metadata": {
        "id": "8rUyTyThr2og",
        "colab_type": "text"
      },
      "source": [
        "Another Branching structure:\n",
        "\n",
        "uses `try` keyword\n"
      ]
    },
    {
      "cell_type": "code",
      "metadata": {
        "id": "6gwmDa5LsCKr",
        "colab_type": "code",
        "colab": {}
      },
      "source": [
        "try:\n",
        "  do_something()\n",
        "  open_file()\n",
        "except IOError:\n",
        "  print('There is no file to open')"
      ],
      "execution_count": 0,
      "outputs": []
    },
    {
      "cell_type": "markdown",
      "metadata": {
        "id": "esHWhTcStgEU",
        "colab_type": "text"
      },
      "source": [
        "Never Do this:"
      ]
    },
    {
      "cell_type": "code",
      "metadata": {
        "id": "zx3owiZutfVJ",
        "colab_type": "code",
        "colab": {}
      },
      "source": [
        "try:\n",
        "  do_comething()\n",
        "  blah_blah_blah\n",
        "except:\n",
        "  print('Houston we have problem!')"
      ],
      "execution_count": 0,
      "outputs": []
    },
    {
      "cell_type": "markdown",
      "metadata": {
        "id": "cMEag-ZCuWrW",
        "colab_type": "text"
      },
      "source": [
        "Use Exceptions, rather than your own tests:"
      ]
    },
    {
      "cell_type": "markdown",
      "metadata": {
        "id": "VA5ME9coy5gc",
        "colab_type": "text"
      },
      "source": [
        "Don't do this!"
      ]
    },
    {
      "cell_type": "code",
      "metadata": {
        "id": "K1PKAwsVufN5",
        "colab_type": "code",
        "colab": {}
      },
      "source": [
        "do_something()\n",
        "if os.path.exists('missing.txt'):\n",
        "  f.open('missing.txt')"
      ],
      "execution_count": 0,
      "outputs": []
    },
    {
      "cell_type": "markdown",
      "metadata": {
        "id": "rAX_VLWVvMss",
        "colab_type": "text"
      },
      "source": [
        "It will almost always work – but the almost will drive you crazy"
      ]
    },
    {
      "cell_type": "markdown",
      "metadata": {
        "id": "CTbTw9FOzExA",
        "colab_type": "text"
      },
      "source": [
        "what you should do is more like this:"
      ]
    },
    {
      "cell_type": "code",
      "metadata": {
        "id": "S1uXZgdGzEHp",
        "colab_type": "code",
        "colab": {}
      },
      "source": [
        "try:\n",
        "  num_in = int(num_in)\n",
        "except ValueError:\n",
        "  print('Input must be an integer, try again')"
      ],
      "execution_count": 0,
      "outputs": []
    },
    {
      "cell_type": "markdown",
      "metadata": {
        "id": "en1QYMqFzkoU",
        "colab_type": "text"
      },
      "source": [
        "or just let python raise an exception, since its better to get forgivness than ask for permission. \n",
        "\n",
        "For simple scripts, let exceptions happen\n",
        "\n",
        "Only handle the exception if the code can and will do something about it.\n",
        "\n",
        "(much better debugging info when an error does occur)"
      ]
    },
    {
      "cell_type": "markdown",
      "metadata": {
        "id": "rI_kVe3Zv8CT",
        "colab_type": "text"
      },
      "source": [
        "**Finally block**"
      ]
    },
    {
      "cell_type": "code",
      "metadata": {
        "id": "53ptWVo9wHWv",
        "colab_type": "code",
        "colab": {}
      },
      "source": [
        "try:\n",
        "  do_something()\n",
        "except AttributeError:\n",
        "  print('Houston, Money no correct')\n",
        "finally:\n",
        "  do_somethig_esle()"
      ],
      "execution_count": 0,
      "outputs": []
    },
    {
      "cell_type": "markdown",
      "metadata": {
        "id": "v1x3SOCGwjZt",
        "colab_type": "text"
      },
      "source": [
        "The finally: clause will always run"
      ]
    },
    {
      "cell_type": "markdown",
      "metadata": {
        "id": "zBNyafTaxEwz",
        "colab_type": "text"
      },
      "source": [
        "**Else Block**"
      ]
    },
    {
      "cell_type": "code",
      "metadata": {
        "id": "tD6ZmbWaxapi",
        "colab_type": "code",
        "colab": {}
      },
      "source": [
        "try:\n",
        "  do_something()\n",
        "except ZeroDivisionError:\n",
        "  print('You cannot divide by zero')\n",
        "else:\n",
        "  print('No way you don divide wetin do?')"
      ],
      "execution_count": 0,
      "outputs": []
    },
    {
      "cell_type": "markdown",
      "metadata": {
        "id": "EEAJLs4A0Q8B",
        "colab_type": "text"
      },
      "source": [
        "Advantage:\n",
        "\n",
        "you know where the Exception came from"
      ]
    },
    {
      "cell_type": "markdown",
      "metadata": {
        "id": "NTfoTjVgyMq9",
        "colab_type": "text"
      },
      "source": [
        "**full except statement**"
      ]
    },
    {
      "cell_type": "code",
      "metadata": {
        "id": "DhEeSr-UyTyQ",
        "colab_type": "code",
        "colab": {}
      },
      "source": [
        "def open_a_file(filename):\n",
        "  try:\n",
        "    with open(filname) as f:\n",
        "      f.read()\n",
        "  except IOError:\n",
        "    print(f'There is no file here called {filename}')\n",
        "  else:\n",
        "    print('The file has been opened, Now what?')\n",
        "  finally:\n",
        "    print('Houston, We are ready to move to the next task!')  "
      ],
      "execution_count": 0,
      "outputs": []
    },
    {
      "cell_type": "markdown",
      "metadata": {
        "id": "rZelTVbS0suu",
        "colab_type": "text"
      },
      "source": [
        "**Using Exceptions**"
      ]
    },
    {
      "cell_type": "code",
      "metadata": {
        "id": "N7mr-4UZ02uz",
        "colab_type": "code",
        "colab": {}
      },
      "source": [
        "try:\n",
        "  do_something() #lets assume we are opening a file\n",
        "except IOError as error:\n",
        "  print(error)\n",
        "  error.get_additional_info = 'some other inforation'\n",
        "  raise\n",
        "except KeyError as error2:\n",
        "  print(error)\n",
        "  error.get_additional_info = 'some other inforation'\n",
        "  raise"
      ],
      "execution_count": 0,
      "outputs": []
    },
    {
      "cell_type": "code",
      "metadata": {
        "id": "j0G5ugrr3r_p",
        "colab_type": "code",
        "colab": {}
      },
      "source": [
        "except (IOError, BufferError, OSError) as the_error:\n",
        "      print(error)\n",
        "      error.get_additional_info = 'some other inforation'\n",
        "      raise"
      ],
      "execution_count": 0,
      "outputs": []
    },
    {
      "cell_type": "markdown",
      "metadata": {
        "id": "S16KUhQt3NZh",
        "colab_type": "text"
      },
      "source": [
        "**Raising Exceptions**"
      ]
    },
    {
      "cell_type": "code",
      "metadata": {
        "id": "O2ifEjA53iJk",
        "colab_type": "code",
        "colab": {}
      },
      "source": [
        "def divide(a,b):\n",
        "  if b == 0:\n",
        "    raise ZeroDivisionError('b cannot be zero')\n",
        "  else:\n",
        "    return a / b"
      ],
      "execution_count": 0,
      "outputs": []
    },
    {
      "cell_type": "markdown",
      "metadata": {
        "id": "DLTm9Sr-4Ed8",
        "colab_type": "text"
      },
      "source": [
        "if you call it: "
      ]
    },
    {
      "cell_type": "code",
      "metadata": {
        "id": "nlOb0Mcv4DHW",
        "colab_type": "code",
        "outputId": "3c964975-3973-4854-a795-51ce7c817cfa",
        "colab": {
          "base_uri": "https://localhost:8080/",
          "height": 298
        }
      },
      "source": [
        "divide(12, 0)"
      ],
      "execution_count": 0,
      "outputs": [
        {
          "output_type": "error",
          "ename": "ZeroDivisionError",
          "evalue": "ignored",
          "traceback": [
            "\u001b[0;31m---------------------------------------------------------------------------\u001b[0m",
            "\u001b[0;31mZeroDivisionError\u001b[0m                         Traceback (most recent call last)",
            "\u001b[0;32m<ipython-input-2-be725dd0f96b>\u001b[0m in \u001b[0;36m<module>\u001b[0;34m()\u001b[0m\n\u001b[0;32m----> 1\u001b[0;31m \u001b[0mdivide\u001b[0m\u001b[0;34m(\u001b[0m\u001b[0;36m12\u001b[0m\u001b[0;34m,\u001b[0m \u001b[0;36m0\u001b[0m\u001b[0;34m)\u001b[0m\u001b[0;34m\u001b[0m\u001b[0;34m\u001b[0m\u001b[0m\n\u001b[0m",
            "\u001b[0;32m<ipython-input-1-3146d8ba7272>\u001b[0m in \u001b[0;36mdivide\u001b[0;34m(a, b)\u001b[0m\n\u001b[1;32m      1\u001b[0m \u001b[0;32mdef\u001b[0m \u001b[0mdivide\u001b[0m\u001b[0;34m(\u001b[0m\u001b[0ma\u001b[0m\u001b[0;34m,\u001b[0m\u001b[0mb\u001b[0m\u001b[0;34m)\u001b[0m\u001b[0;34m:\u001b[0m\u001b[0;34m\u001b[0m\u001b[0;34m\u001b[0m\u001b[0m\n\u001b[1;32m      2\u001b[0m   \u001b[0;32mif\u001b[0m \u001b[0mb\u001b[0m \u001b[0;34m==\u001b[0m \u001b[0;36m0\u001b[0m\u001b[0;34m:\u001b[0m\u001b[0;34m\u001b[0m\u001b[0;34m\u001b[0m\u001b[0m\n\u001b[0;32m----> 3\u001b[0;31m     \u001b[0;32mraise\u001b[0m \u001b[0mZeroDivisionError\u001b[0m\u001b[0;34m(\u001b[0m\u001b[0;34m'b cannot be zero'\u001b[0m\u001b[0;34m)\u001b[0m\u001b[0;34m\u001b[0m\u001b[0;34m\u001b[0m\u001b[0m\n\u001b[0m\u001b[1;32m      4\u001b[0m   \u001b[0;32melse\u001b[0m\u001b[0;34m:\u001b[0m\u001b[0;34m\u001b[0m\u001b[0;34m\u001b[0m\u001b[0m\n\u001b[1;32m      5\u001b[0m     \u001b[0;32mreturn\u001b[0m \u001b[0ma\u001b[0m \u001b[0;34m/\u001b[0m \u001b[0mb\u001b[0m\u001b[0;34m\u001b[0m\u001b[0;34m\u001b[0m\u001b[0m\n",
            "\u001b[0;31mZeroDivisionError\u001b[0m: b cannot be zero"
          ]
        }
      ]
    },
    {
      "cell_type": "code",
      "metadata": {
        "id": "GnFG32WO4aYN",
        "colab_type": "code",
        "outputId": "3e7654af-aa46-4085-b016-b18563c182de",
        "colab": {
          "base_uri": "https://localhost:8080/",
          "height": 34
        }
      },
      "source": [
        "divide(12,2)"
      ],
      "execution_count": 0,
      "outputs": [
        {
          "output_type": "execute_result",
          "data": {
            "text/plain": [
              "6.0"
            ]
          },
          "metadata": {
            "tags": []
          },
          "execution_count": 3
        }
      ]
    },
    {
      "cell_type": "markdown",
      "metadata": {
        "id": "xk7VmeOA4_FV",
        "colab_type": "text"
      },
      "source": [
        "**Builtin Exceptions**"
      ]
    },
    {
      "cell_type": "markdown",
      "metadata": {
        "id": "qhQJfC5Z5oLr",
        "colab_type": "text"
      },
      "source": [
        "always use the built in Exceptions for error handling\n",
        "\n",
        "You can write your own exceptions but its better to use one of the built in ones\n",
        "\n",
        "if you are going to write one of your own, make sure there is not one already similar in the built in pile so that you don't reinvent the wheel. \n",
        "\n",
        "if you have more than one exception, always use the one that matches the most to the problem you are trying to catch. "
      ]
    },
    {
      "cell_type": "markdown",
      "metadata": {
        "id": "VoVbjPjq6Oyh",
        "colab_type": "text"
      },
      "source": [
        "# **File Reading and Writing**"
      ]
    },
    {
      "cell_type": "markdown",
      "metadata": {
        "id": "GRZSDomz0rHt",
        "colab_type": "text"
      },
      "source": [
        "**Files**\n",
        "\n",
        "Text files"
      ]
    },
    {
      "cell_type": "markdown",
      "metadata": {
        "id": "eyj83HCw-McR",
        "colab_type": "text"
      },
      "source": [
        "`with` keyword "
      ]
    },
    {
      "cell_type": "code",
      "metadata": {
        "id": "Rt8sPREl-Jvn",
        "colab_type": "code",
        "colab": {}
      },
      "source": [
        "with open('somefile.txt', 'r') as f:\n",
        "  f.read()"
      ],
      "execution_count": 0,
      "outputs": []
    },
    {
      "cell_type": "markdown",
      "metadata": {
        "id": "VdLls5vWD3qR",
        "colab_type": "text"
      },
      "source": [
        "in the olden days, this is what we used to do ... do not try this at home .. unless you know what you are doing!"
      ]
    },
    {
      "cell_type": "code",
      "metadata": {
        "id": "1zmHaO5HD_hz",
        "colab_type": "code",
        "colab": {}
      },
      "source": [
        "f = open('somefile.txt')\n",
        "contents = f.read()\n",
        "f.close()"
      ],
      "execution_count": 0,
      "outputs": []
    },
    {
      "cell_type": "markdown",
      "metadata": {
        "id": "EWPKPRdVEkHB",
        "colab_type": "text"
      },
      "source": [
        "the read and write modes of a file are:"
      ]
    },
    {
      "cell_type": "code",
      "metadata": {
        "id": "q07VhAM2Es2u",
        "colab_type": "code",
        "colab": {}
      },
      "source": [
        "with open('somefile.txt', [mode=])\n",
        "'r', 'w', 'a'\n",
        "'rb', 'wb', 'ab'"
      ],
      "execution_count": 0,
      "outputs": []
    },
    {
      "cell_type": "markdown",
      "metadata": {
        "id": "UVsi4U_O1B3L",
        "colab_type": "text"
      },
      "source": [
        "Text is the default\n",
        "\n",
        "* Newlines are translated: `\\r\\n -> \\n`\n",
        "* – reading and writing!\n",
        "* Use *nix-style in your code: `\\n`\n",
        "* Open text files with 'U' “Universal” flag"
      ]
    },
    {
      "cell_type": "markdown",
      "metadata": {
        "id": "Wm0C20A_1cX1",
        "colab_type": "text"
      },
      "source": [
        "No difference between text and binary files on unix and linux systems\n",
        "breaks on windows systems"
      ]
    },
    {
      "cell_type": "markdown",
      "metadata": {
        "id": "IaXJ9IIGF5_4",
        "colab_type": "text"
      },
      "source": [
        "**Reading files(partly)**"
      ]
    },
    {
      "cell_type": "code",
      "metadata": {
        "id": "zIUhXqsyGEOV",
        "colab_type": "code",
        "colab": {}
      },
      "source": [
        "with open('somefile.txt', 'r') as f:\n",
        "  while True:\n",
        "    line = f.readline()\n",
        "    if not line:\n",
        "      break\n",
        "    do_something_with_the_line()"
      ],
      "execution_count": 0,
      "outputs": []
    },
    {
      "cell_type": "code",
      "metadata": {
        "id": "jYtcwSwyGu4S",
        "colab_type": "code",
        "colab": {}
      },
      "source": [
        "for line in with open('somefile.txt', 'r') as f:\n",
        "  print(line)"
      ],
      "execution_count": 0,
      "outputs": []
    },
    {
      "cell_type": "markdown",
      "metadata": {
        "id": "KDDqJO-OI5q3",
        "colab_type": "text"
      },
      "source": [
        "**Writing to files**"
      ]
    },
    {
      "cell_type": "code",
      "metadata": {
        "id": "v-bKmSYOJE_t",
        "colab_type": "code",
        "colab": {}
      },
      "source": [
        "with open('somefile.txt','w') as f:\n",
        "  f.write('john is a boy')"
      ],
      "execution_count": 0,
      "outputs": []
    },
    {
      "cell_type": "code",
      "metadata": {
        "id": "YgwbxtIEJcqY",
        "colab_type": "code",
        "colab": {}
      },
      "source": [
        "with open('somefile.txt', 'w') as f:\n",
        "  for i in range(10):\n",
        "    f.write(f'2 time one is {i}')"
      ],
      "execution_count": 0,
      "outputs": []
    },
    {
      "cell_type": "markdown",
      "metadata": {
        "id": "qbj410FY11r5",
        "colab_type": "text"
      },
      "source": [
        "**File Methods**"
      ]
    },
    {
      "cell_type": "markdown",
      "metadata": {
        "id": "4hFRTLSp2DCI",
        "colab_type": "text"
      },
      "source": [
        "commonly used methods"
      ]
    },
    {
      "cell_type": "code",
      "metadata": {
        "id": "7SljLSTe17UG",
        "colab_type": "code",
        "colab": {}
      },
      "source": [
        "f.read() #will dump the entire contents of a file\n",
        "f.readline()  # will read one line at time\n",
        "f.readlines() # will read the whole file till the end and then dump the contents\n",
        "# into a variable\n",
        "\n",
        "f.write(str) # takes a string and writes it into file\n",
        "f.writelines(seq) # takes a sequence and writes it to a file on new  lines\n",
        "\n",
        "f.seek(offset) #sets the position of the writer at the offset\n",
        "f.tell() #tells you the current position of the write pointer\n",
        "\n",
        "f.flush() #flushes the internal buffers\n",
        "\n",
        "f.close() #you don't need this if you use with"
      ],
      "execution_count": 0,
      "outputs": []
    },
    {
      "cell_type": "markdown",
      "metadata": {
        "id": "cQw6O7Mn-_7Y",
        "colab_type": "text"
      },
      "source": [
        "**Another way to write to files**"
      ]
    },
    {
      "cell_type": "code",
      "metadata": {
        "id": "mW2FpGOt_RWc",
        "colab_type": "code",
        "colab": {}
      },
      "source": [
        "with open('somefile.txt') as f:\n",
        "  print('John is a boy', file=f)"
      ],
      "execution_count": 0,
      "outputs": []
    },
    {
      "cell_type": "markdown",
      "metadata": {
        "id": "sHahLoKu3I_T",
        "colab_type": "text"
      },
      "source": [
        "**File Like Objects**\n"
      ]
    },
    {
      "cell_type": "markdown",
      "metadata": {
        "id": "glyYppMJ3Pqz",
        "colab_type": "text"
      },
      "source": [
        "Many classes implement the file interface:"
      ]
    },
    {
      "cell_type": "markdown",
      "metadata": {
        "id": "V0jt0ZwL3TUN",
        "colab_type": "text"
      },
      "source": [
        "* loggers\n",
        "* `sys.stdout`\n",
        "* `urllib.open()`\n",
        "* pipes, subprocesses\n",
        "* StringIO"
      ]
    },
    {
      "cell_type": "markdown",
      "metadata": {
        "id": "FXby6A3T40Mc",
        "colab_type": "text"
      },
      "source": [
        "**Paths and Directories**"
      ]
    },
    {
      "cell_type": "markdown",
      "metadata": {
        "id": "dZJjfRKf5BlX",
        "colab_type": "text"
      },
      "source": [
        "**Paths**\n",
        "\n",
        "relative paths"
      ]
    },
    {
      "cell_type": "code",
      "metadata": {
        "id": "XhUFS14c5Oix",
        "colab_type": "code",
        "colab": {}
      },
      "source": [
        "'somefile.txt'\n",
        "'./somefile.txt'"
      ],
      "execution_count": 0,
      "outputs": []
    },
    {
      "cell_type": "markdown",
      "metadata": {
        "id": "db7worps5Wwo",
        "colab_type": "text"
      },
      "source": [
        "absolute paths"
      ]
    },
    {
      "cell_type": "code",
      "metadata": {
        "id": "GBf4srcG5cG1",
        "colab_type": "code",
        "colab": {}
      },
      "source": [
        "'/home/wtakang/somefile.txt'"
      ],
      "execution_count": 0,
      "outputs": []
    },
    {
      "cell_type": "markdown",
      "metadata": {
        "id": "YD9wBRro5jJP",
        "colab_type": "text"
      },
      "source": [
        "you can use either with `open()`\n",
        "\n",
        "(working directory only makes sense with command-line programs...)"
      ]
    },
    {
      "cell_type": "markdown",
      "metadata": {
        "id": "kYt7q5Zx5zTM",
        "colab_type": "text"
      },
      "source": [
        "**OS Module**"
      ]
    },
    {
      "cell_type": "code",
      "metadata": {
        "id": "IiMs6Qgt58ph",
        "colab_type": "code",
        "colab": {}
      },
      "source": [
        "os.getcwd() -- os.getcwdu()\n",
        "chdir(path)\n",
        "os.path.abspath()\n",
        "os.path.relpath()￼"
      ],
      "execution_count": 0,
      "outputs": []
    },
    {
      "cell_type": "code",
      "metadata": {
        "id": "KMcN5edH5-WW",
        "colab_type": "code",
        "colab": {}
      },
      "source": [
        "os.path.split()\n",
        "os.path.splitext()\n",
        "os.path.basename()\n",
        "os.path.dirname()\n",
        "os.path.join()"
      ],
      "execution_count": 0,
      "outputs": []
    },
    {
      "cell_type": "markdown",
      "metadata": {
        "id": "imEkAJQK6Mdr",
        "colab_type": "text"
      },
      "source": [
        "(all platform independent)"
      ]
    },
    {
      "cell_type": "code",
      "metadata": {
        "id": "8C87JjD36SEs",
        "colab_type": "code",
        "colab": {}
      },
      "source": [
        "os.listdir()\n",
        "os.mkdir()\n",
        "os.walk()"
      ],
      "execution_count": 0,
      "outputs": []
    }
  ]
}