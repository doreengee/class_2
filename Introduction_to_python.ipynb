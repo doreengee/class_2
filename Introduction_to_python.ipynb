{
  "nbformat": 4,
  "nbformat_minor": 0,
  "metadata": {
    "colab": {
      "name": "Introduction_to_python.ipynb",
      "provenance": [],
      "collapsed_sections": [
        "LZ_XgxGBiFKS",
        "XAEgo8__jJLJ"
      ],
      "include_colab_link": true
    },
    "kernelspec": {
      "name": "python3",
      "display_name": "Python 3"
    }
  },
  "cells": [
    {
      "cell_type": "markdown",
      "metadata": {
        "id": "view-in-github",
        "colab_type": "text"
      },
      "source": [
        "<a href=\"https://colab.research.google.com/github/doreengee/class_2/blob/master/Introduction_to_python.ipynb\" target=\"_parent\"><img src=\"https://colab.research.google.com/assets/colab-badge.svg\" alt=\"Open In Colab\"/></a>"
      ]
    },
    {
      "cell_type": "markdown",
      "metadata": {
        "id": "cr_N2UmIW9JC",
        "colab_type": "text"
      },
      "source": [
        "#**What is Python**\n",
        "\n",
        "\n",
        "*   Dynamic\n",
        "*   Object Oriented\n",
        "*   Byte compiled\n",
        "*   Interpreted \n",
        "\n",
        "**What do these mean?**\n",
        "\n",
        "# Python Features:\n",
        "**Features:**\n",
        "* Not like c, c++, c#, java... more like perl, lisp,ruby, mathlab, mathematica...\n",
        "* dynamically typed, i.e no type declaration\n",
        "    * programs are shorter\n",
        "    * Programs are more flexible\n",
        "    * Less code means there are fewer bugs to contend with. \n",
        "* Interpreted, means there is no compiler, while means the build process is simpler  \n",
        "\n",
        "\n",
        "\n"
      ]
    },
    {
      "cell_type": "markdown",
      "metadata": {
        "id": "LZ_XgxGBiFKS",
        "colab_type": "text"
      },
      "source": [
        "\n",
        "##**What is a dynamic language**"
      ]
    },
    {
      "cell_type": "markdown",
      "metadata": {
        "id": "3gWLevD8iZgR",
        "colab_type": "text"
      },
      "source": [
        "### Dynamic Typing:"
      ]
    },
    {
      "cell_type": "markdown",
      "metadata": {
        "id": "aSVczfP3iola",
        "colab_type": "text"
      },
      "source": [
        "* Type Checking and dispatch happens at run time"
      ]
    },
    {
      "cell_type": "code",
      "metadata": {
        "id": "j1PLgP5Zai57",
        "colab_type": "code",
        "colab": {}
      },
      "source": [
        "x = a + b"
      ],
      "execution_count": 0,
      "outputs": []
    },
    {
      "cell_type": "markdown",
      "metadata": {
        "id": "Ybvs7NaXa5k7",
        "colab_type": "text"
      },
      "source": [
        "* what is a? \n",
        "* what is b?\n",
        "* What does it mean to add them together? \n",
        "* a and b can change at anytime before the additon process\n",
        "\n",
        "\n",
        "\n"
      ]
    },
    {
      "cell_type": "markdown",
      "metadata": {
        "id": "Sj-Q_TlchxJu",
        "colab_type": "text"
      },
      "source": [
        "### Strong Typing:"
      ]
    },
    {
      "cell_type": "code",
      "metadata": {
        "id": "MaEz4W7BexMJ",
        "colab_type": "code",
        "colab": {}
      },
      "source": [
        "a = 5\n",
        "type(a)"
      ],
      "execution_count": 0,
      "outputs": []
    },
    {
      "cell_type": "code",
      "metadata": {
        "id": "k517OkblfRz3",
        "colab_type": "code",
        "colab": {}
      },
      "source": [
        "b = \"5\"\n",
        "type(b)"
      ],
      "execution_count": 0,
      "outputs": []
    },
    {
      "cell_type": "markdown",
      "metadata": {
        "id": "IdSd0lqKfZ2R",
        "colab_type": "text"
      },
      "source": [
        "* Everything has a type\n",
        "* The type of a thing determines what it can do"
      ]
    },
    {
      "cell_type": "markdown",
      "metadata": {
        "id": "NSk7xEVNh6XJ",
        "colab_type": "text"
      },
      "source": [
        "### Duck Typing: "
      ]
    },
    {
      "cell_type": "markdown",
      "metadata": {
        "id": "8pXnadXSfn9s",
        "colab_type": "text"
      },
      "source": [
        "\n",
        "\n",
        "\"If it looks like a duck and quacks like a duck, it is probably a duck\"\n",
        "\n",
        "*if* an object behaves as expected, it probably the right type. "
      ]
    },
    {
      "cell_type": "markdown",
      "metadata": {
        "id": "XAEgo8__jJLJ",
        "colab_type": "text"
      },
      "source": [
        "#**Python Versions**"
      ]
    },
    {
      "cell_type": "markdown",
      "metadata": {
        "id": "055nD-rbjcXb",
        "colab_type": "text"
      },
      "source": [
        "### Python 2.x"
      ]
    },
    {
      "cell_type": "markdown",
      "metadata": {
        "id": "aUXIWsbLjqGL",
        "colab_type": "text"
      },
      "source": [
        "* Classic python\n",
        "* Evolved from the oroiginal python\n",
        "* No longer being developed or supported. \n",
        "* There is no reason for you to learn this version of python at this time\n"
      ]
    },
    {
      "cell_type": "markdown",
      "metadata": {
        "id": "mHf7qG4RksUj",
        "colab_type": "text"
      },
      "source": [
        "### Python 3.x"
      ]
    },
    {
      "cell_type": "markdown",
      "metadata": {
        "id": "ifn6UU3Pk5U1",
        "colab_type": "text"
      },
      "source": [
        "* New an improved version of pyton\n",
        "* Has removed all the \"warts\" from python 2.x\n",
        "* Development is growing rapidly\n",
        "* Most Companies have moved to python 3.X or are in the process of moving"
      ]
    },
    {
      "cell_type": "markdown",
      "metadata": {
        "id": "3tJHKOSFlqea",
        "colab_type": "text"
      },
      "source": [
        "#**Indtroduction To Your Environment!**"
      ]
    },
    {
      "cell_type": "markdown",
      "metadata": {
        "id": "Z5zzqLcnma_Q",
        "colab_type": "text"
      },
      "source": [
        "There are 3 basic elements to your environment\n",
        "\n",
        "* Your command line\n",
        "* Your interpreter\n",
        "* Your Editor"
      ]
    },
    {
      "cell_type": "markdown",
      "metadata": {
        "id": "PKKJf4pMm875",
        "colab_type": "text"
      },
      "source": [
        "## **Your Command Line (CLI)**"
      ]
    },
    {
      "cell_type": "markdown",
      "metadata": {
        "id": "Lja77ksInQ7U",
        "colab_type": "text"
      },
      "source": [
        "* This is the WSL \n",
        "* aka the linux bash\n",
        "* You will need to become very familiar with it it as you progress through your career as a developer\n",
        "* There are quite a few things you can do to make the terminal a better place to work in but I will leave that for you to figure out"
      ]
    },
    {
      "cell_type": "markdown",
      "metadata": {
        "id": "Q33JEiDPn4OQ",
        "colab_type": "text"
      },
      "source": [
        "##**Your interpreter**"
      ]
    },
    {
      "cell_type": "markdown",
      "metadata": {
        "id": "GquHrks4odVk",
        "colab_type": "text"
      },
      "source": [
        "* Python comes with a built interpreter\n",
        "* You see it when you type `python` at the command line \n",
        "* you can also get to it by typing `ipython` if you have it installed "
      ]
    },
    {
      "cell_type": "code",
      "metadata": {
        "id": "9KftwxW3p6QZ",
        "colab_type": "code",
        "colab": {}
      },
      "source": [
        "Python 3.7.5 (default, Oct 25 2019, 15:51:11) \n",
        "[GCC 7.3.0] :: Anaconda, Inc. on linux\n",
        "Type \"help\", \"copyright\", \"credits\" or \"license\" for more information.\n",
        ">>> "
      ],
      "execution_count": 0,
      "outputs": []
    },
    {
      "cell_type": "markdown",
      "metadata": {
        "id": "WN-uTUYqqCcx",
        "colab_type": "text"
      },
      "source": [
        "* The >>> is where you type code"
      ]
    },
    {
      "cell_type": "code",
      "metadata": {
        "id": "Vm9G4-KbprJM",
        "colab_type": "code",
        "colab": {}
      },
      "source": [
        "Python 3.7.5 (default, Oct 25 2019, 15:51:11) \n",
        "Type 'copyright', 'credits' or 'license' for more information\n",
        "IPython 7.9.0 -- An enhanced Interactive Python. Type '?' for help.\n",
        "\n",
        "In [1]:  \n"
      ],
      "execution_count": 0,
      "outputs": []
    },
    {
      "cell_type": "markdown",
      "metadata": {
        "id": "eqPY_RDPqXgf",
        "colab_type": "text"
      },
      "source": [
        "* : if using ipython"
      ]
    },
    {
      "cell_type": "markdown",
      "metadata": {
        "id": "es_B5_UUDVNt",
        "colab_type": "text"
      },
      "source": [
        "###**A Few things to note when using ipython**"
      ]
    },
    {
      "cell_type": "markdown",
      "metadata": {
        "id": "hoGvAVfdDqfD",
        "colab_type": "text"
      },
      "source": [
        "* There is a command line recall\n",
        "  * use the up arrow to get the last command\n",
        "  * if you have typed a bit it will find the last command if it starts the same way \n",
        "* basic shell commands do work\n",
        "  * `ls`, `cd`, `pwd`\n",
        "* any other shell commands work but you have to put ! infront fot hem \n",
        "  * `! the shell command`\n",
        "  * `! mkdir <somedirectory>`\n",
        "* You can paste from the clipboard\n",
        "  * `%paste`\n",
        "* if you need help\n",
        "  * something?\n",
        "* tab completion \n",
        "  * something <tab>\n",
        "* You can run a pyton file directly from from within Ipython\n",
        "  * run the_name_of_file.py\n",
        "  "
      ]
    },
    {
      "cell_type": "markdown",
      "metadata": {
        "id": "K65of9j-q6EK",
        "colab_type": "text"
      },
      "source": [
        "Try it out"
      ]
    },
    {
      "cell_type": "code",
      "metadata": {
        "id": "ehI0TWzyq_VE",
        "colab_type": "code",
        "colab": {}
      },
      "source": [
        "print('Hello World')"
      ],
      "execution_count": 0,
      "outputs": []
    },
    {
      "cell_type": "code",
      "metadata": {
        "id": "Cj3l2-qarKlD",
        "colab_type": "code",
        "colab": {}
      },
      "source": [
        "4 + 5"
      ],
      "execution_count": 0,
      "outputs": []
    },
    {
      "cell_type": "code",
      "metadata": {
        "id": "Rj5RKFu0rOwV",
        "colab_type": "code",
        "colab": {}
      },
      "source": [
        "2 ** 8 - 1"
      ],
      "execution_count": 0,
      "outputs": []
    },
    {
      "cell_type": "code",
      "metadata": {
        "id": "kjD3dfhAraWi",
        "colab_type": "code",
        "colab": {}
      },
      "source": [
        "print('I am a string' + ' added to another string')"
      ],
      "execution_count": 0,
      "outputs": []
    },
    {
      "cell_type": "markdown",
      "metadata": {
        "id": "JQh0Pqr2r5ZP",
        "colab_type": "text"
      },
      "source": [
        "When you are in the interpreter there are a few tools available to you\n",
        "* There is a help system"
      ]
    },
    {
      "cell_type": "code",
      "metadata": {
        "id": "Ux2rSRnLsaY2",
        "colab_type": "code",
        "colab": {}
      },
      "source": [
        ">>> help(str)\n",
        "Help on class str in module __builtin__:\n",
        "\n",
        "class str(basestring)\n",
        " |  str(object='') -> string\n",
        " |\n",
        " |  Return a nice string representation of the object.\n",
        " |  If the argument is a string, the return value is the same object.\n",
        " ..."
      ],
      "execution_count": 0,
      "outputs": []
    },
    {
      "cell_type": "markdown",
      "metadata": {
        "id": "5dWE40O9slsN",
        "colab_type": "text"
      },
      "source": [
        "* you can type q to exit the help function\n",
        "* You can use the dir builtin to find the attributes of an object. "
      ]
    },
    {
      "cell_type": "code",
      "metadata": {
        "id": "pjjU9oY-tZE3",
        "colab_type": "code",
        "colab": {}
      },
      "source": [
        "bob = \"this is a string\"\n",
        "dir(bob)"
      ],
      "execution_count": 0,
      "outputs": []
    },
    {
      "cell_type": "code",
      "metadata": {
        "id": "jE_s_kn4wy01",
        "colab_type": "code",
        "colab": {}
      },
      "source": [
        "help(bob.split)"
      ],
      "execution_count": 0,
      "outputs": []
    },
    {
      "cell_type": "markdown",
      "metadata": {
        "id": "qMRN5QAsuwNi",
        "colab_type": "text"
      },
      "source": [
        "This allows you quite a bit of latitude in exploring what Python is.\n"
      ]
    },
    {
      "cell_type": "markdown",
      "metadata": {
        "id": "ZIBdLN3CvEcm",
        "colab_type": "text"
      },
      "source": [
        "##**Your Editor**"
      ]
    },
    {
      "cell_type": "markdown",
      "metadata": {
        "id": "vsDN3PGrxyXZ",
        "colab_type": "text"
      },
      "source": [
        "* Typing code in the interpreter is great for exploration\n",
        "* Eventually you would want to save the code you are writing an make it permenant. \n",
        "* This is where an editor comes in aka your VSCode, atom, pycharm\n",
        "* Microsoft word is not an editor... just so you know \n",
        "* At the very least, your chosen editor should have:\n",
        "  * syntax highlighting\n",
        "  * Automatic indentation\n",
        "* Desirable features include: \n",
        "  * Tab completion\n",
        "  * Code linting\n",
        "  * jump-to-definition\n",
        "  * interactive follow-along for debugging"
      ]
    },
    {
      "cell_type": "markdown",
      "metadata": {
        "id": "ws78xj8CzzO_",
        "colab_type": "text"
      },
      "source": [
        "#**Setting UP Your Environment**"
      ]
    },
    {
      "cell_type": "markdown",
      "metadata": {
        "id": "G_Akea6b07jR",
        "colab_type": "text"
      },
      "source": [
        "* We are going to be using a shared environment for this class. \n",
        "* Shared means less chances for stuff breakiing ..  \n",
        "* Besides I am the BDFL of this class .. what I say goes!\n",
        "\n",
        "Lets take the time to set up everything up "
      ]
    },
    {
      "cell_type": "markdown",
      "metadata": {
        "id": "HQZq2v-w1o3F",
        "colab_type": "text"
      },
      "source": [
        "###**Step 1: Python 3.X**"
      ]
    },
    {
      "cell_type": "markdown",
      "metadata": {
        "id": "xXUt37rT1xp9",
        "colab_type": "text"
      },
      "source": [
        "* Everyone should have this already... if you don't have it put your hand up \n",
        "* Test you have it by typing python3 in the terminal on your wsl"
      ]
    },
    {
      "cell_type": "code",
      "metadata": {
        "id": "dNYXTYjs2YfF",
        "colab_type": "code",
        "colab": {}
      },
      "source": [
        "Python 3.7.5 (default, Oct 25 2019, 15:51:11) \n",
        "[GCC 7.3.0] :: Anaconda, Inc. on linux\n",
        "Type \"help\", \"copyright\", \"credits\" or \"license\" for more informati"
      ],
      "execution_count": 0,
      "outputs": []
    },
    {
      "cell_type": "markdown",
      "metadata": {
        "id": "1dOSKTUD27wi",
        "colab_type": "text"
      },
      "source": [
        "##**Step 2: PIP**\n",
        "\n"
      ]
    },
    {
      "cell_type": "markdown",
      "metadata": {
        "id": "6f_nExW63aGd",
        "colab_type": "text"
      },
      "source": [
        "* Python comes with quite a bit \n",
        "* But sometimes a bit is not enough to get the job done\n",
        "* Python comes with PIP which allows you to install 3rd party scripts and packages allowing you to extend pythons functionality\n"
      ]
    },
    {
      "cell_type": "markdown",
      "metadata": {
        "id": "uXxa3dvA4IW2",
        "colab_type": "text"
      },
      "source": [
        "* Verify you have it by typing:\n",
        "`pip --version` \n",
        "in the terminal "
      ]
    },
    {
      "cell_type": "markdown",
      "metadata": {
        "id": "nptvm5rQ5N16",
        "colab_type": "text"
      },
      "source": [
        "##**Step 3: Virtual Environments**"
      ]
    },
    {
      "cell_type": "markdown",
      "metadata": {
        "id": "i-jSRRbY6qWO",
        "colab_type": "text"
      },
      "source": [
        "* Python3 comes pre-packaged with a virutal environment wrapper\n",
        "* You will create a virtual environment for every project that you work on\n",
        "* You start by creating a folder for that project using `mkdir <name of project>`\n",
        "* Then you cd into that folder `cd <name of folder>`\n",
        "* run `python3 -m venv <environment name>` (the accenpted convention is venv)\n",
        "* To activate the virtual environment for use, you would use the source command `source venv/bin/activate` \n",
        "* To deactivate it, simply type `deactivate`\n",
        "\n",
        "By the way .. You do not need to do this ... we are going to create an environment here shortly ... "
      ]
    },
    {
      "cell_type": "markdown",
      "metadata": {
        "id": "WI2Eu9ZQ_bqi",
        "colab_type": "text"
      },
      "source": [
        "##**Step 4: Make a Class environment**"
      ]
    },
    {
      "cell_type": "markdown",
      "metadata": {
        "id": "bO73xYcI_zK1",
        "colab_type": "text"
      },
      "source": [
        "* On your WSL issue the `pwd` command to see see where you are .. \n",
        "* Make a new directory called Development using `mkdir Development`\n",
        "* cd in to the the development directory you just created\n",
        "* make a new directory by using `mkdir python_class`\n",
        "* cd into the python_class\n",
        "* Issue the command `python3 -m venv venv`\n",
        "* issue the command `source venv/bin/activate` to enable to virtual environment for this class\n",
        "* use `deactivate` to deactivate the environment when you are done "
      ]
    },
    {
      "cell_type": "markdown",
      "metadata": {
        "id": "AXYe-0ptJApY",
        "colab_type": "text"
      },
      "source": [
        "# Basic Python Syntax"
      ]
    },
    {
      "cell_type": "markdown",
      "metadata": {
        "id": "Fy2yQVKzJUit",
        "colab_type": "text"
      },
      "source": [
        "We are going to talk about: \n",
        "* comments\n",
        "* Expressions\n",
        "* Statements\n",
        "* values\n",
        "* types\n",
        "* Symbols"
      ]
    },
    {
      "cell_type": "markdown",
      "metadata": {
        "id": "6Vq2q9m8KC3Y",
        "colab_type": "text"
      },
      "source": [
        "####**Code Structure**\n",
        "Each line is a piece of code"
      ]
    },
    {
      "cell_type": "markdown",
      "metadata": {
        "id": "WF40RNu1KXY3",
        "colab_type": "text"
      },
      "source": [
        "**comments**\n",
        "\n"
      ]
    },
    {
      "cell_type": "code",
      "metadata": {
        "id": "dA8rq5zIKhtE",
        "colab_type": "code",
        "colab": {}
      },
      "source": [
        "#Everything after a '#' is a comment"
      ],
      "execution_count": 0,
      "outputs": []
    },
    {
      "cell_type": "markdown",
      "metadata": {
        "id": "Rkgn16k7Ld4Z",
        "colab_type": "text"
      },
      "source": [
        "**Expressions**"
      ]
    },
    {
      "cell_type": "code",
      "metadata": {
        "id": "-yHQ9S8lLlaN",
        "colab_type": "code",
        "colab": {}
      },
      "source": [
        "# Evaluationg an expression results in a value"
      ],
      "execution_count": 0,
      "outputs": []
    },
    {
      "cell_type": "code",
      "metadata": {
        "id": "l-dQwsuxLw2Q",
        "colab_type": "code",
        "outputId": "ed82476a-bde8-42b4-b6f5-7c43e061a808",
        "colab": {
          "base_uri": "https://localhost:8080/",
          "height": 34
        }
      },
      "source": [
        "3 + 5"
      ],
      "execution_count": 0,
      "outputs": [
        {
          "output_type": "execute_result",
          "data": {
            "text/plain": [
              "8"
            ]
          },
          "metadata": {
            "tags": []
          },
          "execution_count": 45
        }
      ]
    },
    {
      "cell_type": "code",
      "metadata": {
        "id": "lZN-dOS3L0Hx",
        "colab_type": "code",
        "outputId": "9b858479-f787-4023-fac2-24c42f97edc2",
        "colab": {
          "base_uri": "https://localhost:8080/",
          "height": 34
        }
      },
      "source": [
        "7"
      ],
      "execution_count": 0,
      "outputs": [
        {
          "output_type": "execute_result",
          "data": {
            "text/plain": [
              "7"
            ]
          },
          "metadata": {
            "tags": []
          },
          "execution_count": 46
        }
      ]
    },
    {
      "cell_type": "markdown",
      "metadata": {
        "id": "J0E2tXQyL-wv",
        "colab_type": "text"
      },
      "source": [
        "**Statements**"
      ]
    },
    {
      "cell_type": "code",
      "metadata": {
        "id": "-zH16wYsMIL9",
        "colab_type": "code",
        "colab": {}
      },
      "source": [
        "# Statements do not return a value, they may contain expressions "
      ],
      "execution_count": 0,
      "outputs": []
    },
    {
      "cell_type": "code",
      "metadata": {
        "id": "Uw103IrXMd7Q",
        "colab_type": "code",
        "outputId": "dbac295f-3fb4-45e4-b12c-0833414ef18c",
        "colab": {
          "base_uri": "https://localhost:8080/",
          "height": 34
        }
      },
      "source": [
        "print('Hello')"
      ],
      "execution_count": 0,
      "outputs": [
        {
          "output_type": "stream",
          "text": [
            "Hello\n"
          ],
          "name": "stdout"
        }
      ]
    },
    {
      "cell_type": "code",
      "metadata": {
        "id": "jyt9Ce4AMijc",
        "colab_type": "code",
        "colab": {}
      },
      "source": [
        "line_count = 42"
      ],
      "execution_count": 0,
      "outputs": []
    },
    {
      "cell_type": "markdown",
      "metadata": {
        "id": "3ieoDSXqNDrx",
        "colab_type": "text"
      },
      "source": [
        "It is kind of obvious, but very handy when playing with code"
      ]
    },
    {
      "cell_type": "code",
      "metadata": {
        "id": "axSyOAYLNTHb",
        "colab_type": "code",
        "outputId": "29a2419f-d5f5-4b8d-d0de-33f13505cfb0",
        "colab": {
          "base_uri": "https://localhost:8080/",
          "height": 34
        }
      },
      "source": [
        "print('Something')"
      ],
      "execution_count": 0,
      "outputs": [
        {
          "output_type": "stream",
          "text": [
            "Something\n"
          ],
          "name": "stdout"
        }
      ]
    },
    {
      "cell_type": "markdown",
      "metadata": {
        "id": "xeTGfCZ4NjWU",
        "colab_type": "text"
      },
      "source": [
        "You can print more than one thing "
      ]
    },
    {
      "cell_type": "code",
      "metadata": {
        "id": "skBIojeZNnak",
        "colab_type": "code",
        "outputId": "c601d1de-c877-4eb0-86bb-fc3ca49dd3f6",
        "colab": {
          "base_uri": "https://localhost:8080/",
          "height": 34
        }
      },
      "source": [
        "print('The value of money is', 500)"
      ],
      "execution_count": 0,
      "outputs": [
        {
          "output_type": "stream",
          "text": [
            "The value of money is 500\n"
          ],
          "name": "stdout"
        }
      ]
    },
    {
      "cell_type": "markdown",
      "metadata": {
        "id": "Q72fny3lNu17",
        "colab_type": "text"
      },
      "source": [
        "Python automatically adds a new line which you can suppress by adding a coma to the end of the line"
      ]
    },
    {
      "cell_type": "code",
      "metadata": {
        "id": "AwajhaBMOlFp",
        "colab_type": "code",
        "outputId": "74cc47f7-faf4-4f5e-cda2-793b66ed4dd2",
        "colab": {
          "base_uri": "https://localhost:8080/",
          "height": 102
        }
      },
      "source": [
        "for i in range(5):\n",
        "  print('The value is', i )"
      ],
      "execution_count": 0,
      "outputs": [
        {
          "output_type": "stream",
          "text": [
            "The value is 0\n",
            "The value is 1\n",
            "The value is 2\n",
            "The value is 3\n",
            "The value is 4\n"
          ],
          "name": "stdout"
        }
      ]
    },
    {
      "cell_type": "markdown",
      "metadata": {
        "id": "LYhSE-WNO8wX",
        "colab_type": "text"
      },
      "source": [
        "Any python object can be printed, it will or may not be pretty"
      ]
    },
    {
      "cell_type": "code",
      "metadata": {
        "id": "kG_Dn8WzPWOO",
        "colab_type": "code",
        "colab": {}
      },
      "source": [
        "class bar(object):\n",
        "  pass"
      ],
      "execution_count": 0,
      "outputs": []
    },
    {
      "cell_type": "code",
      "metadata": {
        "id": "N9oxRbMRPwZy",
        "colab_type": "code",
        "outputId": "38d90094-a603-44e2-c3c8-e8bbc4dc0449",
        "colab": {
          "base_uri": "https://localhost:8080/",
          "height": 34
        }
      },
      "source": [
        "print(bar)"
      ],
      "execution_count": 0,
      "outputs": [
        {
          "output_type": "stream",
          "text": [
            "<class '__main__.bar'>\n"
          ],
          "name": "stdout"
        }
      ]
    },
    {
      "cell_type": "markdown",
      "metadata": {
        "id": "H8QMeh6EQHnK",
        "colab_type": "text"
      },
      "source": [
        "Blocks of code are delimited by a colon and indentation"
      ]
    },
    {
      "cell_type": "code",
      "metadata": {
        "id": "kanaZgxMQUOg",
        "colab_type": "code",
        "colab": {}
      },
      "source": [
        "def a_function():\n",
        "  a new code block\n",
        "end of code block"
      ],
      "execution_count": 0,
      "outputs": []
    },
    {
      "cell_type": "code",
      "metadata": {
        "id": "IwcHXjIQQs9m",
        "colab_type": "code",
        "colab": {}
      },
      "source": [
        "for i in range(100): \n",
        "  print(i)"
      ],
      "execution_count": 0,
      "outputs": []
    },
    {
      "cell_type": "code",
      "metadata": {
        "id": "4ubEuKCDQ1hF",
        "colab_type": "code",
        "colab": {}
      },
      "source": [
        "try:\n",
        "  do something bad()\n",
        "except:\n",
        "  fix_the_problem():"
      ],
      "execution_count": 0,
      "outputs": []
    },
    {
      "cell_type": "markdown",
      "metadata": {
        "id": "xWLSicwJRDxe",
        "colab_type": "text"
      },
      "source": [
        "* Python uses white space to delineate its structure\n",
        "* This means that in python, white space is significant\n",
        "* The standard indent is 4 spaces "
      ]
    },
    {
      "cell_type": "markdown",
      "metadata": {
        "id": "zfxstK_ZRnKJ",
        "colab_type": "text"
      },
      "source": [
        "**SPACES ARE NOT TABS**"
      ]
    },
    {
      "cell_type": "markdown",
      "metadata": {
        "id": "QB1CPfI2R-WK",
        "colab_type": "text"
      },
      "source": [
        "These two functions are not thesame"
      ]
    },
    {
      "cell_type": "code",
      "metadata": {
        "id": "Ce2uQK-7Rxaz",
        "colab_type": "code",
        "colab": {}
      },
      "source": [
        "for i in range(100):\n",
        "    print i**2"
      ],
      "execution_count": 0,
      "outputs": []
    },
    {
      "cell_type": "code",
      "metadata": {
        "id": "M7Kbm2CER3ks",
        "colab_type": "code",
        "colab": {}
      },
      "source": [
        "for i in range(100):\n",
        "    print i**2"
      ],
      "execution_count": 0,
      "outputs": []
    },
    {
      "cell_type": "markdown",
      "metadata": {
        "id": "cTcVpCk9SFiM",
        "colab_type": "text"
      },
      "source": [
        "But they are not"
      ]
    },
    {
      "cell_type": "code",
      "metadata": {
        "id": "5Ii85Tf5SKnh",
        "colab_type": "code",
        "colab": {}
      },
      "source": [
        "for i in range(100):\n",
        "\\s\\s\\s\\sprint i**2"
      ],
      "execution_count": 0,
      "outputs": []
    },
    {
      "cell_type": "code",
      "metadata": {
        "id": "hxBP70lySQSw",
        "colab_type": "code",
        "colab": {}
      },
      "source": [
        "for i in range(100):\n",
        "\\tprint i**2"
      ],
      "execution_count": 0,
      "outputs": []
    },
    {
      "cell_type": "markdown",
      "metadata": {
        "id": "C-9HC8o-WiGP",
        "colab_type": "text"
      },
      "source": [
        "**Always indent with spaces**\n"
      ]
    },
    {
      "cell_type": "markdown",
      "metadata": {
        "id": "OY_EGaeKWriU",
        "colab_type": "text"
      },
      "source": [
        "**Never indent with tabs**"
      ]
    },
    {
      "cell_type": "markdown",
      "metadata": {
        "id": "pwzYmNj1W88h",
        "colab_type": "text"
      },
      "source": [
        "###**Values**"
      ]
    },
    {
      "cell_type": "markdown",
      "metadata": {
        "id": "7nBWDDiDXUMn",
        "colab_type": "text"
      },
      "source": [
        "* Values are pieces of unnamed data: 42, 'Hello, world'\n",
        "* In Python, all values are objects\n",
        "   * Try dir(42) - lots going on behind the curtain!\n",
        "* Every value belongs to a type\n",
        "   * Try type(42) - the type of a value determines what it can do"
      ]
    },
    {
      "cell_type": "markdown",
      "metadata": {
        "id": "s-IzdiPrYdgQ",
        "colab_type": "text"
      },
      "source": [
        "**Literals for the basic value types**"
      ]
    },
    {
      "cell_type": "markdown",
      "metadata": {
        "id": "qM4hFoEzZEXd",
        "colab_type": "text"
      },
      "source": [
        "Numbers\n",
        "\n",
        "* floating point: 3.4\n",
        "* integers: 450\n",
        "\n",
        "Text\n",
        "* Text: \"This is text\"\n",
        "* Text: 'This is also text'\n",
        "\n",
        "Boolean Value\n",
        "* True\n",
        "* False"
      ]
    },
    {
      "cell_type": "markdown",
      "metadata": {
        "id": "VCqFs8gMb6W-",
        "colab_type": "text"
      },
      "source": [
        "**Values in Action**"
      ]
    },
    {
      "cell_type": "markdown",
      "metadata": {
        "id": "ODBZzVopcZX9",
        "colab_type": "text"
      },
      "source": [
        "An expression is made up of values and operators"
      ]
    },
    {
      "cell_type": "markdown",
      "metadata": {
        "id": "fFia_lwVcpdP",
        "colab_type": "text"
      },
      "source": [
        "* An expression is evaluated to produce a new value: 2 + 2\n",
        " * The Python interpreter can be used as a calculator to evaluate expressions\n",
        "* Integer vs. float arithmetic\n",
        "  * Always use / when you want float results, // when you want floored results\n",
        "* Type conversions\n",
        "  * This is the source of many errors, especially in handling text\n",
        "  * Python 3 will not implicitly convert bytes to unicode\n",
        "* Type errors - checked at run time only"
      ]
    },
    {
      "cell_type": "markdown",
      "metadata": {
        "id": "MUAQxioueR8X",
        "colab_type": "text"
      },
      "source": [
        "**Symbols**"
      ]
    },
    {
      "cell_type": "markdown",
      "metadata": {
        "id": "7GMTkLDHehs4",
        "colab_type": "text"
      },
      "source": [
        "symbols are how we give names to values (objects)"
      ]
    },
    {
      "cell_type": "markdown",
      "metadata": {
        "id": "sUXOKBrMe5ZJ",
        "colab_type": "text"
      },
      "source": [
        "* Symbols must begin with an underscore or letter\n",
        "* Symbols can contain any number of underscores, letters and numbers\n",
        " * this_is_a_symbol\n",
        " * this_is_2\n",
        " *_AsIsThis\n",
        " * 1butThisIsNot\n",
        " * nor-is-this\n",
        "* Symbols don’t have a type; values do\n",
        "  * This is why python is ‘Dynamic’"
      ]
    },
    {
      "cell_type": "markdown",
      "metadata": {
        "id": "IImLjXnSgmmB",
        "colab_type": "text"
      },
      "source": [
        "**Symbols and Types**"
      ]
    },
    {
      "cell_type": "markdown",
      "metadata": {
        "id": "CfDnGgPog6Vy",
        "colab_type": "text"
      },
      "source": [
        "Evaluating the type of a symbol will return the type of the value associated to it "
      ]
    },
    {
      "cell_type": "code",
      "metadata": {
        "id": "Dim9SqLjhM3h",
        "colab_type": "code",
        "colab": {}
      },
      "source": [
        "type(42)"
      ],
      "execution_count": 0,
      "outputs": []
    },
    {
      "cell_type": "code",
      "metadata": {
        "id": "DMc_p9oAhNa8",
        "colab_type": "code",
        "outputId": "471aeeac-8d20-4713-d4f8-e9ceed713f7e",
        "colab": {
          "base_uri": "https://localhost:8080/",
          "height": 34
        }
      },
      "source": [
        "type(3.14)"
      ],
      "execution_count": 0,
      "outputs": [
        {
          "output_type": "execute_result",
          "data": {
            "text/plain": [
              "float"
            ]
          },
          "metadata": {
            "tags": []
          },
          "execution_count": 28
        }
      ]
    },
    {
      "cell_type": "code",
      "metadata": {
        "id": "cEMTRA2QhYWV",
        "colab_type": "code",
        "colab": {}
      },
      "source": [
        "a = 42"
      ],
      "execution_count": 0,
      "outputs": []
    },
    {
      "cell_type": "code",
      "metadata": {
        "id": "V5wH90wFhgHB",
        "colab_type": "code",
        "outputId": "1d66721d-04e1-424e-ba8b-95a32e9b34c7",
        "colab": {
          "base_uri": "https://localhost:8080/",
          "height": 34
        }
      },
      "source": [
        "type(a)"
      ],
      "execution_count": 0,
      "outputs": [
        {
          "output_type": "execute_result",
          "data": {
            "text/plain": [
              "int"
            ]
          },
          "metadata": {
            "tags": []
          },
          "execution_count": 30
        }
      ]
    },
    {
      "cell_type": "code",
      "metadata": {
        "id": "xCdF_f03hjCl",
        "colab_type": "code",
        "colab": {}
      },
      "source": [
        "b = 3.14"
      ],
      "execution_count": 0,
      "outputs": []
    },
    {
      "cell_type": "code",
      "metadata": {
        "id": "GQHXfQCnhoPU",
        "colab_type": "code",
        "outputId": "da2501e5-997f-4346-b1a4-1320771e530e",
        "colab": {
          "base_uri": "https://localhost:8080/",
          "height": 34
        }
      },
      "source": [
        "type(b)"
      ],
      "execution_count": 0,
      "outputs": [
        {
          "output_type": "execute_result",
          "data": {
            "text/plain": [
              "float"
            ]
          },
          "metadata": {
            "tags": []
          },
          "execution_count": 32
        }
      ]
    },
    {
      "cell_type": "code",
      "metadata": {
        "id": "RWm8s77Uh0P5",
        "colab_type": "code",
        "colab": {}
      },
      "source": [
        "a = b"
      ],
      "execution_count": 0,
      "outputs": []
    },
    {
      "cell_type": "code",
      "metadata": {
        "id": "jvFNZhCbh3k3",
        "colab_type": "code",
        "outputId": "18ade3e8-f0c5-4304-cdd4-973ef23f0a44",
        "colab": {
          "base_uri": "https://localhost:8080/",
          "height": 34
        }
      },
      "source": [
        "type(a)"
      ],
      "execution_count": 0,
      "outputs": [
        {
          "output_type": "execute_result",
          "data": {
            "text/plain": [
              "float"
            ]
          },
          "metadata": {
            "tags": []
          },
          "execution_count": 34
        }
      ]
    },
    {
      "cell_type": "markdown",
      "metadata": {
        "id": "foZ8ZM0LiK7u",
        "colab_type": "text"
      },
      "source": [
        "**Assignment**"
      ]
    },
    {
      "cell_type": "markdown",
      "metadata": {
        "id": "I1I716PGiWDZ",
        "colab_type": "text"
      },
      "source": [
        "A symbol is bound to a value by the assignment operator: ="
      ]
    },
    {
      "cell_type": "markdown",
      "metadata": {
        "id": "fDGmppGCi12C",
        "colab_type": "text"
      },
      "source": [
        "* This attaches a name to a value\n",
        "* A value can have many names (or none!)\n",
        "* Assignment is a statement, it returns no value"
      ]
    },
    {
      "cell_type": "markdown",
      "metadata": {
        "id": "K7UilEQZjPU2",
        "colab_type": "text"
      },
      "source": [
        "Evaluating the name will return the value to which it is bound"
      ]
    },
    {
      "cell_type": "code",
      "metadata": {
        "id": "ufjLlqHXjm5x",
        "colab_type": "code",
        "colab": {}
      },
      "source": [
        "name = 'value'"
      ],
      "execution_count": 0,
      "outputs": []
    },
    {
      "cell_type": "code",
      "metadata": {
        "id": "RjB83ADFjtsE",
        "colab_type": "code",
        "colab": {}
      },
      "source": [
        "an_integer = 42"
      ],
      "execution_count": 0,
      "outputs": []
    },
    {
      "cell_type": "code",
      "metadata": {
        "id": "7PnPZvlqjyGp",
        "colab_type": "code",
        "colab": {}
      },
      "source": [
        "a_float = 3.14"
      ],
      "execution_count": 0,
      "outputs": []
    },
    {
      "cell_type": "markdown",
      "metadata": {
        "id": "9TIpmdbXj-l1",
        "colab_type": "text"
      },
      "source": [
        "**In Place Assignment**"
      ]
    },
    {
      "cell_type": "markdown",
      "metadata": {
        "id": "sC4hodt_kLpW",
        "colab_type": "text"
      },
      "source": [
        "You can do an in place assignment with +="
      ]
    },
    {
      "cell_type": "code",
      "metadata": {
        "id": "vGYg_G6Fkc6s",
        "colab_type": "code",
        "colab": {}
      },
      "source": [
        "a = 1"
      ],
      "execution_count": 0,
      "outputs": []
    },
    {
      "cell_type": "code",
      "metadata": {
        "id": "8Hb9h0NskxB-",
        "colab_type": "code",
        "colab": {}
      },
      "source": [
        "a"
      ],
      "execution_count": 0,
      "outputs": []
    },
    {
      "cell_type": "code",
      "metadata": {
        "id": "mA-DO1qGkhMA",
        "colab_type": "code",
        "colab": {}
      },
      "source": [
        "a = a + 1"
      ],
      "execution_count": 0,
      "outputs": []
    },
    {
      "cell_type": "code",
      "metadata": {
        "id": "dhfUF4pRkz4k",
        "colab_type": "code",
        "outputId": "aff02b9e-9564-4bef-d02c-780fe8696035",
        "colab": {
          "base_uri": "https://localhost:8080/",
          "height": 34
        }
      },
      "source": [
        "a"
      ],
      "execution_count": 0,
      "outputs": [
        {
          "output_type": "execute_result",
          "data": {
            "text/plain": [
              "2"
            ]
          },
          "metadata": {
            "tags": []
          },
          "execution_count": 42
        }
      ]
    },
    {
      "cell_type": "code",
      "metadata": {
        "id": "cLBLHEKhknZB",
        "colab_type": "code",
        "colab": {}
      },
      "source": [
        "a += 1"
      ],
      "execution_count": 0,
      "outputs": []
    },
    {
      "cell_type": "code",
      "metadata": {
        "id": "plGULVKSk1vj",
        "colab_type": "code",
        "outputId": "78a2b583-192f-4a1f-a6ed-4e45f0958876",
        "colab": {
          "base_uri": "https://localhost:8080/",
          "height": 34
        }
      },
      "source": [
        "a"
      ],
      "execution_count": 0,
      "outputs": [
        {
          "output_type": "execute_result",
          "data": {
            "text/plain": [
              "3"
            ]
          },
          "metadata": {
            "tags": []
          },
          "execution_count": 44
        }
      ]
    },
    {
      "cell_type": "markdown",
      "metadata": {
        "id": "tJzC2gjWlBwN",
        "colab_type": "text"
      },
      "source": [
        "You can also do: \n",
        "-=, *=, /=, **=, \\%="
      ]
    },
    {
      "cell_type": "markdown",
      "metadata": {
        "id": "v44W0iE1ld__",
        "colab_type": "text"
      },
      "source": [
        "**Multiple Assignment**"
      ]
    },
    {
      "cell_type": "markdown",
      "metadata": {
        "id": "rTDBGH6Klp-S",
        "colab_type": "text"
      },
      "source": [
        "You can assign multiple values using one statement "
      ]
    },
    {
      "cell_type": "code",
      "metadata": {
        "id": "aRYasZZTlu-6",
        "colab_type": "code",
        "colab": {}
      },
      "source": [
        "a, b = 5, 6 "
      ],
      "execution_count": 0,
      "outputs": []
    },
    {
      "cell_type": "code",
      "metadata": {
        "id": "IC1dH2k7l0PI",
        "colab_type": "code",
        "colab": {}
      },
      "source": [
        "a"
      ],
      "execution_count": 0,
      "outputs": []
    },
    {
      "cell_type": "code",
      "metadata": {
        "id": "ZdrgBixJl3Ep",
        "colab_type": "code",
        "outputId": "eab7c488-76b1-4f8a-ed07-5a4914771347",
        "colab": {
          "base_uri": "https://localhost:8080/",
          "height": 34
        }
      },
      "source": [
        "b"
      ],
      "execution_count": 0,
      "outputs": [
        {
          "output_type": "execute_result",
          "data": {
            "text/plain": [
              "6"
            ]
          },
          "metadata": {
            "tags": []
          },
          "execution_count": 47
        }
      ]
    },
    {
      "cell_type": "code",
      "metadata": {
        "id": "sFpSx4RQl_7_",
        "colab_type": "code",
        "colab": {}
      },
      "source": [
        "i, j = 2 * a, 3 ** b"
      ],
      "execution_count": 0,
      "outputs": []
    },
    {
      "cell_type": "code",
      "metadata": {
        "id": "7E4_fOgimSFQ",
        "colab_type": "code",
        "outputId": "d58ba0cd-d524-4f76-da6c-24fbe1a5221a",
        "colab": {
          "base_uri": "https://localhost:8080/",
          "height": 34
        }
      },
      "source": [
        "i"
      ],
      "execution_count": 0,
      "outputs": [
        {
          "output_type": "execute_result",
          "data": {
            "text/plain": [
              "10"
            ]
          },
          "metadata": {
            "tags": []
          },
          "execution_count": 49
        }
      ]
    },
    {
      "cell_type": "code",
      "metadata": {
        "id": "_SaqaygMmVN3",
        "colab_type": "code",
        "colab": {}
      },
      "source": [
        "j"
      ],
      "execution_count": 0,
      "outputs": []
    },
    {
      "cell_type": "markdown",
      "metadata": {
        "id": "ipszGjhY4_fA",
        "colab_type": "text"
      },
      "source": [
        "The symbols on the left need to match the values on the right!"
      ]
    },
    {
      "cell_type": "code",
      "metadata": {
        "id": "15S9_Fer4zry",
        "colab_type": "code",
        "colab": {}
      },
      "source": [
        "q, r, s = 1, 3"
      ],
      "execution_count": 0,
      "outputs": []
    },
    {
      "cell_type": "markdown",
      "metadata": {
        "id": "xWJamk_AmhuQ",
        "colab_type": "text"
      },
      "source": [
        "Using this approach, we can swap values in one statement "
      ]
    },
    {
      "cell_type": "code",
      "metadata": {
        "id": "SIUspPjJms1Q",
        "colab_type": "code",
        "colab": {}
      },
      "source": [
        "x = 3"
      ],
      "execution_count": 0,
      "outputs": []
    },
    {
      "cell_type": "code",
      "metadata": {
        "id": "CQggk1k5oQm8",
        "colab_type": "code",
        "outputId": "887c611e-edf0-4ce7-9e72-b70c80596a20",
        "colab": {
          "base_uri": "https://localhost:8080/",
          "height": 34
        }
      },
      "source": [
        "x"
      ],
      "execution_count": 0,
      "outputs": [
        {
          "output_type": "execute_result",
          "data": {
            "text/plain": [
              "3"
            ]
          },
          "metadata": {
            "tags": []
          },
          "execution_count": 53
        }
      ]
    },
    {
      "cell_type": "code",
      "metadata": {
        "id": "_LqBQWrKmxGJ",
        "colab_type": "code",
        "colab": {}
      },
      "source": [
        "y = 7"
      ],
      "execution_count": 0,
      "outputs": []
    },
    {
      "cell_type": "code",
      "metadata": {
        "id": "-KlR1US_oU4s",
        "colab_type": "code",
        "outputId": "93d61752-dedf-499b-aebd-6c2e192440b5",
        "colab": {
          "base_uri": "https://localhost:8080/",
          "height": 34
        }
      },
      "source": [
        "y"
      ],
      "execution_count": 0,
      "outputs": [
        {
          "output_type": "execute_result",
          "data": {
            "text/plain": [
              "7"
            ]
          },
          "metadata": {
            "tags": []
          },
          "execution_count": 55
        }
      ]
    },
    {
      "cell_type": "code",
      "metadata": {
        "id": "Mp_LD6Jemz-Z",
        "colab_type": "code",
        "colab": {}
      },
      "source": [
        "x , y = y, x"
      ],
      "execution_count": 0,
      "outputs": []
    },
    {
      "cell_type": "code",
      "metadata": {
        "id": "0ygsLaKIm8Di",
        "colab_type": "code",
        "outputId": "bd8a5e62-7173-4fa2-9a45-f6798536cad0",
        "colab": {
          "base_uri": "https://localhost:8080/",
          "height": 34
        }
      },
      "source": [
        "x"
      ],
      "execution_count": 0,
      "outputs": [
        {
          "output_type": "execute_result",
          "data": {
            "text/plain": [
              "7"
            ]
          },
          "metadata": {
            "tags": []
          },
          "execution_count": 57
        }
      ]
    },
    {
      "cell_type": "code",
      "metadata": {
        "id": "ajptNwpUm91b",
        "colab_type": "code",
        "outputId": "cbc87b3f-7bfe-4b6d-d4b4-7bbc65047cad",
        "colab": {
          "base_uri": "https://localhost:8080/",
          "height": 34
        }
      },
      "source": [
        "y"
      ],
      "execution_count": 0,
      "outputs": [
        {
          "output_type": "execute_result",
          "data": {
            "text/plain": [
              "3"
            ]
          },
          "metadata": {
            "tags": []
          },
          "execution_count": 58
        }
      ]
    },
    {
      "cell_type": "markdown",
      "metadata": {
        "id": "kOIS763RfV30",
        "colab_type": "text"
      },
      "source": [
        "**Deleting**"
      ]
    },
    {
      "cell_type": "markdown",
      "metadata": {
        "id": "RyfMli5BfwiI",
        "colab_type": "text"
      },
      "source": [
        "You cannot actually delete anything in pyton... \n",
        "\n",
        "`del` only unbinds a name"
      ]
    },
    {
      "cell_type": "code",
      "metadata": {
        "id": "XxaCgUtjgStd",
        "colab_type": "code",
        "colab": {}
      },
      "source": [
        "a = 5"
      ],
      "execution_count": 0,
      "outputs": []
    },
    {
      "cell_type": "code",
      "metadata": {
        "id": "02BbUT6EgVz4",
        "colab_type": "code",
        "colab": {}
      },
      "source": [
        "b = a"
      ],
      "execution_count": 0,
      "outputs": []
    },
    {
      "cell_type": "code",
      "metadata": {
        "id": "3COyeQ_PgYNJ",
        "colab_type": "code",
        "colab": {}
      },
      "source": [
        "del a"
      ],
      "execution_count": 0,
      "outputs": []
    },
    {
      "cell_type": "markdown",
      "metadata": {
        "id": "jAiQEU78gnZS",
        "colab_type": "text"
      },
      "source": [
        "The object is still there, Python will only delete it if there are no references to it. "
      ]
    },
    {
      "cell_type": "code",
      "metadata": {
        "id": "NPZ6LfYEg3fm",
        "colab_type": "code",
        "outputId": "e4c784bc-8d2d-4e78-983a-e7f655a02a9f",
        "colab": {
          "base_uri": "https://localhost:8080/",
          "height": 34
        }
      },
      "source": [
        "b"
      ],
      "execution_count": 0,
      "outputs": [
        {
          "output_type": "execute_result",
          "data": {
            "text/plain": [
              "5"
            ]
          },
          "metadata": {
            "tags": []
          },
          "execution_count": 62
        }
      ]
    },
    {
      "cell_type": "markdown",
      "metadata": {
        "id": "A6Q88qFEhHFH",
        "colab_type": "text"
      },
      "source": [
        "**Identify**"
      ]
    },
    {
      "cell_type": "markdown",
      "metadata": {
        "id": "CQ75bOkNhLkr",
        "colab_type": "text"
      },
      "source": [
        "Every value in python is an object. \n",
        "\n",
        "Every object is unique and has a unique identity which you can look up by using the id builtin method. "
      ]
    },
    {
      "cell_type": "code",
      "metadata": {
        "id": "wC7wPnwfhsO5",
        "colab_type": "code",
        "colab": {}
      },
      "source": [
        "id(b)"
      ],
      "execution_count": 0,
      "outputs": []
    },
    {
      "cell_type": "code",
      "metadata": {
        "id": "lwOezwibh3E2",
        "colab_type": "code",
        "colab": {}
      },
      "source": [
        "new_b = b"
      ],
      "execution_count": 0,
      "outputs": []
    },
    {
      "cell_type": "code",
      "metadata": {
        "id": "cJddCkcSiG8k",
        "colab_type": "code",
        "colab": {}
      },
      "source": [
        "id(new_b)"
      ],
      "execution_count": 0,
      "outputs": []
    },
    {
      "cell_type": "code",
      "metadata": {
        "id": "JZK17nxK7vIU",
        "colab_type": "code",
        "outputId": "39fd7372-3faf-4d7d-b489-44dd88d15e69",
        "colab": {
          "base_uri": "https://localhost:8080/",
          "height": 34
        }
      },
      "source": [
        "b is new_b"
      ],
      "execution_count": 0,
      "outputs": [
        {
          "output_type": "execute_result",
          "data": {
            "text/plain": [
              "True"
            ]
          },
          "metadata": {
            "tags": []
          },
          "execution_count": 69
        }
      ]
    },
    {
      "cell_type": "markdown",
      "metadata": {
        "id": "Hs3Jc0qeierw",
        "colab_type": "text"
      },
      "source": [
        "**Testing Identity**"
      ]
    },
    {
      "cell_type": "markdown",
      "metadata": {
        "id": "yC78TMplijvV",
        "colab_type": "text"
      },
      "source": [
        "You can find out if the value bound to two different symbols is the same object using the `is` operator. "
      ]
    },
    {
      "cell_type": "code",
      "metadata": {
        "id": "zQLd11Qji4gd",
        "colab_type": "code",
        "colab": {}
      },
      "source": [
        " count = 23"
      ],
      "execution_count": 0,
      "outputs": []
    },
    {
      "cell_type": "code",
      "metadata": {
        "id": "VSu4q94Qi80J",
        "colab_type": "code",
        "colab": {}
      },
      "source": [
        "other_count = count"
      ],
      "execution_count": 0,
      "outputs": []
    },
    {
      "cell_type": "code",
      "metadata": {
        "id": "8Gx_q5oejAnI",
        "colab_type": "code",
        "colab": {}
      },
      "source": [
        "count is other_count"
      ],
      "execution_count": 0,
      "outputs": []
    },
    {
      "cell_type": "code",
      "metadata": {
        "id": "No30EiSKjLqS",
        "colab_type": "code",
        "colab": {}
      },
      "source": [
        "count = 42"
      ],
      "execution_count": 0,
      "outputs": []
    },
    {
      "cell_type": "code",
      "metadata": {
        "id": "3xXrGICDjOau",
        "colab_type": "code",
        "colab": {}
      },
      "source": [
        "count is other_count"
      ],
      "execution_count": 0,
      "outputs": []
    },
    {
      "cell_type": "markdown",
      "metadata": {
        "id": "E9vwVx36jVwP",
        "colab_type": "text"
      },
      "source": [
        "**Equality**"
      ]
    },
    {
      "cell_type": "markdown",
      "metadata": {
        "id": "hyPnmYiujbwf",
        "colab_type": "text"
      },
      "source": [
        "You can test the equality of certain values with the `==` operator"
      ]
    },
    {
      "cell_type": "code",
      "metadata": {
        "id": "-Y4fwK1Djoj4",
        "colab_type": "code",
        "colab": {}
      },
      "source": [
        "val1 = 20 + 30"
      ],
      "execution_count": 0,
      "outputs": []
    },
    {
      "cell_type": "code",
      "metadata": {
        "id": "vCnK7K-hjtMO",
        "colab_type": "code",
        "colab": {}
      },
      "source": [
        "val2 = 5 * 10"
      ],
      "execution_count": 0,
      "outputs": []
    },
    {
      "cell_type": "code",
      "metadata": {
        "id": "LJOhWjx0j05b",
        "colab_type": "code",
        "outputId": "e8850940-81e6-49f9-ec46-607074fc2a56",
        "colab": {
          "base_uri": "https://localhost:8080/",
          "height": 34
        }
      },
      "source": [
        "val1 == val2"
      ],
      "execution_count": 0,
      "outputs": [
        {
          "output_type": "execute_result",
          "data": {
            "text/plain": [
              "True"
            ]
          },
          "metadata": {
            "tags": []
          },
          "execution_count": 76
        }
      ]
    },
    {
      "cell_type": "code",
      "metadata": {
        "id": "Y4QdZKxJj6xO",
        "colab_type": "code",
        "colab": {}
      },
      "source": [
        "val3 = '50'"
      ],
      "execution_count": 0,
      "outputs": []
    },
    {
      "cell_type": "code",
      "metadata": {
        "id": "qzZInbb7j9oI",
        "colab_type": "code",
        "outputId": "86f20266-58b9-4ed9-f747-db6bb924909c",
        "colab": {
          "base_uri": "https://localhost:8080/",
          "height": 34
        }
      },
      "source": [
        "val1 == val3"
      ],
      "execution_count": 0,
      "outputs": [
        {
          "output_type": "execute_result",
          "data": {
            "text/plain": [
              "False"
            ]
          },
          "metadata": {
            "tags": []
          },
          "execution_count": 78
        }
      ]
    },
    {
      "cell_type": "markdown",
      "metadata": {
        "id": "izKmzL9bkHnp",
        "colab_type": "text"
      },
      "source": [
        "**Operator precedence**"
      ]
    },
    {
      "cell_type": "markdown",
      "metadata": {
        "id": "1mzU7mWNkPGp",
        "colab_type": "text"
      },
      "source": [
        "Operator precedence determines what is evaluated first "
      ]
    },
    {
      "cell_type": "markdown",
      "metadata": {
        "id": "zPs0wsBzkrCS",
        "colab_type": "text"
      },
      "source": [
        "4 + 3 * 5 != (4 + 3) * 5"
      ]
    },
    {
      "cell_type": "markdown",
      "metadata": {
        "id": "18mSasHfktht",
        "colab_type": "text"
      },
      "source": [
        "To force statements to be evaluated out of order use parenthesis aka brackets"
      ]
    },
    {
      "cell_type": "markdown",
      "metadata": {
        "id": "mBR5w6SMk7go",
        "colab_type": "text"
      },
      "source": [
        "**Python Operator precedence**"
      ]
    },
    {
      "cell_type": "markdown",
      "metadata": {
        "id": "purZ9YQIlA67",
        "colab_type": "text"
      },
      "source": [
        "Parentheses and Literals:\n",
        "\n",
        "(), [], {}\n",
        "\n",
        "\"\", ''\n",
        "\n",
        "Function Calls:\n",
        "\n",
        "f(args)\n",
        "\n",
        "Slicing and Subscription:\n",
        "\n",
        "a[x:y]\n",
        "\n",
        "b[0], c['key']\n",
        "\n",
        "Attribute Reference:\n",
        "\n",
        "obj.attribute\n",
        "\n",
        "Exponentiation:\n",
        "\n",
        "**\n",
        "\n",
        "Bitwise NOT, Unary Signing:\n",
        "\n",
        "~x\n",
        "\n",
        "+x, -x\n",
        "\n",
        "Multiplication, Division, Modulus:\n",
        "\n",
        "*, /, %\n",
        "\n",
        "Addition, Subtraction:\n",
        "\n",
        "+, -\n",
        "\n",
        "Bitwise operations:\n",
        "\n",
        "<<, >>,\n",
        "\n",
        "&, ^, |\n",
        "\n",
        "Comparisons:\n",
        "\n",
        "<, <=, >, >=, !=, ==\n",
        "\n",
        "Membership and Identity:\n",
        "\n",
        "in, not in, is, is not\n",
        "\n",
        "Boolean operations:\n",
        "\n",
        "or, and, not\n",
        "\n",
        "Anonymous Functions:\n",
        "\n",
        "lambda"
      ]
    },
    {
      "cell_type": "markdown",
      "metadata": {
        "id": "14f81Le5mHm9",
        "colab_type": "text"
      },
      "source": [
        "**String Literals**"
      ]
    },
    {
      "cell_type": "markdown",
      "metadata": {
        "id": "Keip9SdAmNkF",
        "colab_type": "text"
      },
      "source": [
        "You define a string value by writing a literal"
      ]
    },
    {
      "cell_type": "code",
      "metadata": {
        "id": "KT_PjNHqmVQg",
        "colab_type": "code",
        "colab": {}
      },
      "source": [
        "'a string'"
      ],
      "execution_count": 0,
      "outputs": []
    },
    {
      "cell_type": "code",
      "metadata": {
        "id": "QFIzT7bd-IpJ",
        "colab_type": "code",
        "colab": {}
      },
      "source": [
        "name = 'Doreen'"
      ],
      "execution_count": 0,
      "outputs": []
    },
    {
      "cell_type": "code",
      "metadata": {
        "id": "FkdzKg5rmX_J",
        "colab_type": "code",
        "colab": {}
      },
      "source": [
        "\"also a string\""
      ],
      "execution_count": 0,
      "outputs": []
    },
    {
      "cell_type": "code",
      "metadata": {
        "id": "NE1FpfjS-YT_",
        "colab_type": "code",
        "colab": {}
      },
      "source": [
        "another_name = \"pearl\""
      ],
      "execution_count": 0,
      "outputs": []
    },
    {
      "cell_type": "code",
      "metadata": {
        "id": "bOLZ1bLtmagp",
        "colab_type": "code",
        "colab": {}
      },
      "source": [
        "\"a string with an apostrophe. isn't that cool?\""
      ],
      "execution_count": 0,
      "outputs": []
    },
    {
      "cell_type": "code",
      "metadata": {
        "id": "xGqEVg_YmkFg",
        "colab_type": "code",
        "colab": {}
      },
      "source": [
        "'A string with an embedded \"quote\"'"
      ],
      "execution_count": 0,
      "outputs": []
    },
    {
      "cell_type": "code",
      "metadata": {
        "id": "tmB0DyWgmvFL",
        "colab_type": "code",
        "colab": {}
      },
      "source": [
        "\"\"\"A multi line string\n",
        "I really don't know what to say here, \n",
        "so lets just keep typing tille we \n",
        "have enough lines to stop\n",
        "\"\"\""
      ],
      "execution_count": 0,
      "outputs": []
    },
    {
      "cell_type": "code",
      "metadata": {
        "id": "ZwzEKW9PnESP",
        "colab_type": "code",
        "colab": {}
      },
      "source": [
        "\"A string with an esxaped \\n character\""
      ],
      "execution_count": 0,
      "outputs": []
    },
    {
      "cell_type": "code",
      "metadata": {
        "id": "7bo_H_FfnS4-",
        "colab_type": "code",
        "colab": {}
      },
      "source": [
        "'A raw string. The \\\\n comes through as \\\\n '"
      ],
      "execution_count": 0,
      "outputs": []
    },
    {
      "cell_type": "markdown",
      "metadata": {
        "id": "jd00jmS6nvAm",
        "colab_type": "text"
      },
      "source": [
        "**Keywords**"
      ]
    },
    {
      "cell_type": "markdown",
      "metadata": {
        "id": "8h6hYg-Ln_Ob",
        "colab_type": "text"
      },
      "source": [
        "Python defines a number of **keywords**\n",
        "\n",
        "These are language constructs. \n",
        "\n",
        "You cannot use these words as symbols"
      ]
    },
    {
      "cell_type": "code",
      "metadata": {
        "id": "p3WedBBNodNw",
        "colab_type": "code",
        "colab": {}
      },
      "source": [
        "and       del       from      not       while\n",
        "as        elif      global    or        with\n",
        "assert    else      if        pass      yield\n",
        "break     except    import    print\n",
        "class     exec      in        raise\n",
        "continue  finally   is        return\n",
        "def       for       lambda    try"
      ],
      "execution_count": 0,
      "outputs": []
    },
    {
      "cell_type": "markdown",
      "metadata": {
        "id": "xxfzfniPoioG",
        "colab_type": "text"
      },
      "source": [
        "if you try to use any of these words as a symbol, you will get a syntax error. "
      ]
    },
    {
      "cell_type": "markdown",
      "metadata": {
        "id": "5oEp-JR4pIf5",
        "colab_type": "text"
      },
      "source": [
        "**Builtins**"
      ]
    },
    {
      "cell_type": "code",
      "metadata": {
        "id": "oF83ykGTpp2P",
        "colab_type": "code",
        "colab": {}
      },
      "source": [
        "dir(__builtins__)"
      ],
      "execution_count": 0,
      "outputs": []
    },
    {
      "cell_type": "markdown",
      "metadata": {
        "id": "DoheJK0Co808",
        "colab_type": "text"
      },
      "source": [
        "**Exceptions**"
      ]
    },
    {
      "cell_type": "markdown",
      "metadata": {
        "id": "PZhurrzFqEdk",
        "colab_type": "text"
      },
      "source": [
        "Exceptions are how Python tells you that something has gone wrong.\n",
        "\n",
        "There are several exceptions that you are likely to see a lot of:\n",
        "\n",
        "* NameError: indicates that you have tried to use a symbol that is not bound to a value.\n",
        "* TypeError: indicates that you have tried to use the wrong kind of object for an operation.\n",
        "* SyntaxError: indicates that you have mis-typed something.\n",
        "* AttributeError: indicates that you have tried to access an attribute or method that an object does not have (this often means you have a different type of object than you expect)"
      ]
    },
    {
      "cell_type": "markdown",
      "metadata": {
        "id": "GrWIl9ngrTSm",
        "colab_type": "text"
      },
      "source": [
        "**Functions**"
      ]
    },
    {
      "cell_type": "markdown",
      "metadata": {
        "id": "6jkiwZOlrYNR",
        "colab_type": "text"
      },
      "source": [
        "A Function is s self contained chunk of code\n",
        "\n",
        "You use them when you need a piece of code to run multiple times or in multiple parts of the program. \n",
        "\n",
        "DRY\n",
        "\n",
        "Or you just want your code to be clean\n",
        "\n",
        "Functions can take and return information"
      ]
    },
    {
      "cell_type": "markdown",
      "metadata": {
        "id": "ri96Ez-DsjRH",
        "colab_type": "text"
      },
      "source": [
        "**function definition**"
      ]
    },
    {
      "cell_type": "code",
      "metadata": {
        "id": "KvBYsE9WsXjD",
        "colab_type": "code",
        "colab": {}
      },
      "source": [
        "def <name>():\n",
        "  <statements>"
      ],
      "execution_count": 0,
      "outputs": []
    },
    {
      "cell_type": "code",
      "metadata": {
        "id": "wTe0JOWcDOmJ",
        "colab_type": "code",
        "colab": {}
      },
      "source": [
        "def testing_in_class():\n",
        "  print('John is a boy')"
      ],
      "execution_count": 0,
      "outputs": []
    },
    {
      "cell_type": "markdown",
      "metadata": {
        "id": "jLuE9AWVsqcA",
        "colab_type": "text"
      },
      "source": [
        "pass statement. Notice the indentation"
      ]
    },
    {
      "cell_type": "code",
      "metadata": {
        "id": "uqM7sIvKsx7c",
        "colab_type": "code",
        "colab": {}
      },
      "source": [
        "def minimal():\n",
        "  pass"
      ],
      "execution_count": 0,
      "outputs": []
    },
    {
      "cell_type": "markdown",
      "metadata": {
        "id": "-BUNllEps-2S",
        "colab_type": "text"
      },
      "source": [
        "**function:** `def`"
      ]
    },
    {
      "cell_type": "markdown",
      "metadata": {
        "id": "T0M6G_eNtHck",
        "colab_type": "text"
      },
      "source": [
        "`def` is s statement"
      ]
    },
    {
      "cell_type": "markdown",
      "metadata": {
        "id": "gslv52_BtODb",
        "colab_type": "text"
      },
      "source": [
        "* it is executed\n",
        "* it creates a local variable "
      ]
    },
    {
      "cell_type": "markdown",
      "metadata": {
        "id": "bexJrGKFEI_W",
        "colab_type": "text"
      },
      "source": [
        "camelCaseWords"
      ]
    },
    {
      "cell_type": "markdown",
      "metadata": {
        "id": "3NZLRB_oEZL1",
        "colab_type": "text"
      },
      "source": [
        "snake_case_on_the_other_hand"
      ]
    },
    {
      "cell_type": "markdown",
      "metadata": {
        "id": "Ny9rAbkJtinx",
        "colab_type": "text"
      },
      "source": [
        "Function `def`s must be executed before the function is called "
      ]
    },
    {
      "cell_type": "code",
      "metadata": {
        "id": "ZY2-pNa2tqe0",
        "colab_type": "code",
        "colab": {}
      },
      "source": [
        "unbuound()"
      ],
      "execution_count": 0,
      "outputs": []
    },
    {
      "cell_type": "code",
      "metadata": {
        "id": "hThmoiZFts7d",
        "colab_type": "code",
        "colab": {}
      },
      "source": [
        "def simeple():\n",
        "  print('This is a siimple function')"
      ],
      "execution_count": 0,
      "outputs": []
    },
    {
      "cell_type": "code",
      "metadata": {
        "id": "acImJ4rHtysq",
        "colab_type": "code",
        "colab": {}
      },
      "source": [
        "simple()"
      ],
      "execution_count": 0,
      "outputs": []
    },
    {
      "cell_type": "markdown",
      "metadata": {
        "id": "F3Sqc4AJt7Iy",
        "colab_type": "text"
      },
      "source": [
        "**Calling functions**"
      ]
    },
    {
      "cell_type": "markdown",
      "metadata": {
        "id": "cux2g5pxuFEC",
        "colab_type": "text"
      },
      "source": [
        "You call a function by using the function call operator aka the parenthesis"
      ]
    },
    {
      "cell_type": "code",
      "metadata": {
        "colab_type": "code",
        "id": "rzSiq0TUFP9s",
        "colab": {}
      },
      "source": [
        "def simple():\n",
        "  print('This is a siimple function')"
      ],
      "execution_count": 0,
      "outputs": []
    },
    {
      "cell_type": "code",
      "metadata": {
        "id": "GZHvm7KeuQka",
        "colab_type": "code",
        "colab": {}
      },
      "source": [
        "type(simple)"
      ],
      "execution_count": 0,
      "outputs": []
    },
    {
      "cell_type": "code",
      "metadata": {
        "id": "OyDVSZWEuXGZ",
        "colab_type": "code",
        "colab": {}
      },
      "source": [
        "simple"
      ],
      "execution_count": 0,
      "outputs": []
    },
    {
      "cell_type": "code",
      "metadata": {
        "id": "FtTgBkGmuaeF",
        "colab_type": "code",
        "colab": {}
      },
      "source": [
        "simple()"
      ],
      "execution_count": 0,
      "outputs": []
    },
    {
      "cell_type": "markdown",
      "metadata": {
        "id": "BLD_YJNeur6r",
        "colab_type": "text"
      },
      "source": [
        "**Functions: Call Stack**"
      ]
    },
    {
      "cell_type": "markdown",
      "metadata": {
        "id": "RkVRTau1u2jD",
        "colab_type": "text"
      },
      "source": [
        "Functions call other functions. This makes for an execution stack - also known as a trace back"
      ]
    },
    {
      "cell_type": "code",
      "metadata": {
        "id": "E7aWRZrvvQGq",
        "colab_type": "code",
        "colab": {}
      },
      "source": [
        "def exceptional():\n",
        "  print('I am exceptional')\n",
        "  print(1/0)"
      ],
      "execution_count": 0,
      "outputs": []
    },
    {
      "cell_type": "code",
      "metadata": {
        "id": "LxSPS3uMvZYu",
        "colab_type": "code",
        "colab": {}
      },
      "source": [
        "def passive():\n",
        "  pass"
      ],
      "execution_count": 0,
      "outputs": []
    },
    {
      "cell_type": "code",
      "metadata": {
        "id": "t1QLt3RSvfUA",
        "colab_type": "code",
        "colab": {}
      },
      "source": [
        "def doer():\n",
        "  passive()\n",
        "  exceptional()"
      ],
      "execution_count": 0,
      "outputs": []
    },
    {
      "cell_type": "markdown",
      "metadata": {
        "id": "FxncqhTIvpsy",
        "colab_type": "text"
      },
      "source": [
        "You have defined 3 functions, one of which will call the other 2"
      ]
    },
    {
      "cell_type": "markdown",
      "metadata": {
        "id": "GKlENVPLvyRO",
        "colab_type": "text"
      },
      "source": [
        "**Function Tracebacks**"
      ]
    },
    {
      "cell_type": "code",
      "metadata": {
        "id": "wGExHvWBv_UQ",
        "colab_type": "code",
        "colab": {}
      },
      "source": [
        "doer()"
      ],
      "execution_count": 0,
      "outputs": []
    },
    {
      "cell_type": "markdown",
      "metadata": {
        "id": "PW1zDgsfwNjT",
        "colab_type": "text"
      },
      "source": [
        "**Functions:** `return`"
      ]
    },
    {
      "cell_type": "markdown",
      "metadata": {
        "id": "IaXK5KpOwVEN",
        "colab_type": "text"
      },
      "source": [
        "Every function ends by returning a value\n",
        "\n",
        "This is actually the simplest possible function"
      ]
    },
    {
      "cell_type": "code",
      "metadata": {
        "id": "U8EB9VSLwhNz",
        "colab_type": "code",
        "colab": {}
      },
      "source": [
        "def yikes():\n",
        "  return None"
      ],
      "execution_count": 0,
      "outputs": []
    },
    {
      "cell_type": "markdown",
      "metadata": {
        "id": "ISiG3Um9xi67",
        "colab_type": "text"
      },
      "source": [
        "If you don't explicitly put a return statement, python will do it for you. "
      ]
    },
    {
      "cell_type": "code",
      "metadata": {
        "id": "IUeCg9J8jRW-",
        "colab_type": "code",
        "colab": {}
      },
      "source": [
        "def fun():\n",
        "  pass"
      ],
      "execution_count": 0,
      "outputs": []
    },
    {
      "cell_type": "code",
      "metadata": {
        "id": "1TlQRiMhjYoe",
        "colab_type": "code",
        "colab": {}
      },
      "source": [
        "fun()"
      ],
      "execution_count": 0,
      "outputs": []
    },
    {
      "cell_type": "code",
      "metadata": {
        "id": "JVwuhHsLjchj",
        "colab_type": "code",
        "colab": {}
      },
      "source": [
        "result = fun()"
      ],
      "execution_count": 0,
      "outputs": []
    },
    {
      "cell_type": "code",
      "metadata": {
        "id": "E2VTg2_Ajj04",
        "colab_type": "code",
        "outputId": "4e551c7e-b930-4d1f-99d9-98f5c17891e5",
        "colab": {
          "base_uri": "https://localhost:8080/",
          "height": 34
        }
      },
      "source": [
        "print(result)"
      ],
      "execution_count": 0,
      "outputs": [
        {
          "output_type": "stream",
          "text": [
            "None\n"
          ],
          "name": "stdout"
        }
      ]
    },
    {
      "cell_type": "markdown",
      "metadata": {
        "id": "qCBp-22zjuD5",
        "colab_type": "text"
      },
      "source": [
        "Note that the interpreter returns `None`\n",
        "\n",
        "Only one return statement will ever be executed. \n",
        "\n",
        "Ever\n",
        "\n",
        "Anything after an executed `return` statement will never see the light of day i.e it will never be executed\n",
        "\n",
        "Remember that, it is sueful when debugging"
      ]
    },
    {
      "cell_type": "code",
      "metadata": {
        "id": "3NmyEhgvkXlM",
        "colab_type": "code",
        "colab": {}
      },
      "source": [
        "def no_error():\n",
        "  return 'done!'\n",
        "  # Nothing after this point will be executed\n",
        "  print(1/0)"
      ],
      "execution_count": 0,
      "outputs": []
    },
    {
      "cell_type": "code",
      "metadata": {
        "id": "bkp6qOt3kuhI",
        "colab_type": "code",
        "outputId": "b892641b-9a66-4c33-8dac-689a3c954700",
        "colab": {
          "base_uri": "https://localhost:8080/",
          "height": 34
        }
      },
      "source": [
        "no_error()"
      ],
      "execution_count": 0,
      "outputs": [
        {
          "output_type": "execute_result",
          "data": {
            "text/plain": [
              "'done!'"
            ]
          },
          "metadata": {
            "tags": []
          },
          "execution_count": 49
        }
      ]
    },
    {
      "cell_type": "markdown",
      "metadata": {
        "id": "_PonrQN-k6Hk",
        "colab_type": "text"
      },
      "source": [
        "However, functions can return multiple results"
      ]
    },
    {
      "cell_type": "code",
      "metadata": {
        "id": "X6pIHmeQlH60",
        "colab_type": "code",
        "colab": {}
      },
      "source": [
        "def test():\n",
        "  return 1, 2, 3"
      ],
      "execution_count": 0,
      "outputs": []
    },
    {
      "cell_type": "code",
      "metadata": {
        "id": "J-s4rYfklQHq",
        "colab_type": "code",
        "outputId": "ffb0d4fe-1652-4759-b9f5-5e4c60b310d3",
        "colab": {
          "base_uri": "https://localhost:8080/",
          "height": 34
        }
      },
      "source": [
        "test()"
      ],
      "execution_count": 0,
      "outputs": [
        {
          "output_type": "execute_result",
          "data": {
            "text/plain": [
              "(1, 2, 3)"
            ]
          },
          "metadata": {
            "tags": []
          },
          "execution_count": 51
        }
      ]
    },
    {
      "cell_type": "markdown",
      "metadata": {
        "id": "2GBiNMB_lZZP",
        "colab_type": "text"
      },
      "source": [
        "Remember when we did multiple assignments... "
      ]
    },
    {
      "cell_type": "code",
      "metadata": {
        "id": "AD86KYrXlqZd",
        "colab_type": "code",
        "colab": {}
      },
      "source": [
        "x, y, z = test()"
      ],
      "execution_count": 0,
      "outputs": []
    },
    {
      "cell_type": "code",
      "metadata": {
        "id": "X9R46bq7l_mu",
        "colab_type": "code",
        "outputId": "7ef5f683-92aa-44e6-8a13-29187f7fc77a",
        "colab": {
          "base_uri": "https://localhost:8080/",
          "height": 34
        }
      },
      "source": [
        "x"
      ],
      "execution_count": 0,
      "outputs": [
        {
          "output_type": "execute_result",
          "data": {
            "text/plain": [
              "1"
            ]
          },
          "metadata": {
            "tags": []
          },
          "execution_count": 53
        }
      ]
    },
    {
      "cell_type": "code",
      "metadata": {
        "id": "_zDnctPWmF8i",
        "colab_type": "code",
        "outputId": "fd0897c3-fa04-4457-8bcb-3be95ac34853",
        "colab": {
          "base_uri": "https://localhost:8080/",
          "height": 34
        }
      },
      "source": [
        "y"
      ],
      "execution_count": 0,
      "outputs": [
        {
          "output_type": "execute_result",
          "data": {
            "text/plain": [
              "2"
            ]
          },
          "metadata": {
            "tags": []
          },
          "execution_count": 54
        }
      ]
    },
    {
      "cell_type": "code",
      "metadata": {
        "id": "tz8wwC16mHu5",
        "colab_type": "code",
        "outputId": "c6583611-971d-4260-c88d-913c247cefd2",
        "colab": {
          "base_uri": "https://localhost:8080/",
          "height": 34
        }
      },
      "source": [
        "z"
      ],
      "execution_count": 0,
      "outputs": [
        {
          "output_type": "execute_result",
          "data": {
            "text/plain": [
              "3"
            ]
          },
          "metadata": {
            "tags": []
          },
          "execution_count": 55
        }
      ]
    },
    {
      "cell_type": "markdown",
      "metadata": {
        "id": "o_hTa9MNmRdy",
        "colab_type": "text"
      },
      "source": [
        "**Function Parameters**"
      ]
    },
    {
      "cell_type": "markdown",
      "metadata": {
        "id": "J1URrRQHmY9w",
        "colab_type": "text"
      },
      "source": [
        "In Functions, the values listed inside parenthesis are **parameters**"
      ]
    },
    {
      "cell_type": "code",
      "metadata": {
        "id": "OReCQJfamkHg",
        "colab_type": "code",
        "colab": {}
      },
      "source": [
        "def another_test(x, y, z):\n",
        "  q = x + y + z\n",
        "  print(x, y, z, q)"
      ],
      "execution_count": 0,
      "outputs": []
    },
    {
      "cell_type": "markdown",
      "metadata": {
        "id": "zei16CWcnAXG",
        "colab_type": "text"
      },
      "source": [
        "x, y and z are local symbols so is q"
      ]
    },
    {
      "cell_type": "markdown",
      "metadata": {
        "id": "p2mo0YrXnNU4",
        "colab_type": "text"
      },
      "source": [
        "**Function Arguments**"
      ]
    },
    {
      "cell_type": "markdown",
      "metadata": {
        "id": "afUOCvqynlfM",
        "colab_type": "text"
      },
      "source": [
        "when you call a function, you pass the parameters as **arguments**"
      ]
    },
    {
      "cell_type": "code",
      "metadata": {
        "id": "6I5Dlu2Qn4FA",
        "colab_type": "code",
        "outputId": "9ab5f4ec-1efc-4084-cae3-7ea6922490d6",
        "colab": {
          "base_uri": "https://localhost:8080/",
          "height": 34
        }
      },
      "source": [
        "another_test(3, 6, 9)"
      ],
      "execution_count": 0,
      "outputs": [
        {
          "output_type": "stream",
          "text": [
            "3 6 9 18\n"
          ],
          "name": "stdout"
        }
      ]
    },
    {
      "cell_type": "code",
      "metadata": {
        "id": "3f75SuChgf6K",
        "colab_type": "code",
        "outputId": "5e6a8375-1e36-46c1-d92e-e870afcc7567",
        "colab": {
          "base_uri": "https://localhost:8080/",
          "height": 184
        }
      },
      "source": [
        "another_test(2, 4, 5, 6)"
      ],
      "execution_count": 0,
      "outputs": [
        {
          "output_type": "error",
          "ename": "TypeError",
          "evalue": "ignored",
          "traceback": [
            "\u001b[0;31m---------------------------------------------------------------------------\u001b[0m",
            "\u001b[0;31mTypeError\u001b[0m                                 Traceback (most recent call last)",
            "\u001b[0;32m<ipython-input-58-d82a500b7963>\u001b[0m in \u001b[0;36m<module>\u001b[0;34m()\u001b[0m\n\u001b[0;32m----> 1\u001b[0;31m \u001b[0manother_test\u001b[0m\u001b[0;34m(\u001b[0m\u001b[0;36m2\u001b[0m\u001b[0;34m,\u001b[0m \u001b[0;36m4\u001b[0m\u001b[0;34m,\u001b[0m \u001b[0;36m5\u001b[0m\u001b[0;34m,\u001b[0m \u001b[0;36m6\u001b[0m\u001b[0;34m)\u001b[0m\u001b[0;34m\u001b[0m\u001b[0;34m\u001b[0m\u001b[0m\n\u001b[0m",
            "\u001b[0;31mTypeError\u001b[0m: another_test() takes 3 positional arguments but 4 were given"
          ]
        }
      ]
    },
    {
      "cell_type": "markdown",
      "metadata": {
        "id": "CW6Jgu5QoRTf",
        "colab_type": "text"
      },
      "source": [
        "that arguments you pass are bound to the parameters inside the function and used as such"
      ]
    },
    {
      "cell_type": "markdown",
      "metadata": {
        "id": "NNEr-QCfFZXT",
        "colab_type": "text"
      },
      "source": [
        "**More on Parameters**"
      ]
    },
    {
      "cell_type": "markdown",
      "metadata": {
        "id": "1R9m__3zFfKt",
        "colab_type": "text"
      },
      "source": [
        "Parameter definition as we have seen already happens like this:"
      ]
    },
    {
      "cell_type": "code",
      "metadata": {
        "id": "8BP6uLz2FpMb",
        "colab_type": "code",
        "colab": {}
      },
      "source": [
        "def somefunction(x, y, z):\n",
        "  print(x, y, z)"
      ],
      "execution_count": 0,
      "outputs": []
    },
    {
      "cell_type": "markdown",
      "metadata": {
        "id": "2BWVJZEBF2bg",
        "colab_type": "text"
      },
      "source": [
        "These types of parameters are called positional. \n",
        "\n",
        "When you call a function with positional parameters, they must be provided in the order that they are listed. \n",
        "\n",
        "You can also provide default values for parameters during the function definition "
      ]
    },
    {
      "cell_type": "code",
      "metadata": {
        "id": "R800uhGaGeLy",
        "colab_type": "code",
        "colab": {}
      },
      "source": [
        "def fun(x=1, y=2, z=3):\n",
        "  print(x, y, z)"
      ],
      "execution_count": 0,
      "outputs": []
    },
    {
      "cell_type": "markdown",
      "metadata": {
        "id": "NpuM-jtSGsl-",
        "colab_type": "text"
      },
      "source": [
        "When parameters have default values, they are optional when calling the function"
      ]
    },
    {
      "cell_type": "code",
      "metadata": {
        "id": "7Qn0OpN9G4k3",
        "colab_type": "code",
        "outputId": "ba80d376-02cf-4b3c-d667-b2dec90baba5",
        "colab": {
          "base_uri": "https://localhost:8080/",
          "height": 34
        }
      },
      "source": [
        "fun()"
      ],
      "execution_count": 0,
      "outputs": [
        {
          "output_type": "stream",
          "text": [
            "1 2 3\n"
          ],
          "name": "stdout"
        }
      ]
    },
    {
      "cell_type": "markdown",
      "metadata": {
        "id": "0vS4W9tkLsIB",
        "colab_type": "text"
      },
      "source": [
        "You can provide arguments to a function call for optional parameters positionally:"
      ]
    },
    {
      "cell_type": "code",
      "metadata": {
        "id": "EDYsQyRxLyjG",
        "colab_type": "code",
        "outputId": "dfa20089-d19f-4573-a40c-de05d3f74d9d",
        "colab": {
          "base_uri": "https://localhost:8080/",
          "height": 34
        }
      },
      "source": [
        "fun(6)"
      ],
      "execution_count": 0,
      "outputs": [
        {
          "output_type": "stream",
          "text": [
            "6 2 3\n"
          ],
          "name": "stdout"
        }
      ]
    },
    {
      "cell_type": "code",
      "metadata": {
        "id": "wCtaPKYbL4MK",
        "colab_type": "code",
        "outputId": "785f1ef3-2551-4a89-d6fd-1d80c73aeb4b",
        "colab": {
          "base_uri": "https://localhost:8080/",
          "height": 34
        }
      },
      "source": [
        "fun(6, 7)"
      ],
      "execution_count": 0,
      "outputs": [
        {
          "output_type": "stream",
          "text": [
            "6 7 3\n"
          ],
          "name": "stdout"
        }
      ]
    },
    {
      "cell_type": "code",
      "metadata": {
        "id": "lmInvvVmL7dA",
        "colab_type": "code",
        "outputId": "224ae4ac-3c8e-439d-9d25-b463a1acf06a",
        "colab": {
          "base_uri": "https://localhost:8080/",
          "height": 34
        }
      },
      "source": [
        "fun(6, 7, 8)"
      ],
      "execution_count": 0,
      "outputs": [
        {
          "output_type": "stream",
          "text": [
            "6 7 8\n"
          ],
          "name": "stdout"
        }
      ]
    },
    {
      "cell_type": "code",
      "metadata": {
        "id": "RECP1KVmh8WL",
        "colab_type": "code",
        "outputId": "eee2d353-1cae-47b7-a518-fa7303d74098",
        "colab": {
          "base_uri": "https://localhost:8080/",
          "height": 34
        }
      },
      "source": [
        "fun(20, 21, 22)"
      ],
      "execution_count": 0,
      "outputs": [
        {
          "output_type": "stream",
          "text": [
            "20 21 22\n"
          ],
          "name": "stdout"
        }
      ]
    },
    {
      "cell_type": "markdown",
      "metadata": {
        "id": "TsuxD-HaMHw-",
        "colab_type": "text"
      },
      "source": [
        "Or, you can use the parameter name as a keyword to indicate which you mean:"
      ]
    },
    {
      "cell_type": "code",
      "metadata": {
        "id": "hUpS6H_XiWE-",
        "colab_type": "code",
        "outputId": "f6d6bc87-9e99-419f-8ea4-8223fe1347ab",
        "colab": {
          "base_uri": "https://localhost:8080/",
          "height": 34
        }
      },
      "source": [
        "fun()"
      ],
      "execution_count": 0,
      "outputs": [
        {
          "output_type": "stream",
          "text": [
            "1 2 3\n"
          ],
          "name": "stdout"
        }
      ]
    },
    {
      "cell_type": "code",
      "metadata": {
        "id": "3Wpeb1l3M4CW",
        "colab_type": "code",
        "outputId": "9b0c6347-9e54-4e4b-f74e-9d8fbce9ba98",
        "colab": {
          "base_uri": "https://localhost:8080/",
          "height": 34
        }
      },
      "source": [
        "fun(z=3, y=4)"
      ],
      "execution_count": 0,
      "outputs": [
        {
          "output_type": "stream",
          "text": [
            "1 4 3\n"
          ],
          "name": "stdout"
        }
      ]
    },
    {
      "cell_type": "markdown",
      "metadata": {
        "id": "N5c5Od1GNGOb",
        "colab_type": "text"
      },
      "source": [
        "Once you’ve provided a keyword argument in this way, you can no longer provide any positional arguments:"
      ]
    },
    {
      "cell_type": "code",
      "metadata": {
        "id": "43RhSz_kNRoA",
        "colab_type": "code",
        "outputId": "1ea5859f-3634-4438-fade-9d7a4df8458a",
        "colab": {
          "base_uri": "https://localhost:8080/",
          "height": 130
        }
      },
      "source": [
        "fun(x=5, 6)"
      ],
      "execution_count": 0,
      "outputs": [
        {
          "output_type": "error",
          "ename": "SyntaxError",
          "evalue": "ignored",
          "traceback": [
            "\u001b[0;36m  File \u001b[0;32m\"<ipython-input-67-c683c1a2dd7f>\"\u001b[0;36m, line \u001b[0;32m1\u001b[0m\n\u001b[0;31m    fun(x=5, 6)\u001b[0m\n\u001b[0m            ^\u001b[0m\n\u001b[0;31mSyntaxError\u001b[0m\u001b[0;31m:\u001b[0m positional argument follows keyword argument\n"
          ]
        }
      ]
    },
    {
      "cell_type": "markdown",
      "metadata": {
        "id": "0y1i2SGMRH8D",
        "colab_type": "text"
      },
      "source": [
        "This brings us to a fun feature of Python function definitions.\n",
        "\n",
        "You can define a parameter list that requires an unspecified number of positional or keyword arguments.\n",
        "\n",
        "The key is the * (splat) or ** (double-splat) operator:"
      ]
    },
    {
      "cell_type": "code",
      "metadata": {
        "id": "PgAvsZrrSUjd",
        "colab_type": "code",
        "colab": {}
      },
      "source": [
        "def fun_times(*args, **kwargs):\n",
        "  print(args, kwargs)"
      ],
      "execution_count": 0,
      "outputs": []
    },
    {
      "cell_type": "code",
      "metadata": {
        "id": "tB5otH1-Sm9F",
        "colab_type": "code",
        "outputId": "fc06fa4d-2022-42d0-cd6f-2c8b803169fc",
        "colab": {
          "base_uri": "https://localhost:8080/",
          "height": 34
        }
      },
      "source": [
        "fun_times(1)"
      ],
      "execution_count": 0,
      "outputs": [
        {
          "output_type": "stream",
          "text": [
            "(1,) {}\n"
          ],
          "name": "stdout"
        }
      ]
    },
    {
      "cell_type": "code",
      "metadata": {
        "id": "Lmie54kGSs9x",
        "colab_type": "code",
        "outputId": "ebd3bea1-4fd2-48e4-deeb-822ea8f52774",
        "colab": {
          "base_uri": "https://localhost:8080/",
          "height": 34
        }
      },
      "source": [
        "fun_times(1, 2, zombies='bodies')"
      ],
      "execution_count": 0,
      "outputs": [
        {
          "output_type": "stream",
          "text": [
            "(1, 2) {'zombies': 'bodies'}\n"
          ],
          "name": "stdout"
        }
      ]
    },
    {
      "cell_type": "code",
      "metadata": {
        "id": "9posqi59TWY_",
        "colab_type": "code",
        "outputId": "60f849e2-fd01-428c-de3b-820295729888",
        "colab": {
          "base_uri": "https://localhost:8080/",
          "height": 34
        }
      },
      "source": [
        "fun_times(1, 2, 3, zombies='brians', vampires='blood')"
      ],
      "execution_count": 0,
      "outputs": [
        {
          "output_type": "stream",
          "text": [
            "(1, 2, 3) {'zombies': 'brians', 'vampires': 'blood'}\n"
          ],
          "name": "stdout"
        }
      ]
    },
    {
      "cell_type": "markdown",
      "metadata": {
        "id": "8ZgBoVvOTp-5",
        "colab_type": "text"
      },
      "source": [
        "**args** and **kwargs** are the conventional names for these. "
      ]
    },
    {
      "cell_type": "code",
      "metadata": {
        "id": "HxGcpPMRkrOj",
        "colab_type": "code",
        "colab": {}
      },
      "source": [
        "def playtime(*args, **kwargs):\n",
        "  print(args[0])\n",
        "  if len(args) > 1:\n",
        "    print(args[1])\n",
        "  if kwargs:\n",
        "    print(kwargs)\n",
        "  else:\n",
        "    print('Nah wetin noh?')"
      ],
      "execution_count": 0,
      "outputs": []
    },
    {
      "cell_type": "code",
      "metadata": {
        "id": "pKYjTwAdlKD_",
        "colab_type": "code",
        "outputId": "18284dc0-4302-45ff-dfa8-5cdb6c09dc65",
        "colab": {
          "base_uri": "https://localhost:8080/",
          "height": 51
        }
      },
      "source": [
        "playtime(1, 3, name='james')"
      ],
      "execution_count": 0,
      "outputs": [
        {
          "output_type": "stream",
          "text": [
            "1\n",
            "3\n"
          ],
          "name": "stdout"
        }
      ]
    },
    {
      "cell_type": "code",
      "metadata": {
        "id": "k8WV92fGlyh0",
        "colab_type": "code",
        "outputId": "7ea38cc7-46b7-4985-ebdf-468669a052ae",
        "colab": {
          "base_uri": "https://localhost:8080/",
          "height": 51
        }
      },
      "source": [
        "playtime(1, name='james')"
      ],
      "execution_count": 0,
      "outputs": [
        {
          "output_type": "stream",
          "text": [
            "1\n",
            "Nah wetin noh?\n"
          ],
          "name": "stdout"
        }
      ]
    },
    {
      "cell_type": "code",
      "metadata": {
        "id": "vM7HVbV8mf31",
        "colab_type": "code",
        "outputId": "387ccf0f-cdd5-4de8-f8c9-216d921ac189",
        "colab": {
          "base_uri": "https://localhost:8080/",
          "height": 68
        }
      },
      "source": [
        "playtime(1, 2, 3, name='james')"
      ],
      "execution_count": 0,
      "outputs": [
        {
          "output_type": "stream",
          "text": [
            "1\n",
            "2\n",
            "{'name': 'james'}\n"
          ],
          "name": "stdout"
        }
      ]
    },
    {
      "cell_type": "markdown",
      "metadata": {
        "id": "yf90CxXEAvPJ",
        "colab_type": "text"
      },
      "source": [
        "**Local Vs Global**"
      ]
    },
    {
      "cell_type": "markdown",
      "metadata": {
        "id": "r9HBU8fiA5c2",
        "colab_type": "text"
      },
      "source": [
        "Symbols bound in python have a scope. \n",
        "\n",
        "The scope determines when a symbol is visible or what value it has in a given code block. "
      ]
    },
    {
      "cell_type": "code",
      "metadata": {
        "id": "7TwnzA4ZBRKX",
        "colab_type": "code",
        "colab": {}
      },
      "source": [
        "x = 32"
      ],
      "execution_count": 0,
      "outputs": []
    },
    {
      "cell_type": "code",
      "metadata": {
        "id": "UBlgR_jTBhvE",
        "colab_type": "code",
        "colab": {}
      },
      "source": [
        "y = 33"
      ],
      "execution_count": 0,
      "outputs": []
    },
    {
      "cell_type": "code",
      "metadata": {
        "id": "361CA_SHBhtC",
        "colab_type": "code",
        "colab": {}
      },
      "source": [
        "z = 34"
      ],
      "execution_count": 0,
      "outputs": []
    },
    {
      "cell_type": "code",
      "metadata": {
        "id": "uyxZ2ayyBn4N",
        "colab_type": "code",
        "colab": {}
      },
      "source": [
        "def new_test(x, y):\n",
        "  print(x, y, z)"
      ],
      "execution_count": 0,
      "outputs": []
    },
    {
      "cell_type": "code",
      "metadata": {
        "id": "_4_GXU1kB_YJ",
        "colab_type": "code",
        "outputId": "127b3c61-65f0-4325-f185-930ba8a2987e",
        "colab": {
          "base_uri": "https://localhost:8080/",
          "height": 34
        }
      },
      "source": [
        "new_test(2, 3)"
      ],
      "execution_count": 0,
      "outputs": [
        {
          "output_type": "stream",
          "text": [
            "2 3 34\n"
          ],
          "name": "stdout"
        }
      ]
    },
    {
      "cell_type": "markdown",
      "metadata": {
        "id": "NoS422naCI3Z",
        "colab_type": "text"
      },
      "source": [
        "x and y are local to the function ... z is global \n",
        "\n",
        "Did the value of x and why change globally?? "
      ]
    },
    {
      "cell_type": "code",
      "metadata": {
        "id": "o0tQmK48Cdtl",
        "colab_type": "code",
        "outputId": "d1270c03-9c48-4fa1-faf2-70b1d1d699c8",
        "colab": {
          "base_uri": "https://localhost:8080/",
          "height": 34
        }
      },
      "source": [
        "x"
      ],
      "execution_count": 0,
      "outputs": [
        {
          "output_type": "execute_result",
          "data": {
            "text/plain": [
              "32"
            ]
          },
          "metadata": {
            "tags": []
          },
          "execution_count": 89
        }
      ]
    },
    {
      "cell_type": "code",
      "metadata": {
        "id": "oonPKrDxCjEF",
        "colab_type": "code",
        "outputId": "5d3d303b-8397-4e80-ea6d-ad523fd3c21d",
        "colab": {
          "base_uri": "https://localhost:8080/",
          "height": 34
        }
      },
      "source": [
        "y"
      ],
      "execution_count": 0,
      "outputs": [
        {
          "output_type": "execute_result",
          "data": {
            "text/plain": [
              "33"
            ]
          },
          "metadata": {
            "tags": []
          },
          "execution_count": 90
        }
      ]
    },
    {
      "cell_type": "markdown",
      "metadata": {
        "id": "kCIVDxpvCrM0",
        "colab_type": "text"
      },
      "source": [
        "In general you should only use globals for contant bindings . \n",
        "\n",
        "In Python, you designate a contant by typing its symbol in \"ALL_CAPs\""
      ]
    },
    {
      "cell_type": "code",
      "metadata": {
        "id": "B2RZGaQDDAqi",
        "colab_type": "code",
        "colab": {}
      },
      "source": [
        "INSTALLED_APPS = ['foo', 'bar', 'sucks']\n",
        "SECRET_KEY = 'some secret key'\n",
        "---"
      ],
      "execution_count": 0,
      "outputs": []
    },
    {
      "cell_type": "markdown",
      "metadata": {
        "id": "wCICVQggDmrS",
        "colab_type": "text"
      },
      "source": [
        "Take a look at the following function definition"
      ]
    },
    {
      "cell_type": "code",
      "metadata": {
        "id": "RpOwf5mmDu1A",
        "colab_type": "code",
        "colab": {}
      },
      "source": [
        "x = 3"
      ],
      "execution_count": 0,
      "outputs": []
    },
    {
      "cell_type": "code",
      "metadata": {
        "id": "PwpZo_EuD9Rt",
        "colab_type": "code",
        "colab": {}
      },
      "source": [
        "def f():\n",
        "  y = x\n",
        "  x = 5\n",
        "  print(x)\n",
        "  print(y)"
      ],
      "execution_count": 0,
      "outputs": []
    },
    {
      "cell_type": "markdown",
      "metadata": {
        "id": "YW8_dudyEhfj",
        "colab_type": "text"
      },
      "source": [
        "What do you think will happen when we call f?\n",
        "\n",
        "Ty it and see"
      ]
    },
    {
      "cell_type": "code",
      "metadata": {
        "id": "G_Nq8lI3Es-L",
        "colab_type": "code",
        "outputId": "dd7732b0-7ac7-4616-9a9d-0a3c946ce24d",
        "colab": {
          "base_uri": "https://localhost:8080/",
          "height": 303
        }
      },
      "source": [
        "f()"
      ],
      "execution_count": 0,
      "outputs": [
        {
          "output_type": "error",
          "ename": "UnboundLocalError",
          "evalue": "ignored",
          "traceback": [
            "\u001b[0;31m---------------------------------------------------------------------------\u001b[0m",
            "\u001b[0;31mUnboundLocalError\u001b[0m                         Traceback (most recent call last)",
            "\u001b[0;32m<ipython-input-93-c43e34e6d405>\u001b[0m in \u001b[0;36m<module>\u001b[0;34m()\u001b[0m\n\u001b[0;32m----> 1\u001b[0;31m \u001b[0mf\u001b[0m\u001b[0;34m(\u001b[0m\u001b[0;34m)\u001b[0m\u001b[0;34m\u001b[0m\u001b[0;34m\u001b[0m\u001b[0m\n\u001b[0m",
            "\u001b[0;32m<ipython-input-92-e60120380d24>\u001b[0m in \u001b[0;36mf\u001b[0;34m()\u001b[0m\n\u001b[1;32m      1\u001b[0m \u001b[0;32mdef\u001b[0m \u001b[0mf\u001b[0m\u001b[0;34m(\u001b[0m\u001b[0;34m)\u001b[0m\u001b[0;34m:\u001b[0m\u001b[0;34m\u001b[0m\u001b[0;34m\u001b[0m\u001b[0m\n\u001b[0;32m----> 2\u001b[0;31m   \u001b[0my\u001b[0m \u001b[0;34m=\u001b[0m \u001b[0mx\u001b[0m\u001b[0;34m\u001b[0m\u001b[0;34m\u001b[0m\u001b[0m\n\u001b[0m\u001b[1;32m      3\u001b[0m   \u001b[0mx\u001b[0m \u001b[0;34m=\u001b[0m \u001b[0;36m5\u001b[0m\u001b[0;34m\u001b[0m\u001b[0;34m\u001b[0m\u001b[0m\n\u001b[1;32m      4\u001b[0m   \u001b[0mprint\u001b[0m\u001b[0;34m(\u001b[0m\u001b[0mx\u001b[0m\u001b[0;34m)\u001b[0m\u001b[0;34m\u001b[0m\u001b[0;34m\u001b[0m\u001b[0m\n\u001b[1;32m      5\u001b[0m   \u001b[0mprint\u001b[0m\u001b[0;34m(\u001b[0m\u001b[0my\u001b[0m\u001b[0;34m)\u001b[0m\u001b[0;34m\u001b[0m\u001b[0;34m\u001b[0m\u001b[0m\n",
            "\u001b[0;31mUnboundLocalError\u001b[0m: local variable 'x' referenced before assignment"
          ]
        }
      ]
    },
    {
      "cell_type": "markdown",
      "metadata": {
        "id": "fXQYbL2vE6TE",
        "colab_type": "text"
      },
      "source": [
        "Because you are binding the symbol x locally, it becomes local and mask the global value that is already bound"
      ]
    },
    {
      "cell_type": "markdown",
      "metadata": {
        "id": "-YJEzQ_vU3XN",
        "colab_type": "text"
      },
      "source": [
        "**Function Documentation**"
      ]
    },
    {
      "cell_type": "markdown",
      "metadata": {
        "id": "mvShVPN1U8oq",
        "colab_type": "text"
      },
      "source": [
        "It’s often helpful to leave information in your code about what you were thinking when you wrote it.\n",
        "\n",
        "This can help reduce the number of WTFs per minute in reading it later.\n",
        "\n",
        "There are two approaches to this:\n",
        "\n",
        "* Comments\n",
        "* Docstrings\n",
        "\n",
        "Comments go inline in the body of your code, to explain reasoning:"
      ]
    },
    {
      "cell_type": "code",
      "metadata": {
        "id": "cIRLSjtyVXSJ",
        "colab_type": "code",
        "colab": {}
      },
      "source": [
        "if (frobnaglers > whozits):\n",
        "    # borangas are shermed to ensure frobnagler population\n",
        "    # does not grow out of control\n",
        "    sherm_the_boranga()"
      ],
      "execution_count": 0,
      "outputs": []
    },
    {
      "cell_type": "markdown",
      "metadata": {
        "id": "D4q9o6LOVeCv",
        "colab_type": "text"
      },
      "source": [
        "You can use them to mark places you want to revisit later:"
      ]
    },
    {
      "cell_type": "code",
      "metadata": {
        "id": "ckqfxLIYVh9a",
        "colab_type": "code",
        "colab": {}
      },
      "source": [
        "for partygoer in partygoers:\n",
        "    for baloon in baloons:\n",
        "        for cupcake in cupcakes:\n",
        "            # TODO: Reduce time complexity here.  It's killing us\n",
        "            #  for large parties.\n",
        "            resolve_party_favor(partygoer, baloon, cupcake)"
      ],
      "execution_count": 0,
      "outputs": []
    },
    {
      "cell_type": "markdown",
      "metadata": {
        "id": "O7y7sK39VqID",
        "colab_type": "text"
      },
      "source": [
        "Be judicious in your use of comments.\n",
        "\n",
        "Use them when you need to.\n",
        "\n",
        "Make them useful.\n",
        "\n",
        "This is not useful:"
      ]
    },
    {
      "cell_type": "code",
      "metadata": {
        "id": "U9zM_aRsVu7Z",
        "colab_type": "code",
        "colab": {}
      },
      "source": [
        "for sponge in sponges:\n",
        "    # apply soap to each sponge\n",
        "    worker.apply_soap(sponge)"
      ],
      "execution_count": 0,
      "outputs": []
    },
    {
      "cell_type": "markdown",
      "metadata": {
        "id": "V28_8GTLV7PS",
        "colab_type": "text"
      },
      "source": [
        "In Python, docstrings are used to provide in-line documentation in a number of places.\n",
        "\n",
        "The first place we will see is in the definition of functions.\n",
        "\n",
        "To define a function you use the def keyword.\n",
        "\n",
        "If a string literal is the first thing in the function block following the header, it is a docstring:"
      ]
    },
    {
      "cell_type": "code",
      "metadata": {
        "id": "yyZI8jCMWAox",
        "colab_type": "code",
        "colab": {}
      },
      "source": [
        "def complex_function(arg1, arg2, kwarg1=u'bannana'):\n",
        "    \"\"\"Return a value resulting from a complex calculation.\"\"\"\n",
        "    # code block here"
      ],
      "execution_count": 0,
      "outputs": []
    },
    {
      "cell_type": "markdown",
      "metadata": {
        "id": "rJEVaugXWK63",
        "colab_type": "text"
      },
      "source": [
        "You can then read this in an interpreter as the __doc__ attribute of the function object.\n",
        "\n",
        "A docstring should:\n",
        "\n",
        "* be a complete sentence in the form of a command describing what the function does.\n",
        "  * “”“Return a list of values based on blah blah”“” is a good docstring\n",
        "  * “”“Returns a list of values based on blah blah”“” is not\n",
        "* fit onto a single line.\n",
        "  * If more description is needed, make the first line a complete sentence and add more lines below for enhancement.\n",
        "* be enclosed with triple-quotes.\n",
        "  * This allows for easy expansion if required at a later date\n",
        "  * Always close on the same line if the docstring is only one line."
      ]
    },
    {
      "cell_type": "markdown",
      "metadata": {
        "id": "BwgmdHhxokHG",
        "colab_type": "text"
      },
      "source": [
        "**Python Conditionals**"
      ]
    },
    {
      "cell_type": "markdown",
      "metadata": {
        "id": "ze-WG3VwovbL",
        "colab_type": "text"
      },
      "source": [
        "**The `if`, `elif` and `else` Statement**"
      ]
    },
    {
      "cell_type": "markdown",
      "metadata": {
        "id": "viG-U7AVo9oU",
        "colab_type": "text"
      },
      "source": [
        "Conditional statements allow you to do intersting things if a condition is true ... see what I did there?"
      ]
    },
    {
      "cell_type": "code",
      "metadata": {
        "id": "i4OqjiXeqf4M",
        "colab_type": "code",
        "colab": {}
      },
      "source": [
        "def test(a):\n",
        "  if a == 5:\n",
        "    print('That is the value I am looking for')\n",
        "  elif a == 7:\n",
        "    print('That is an OK number')\n",
        "  else:\n",
        "    print('That number wont do!!')"
      ],
      "execution_count": 0,
      "outputs": []
    },
    {
      "cell_type": "code",
      "metadata": {
        "id": "TL-kjRaNrHo9",
        "colab_type": "code",
        "outputId": "06a692bf-dd79-4077-ad14-23c25ccf0fd4",
        "colab": {
          "base_uri": "https://localhost:8080/",
          "height": 34
        }
      },
      "source": [
        "test(5)"
      ],
      "execution_count": 0,
      "outputs": [
        {
          "output_type": "stream",
          "text": [
            "That is the value I am looking for\n"
          ],
          "name": "stdout"
        }
      ]
    },
    {
      "cell_type": "code",
      "metadata": {
        "id": "UGPgQJpwrkvI",
        "colab_type": "code",
        "outputId": "5da2c489-e660-4c5a-d395-41a25c32e729",
        "colab": {
          "base_uri": "https://localhost:8080/",
          "height": 34
        }
      },
      "source": [
        "test(7)"
      ],
      "execution_count": 0,
      "outputs": [
        {
          "output_type": "stream",
          "text": [
            "That is an OK number\n"
          ],
          "name": "stdout"
        }
      ]
    },
    {
      "cell_type": "code",
      "metadata": {
        "id": "pjqNOQgyrpG8",
        "colab_type": "code",
        "outputId": "1df29fe2-37df-484a-f08b-8d7cf963105b",
        "colab": {
          "base_uri": "https://localhost:8080/",
          "height": 34
        }
      },
      "source": [
        "test(14)"
      ],
      "execution_count": 0,
      "outputs": [
        {
          "output_type": "stream",
          "text": [
            "That number wont do!!\n"
          ],
          "name": "stdout"
        }
      ]
    },
    {
      "cell_type": "markdown",
      "metadata": {
        "id": "vQP_nGKTyy7f",
        "colab_type": "text"
      },
      "source": [
        "`if` and `elif` statements allow you to make decisions"
      ]
    },
    {
      "cell_type": "code",
      "metadata": {
        "id": "6TRUyhxRzCSP",
        "colab_type": "code",
        "colab": {}
      },
      "source": [
        "if a:\n",
        "  print('a')\n",
        "elif b:\n",
        "  print('b')\n",
        "elif c:\n",
        "  print('c')\n",
        "else:\n",
        "  print('nah wetin noh?')"
      ],
      "execution_count": 0,
      "outputs": []
    },
    {
      "cell_type": "markdown",
      "metadata": {
        "id": "LbbNrCK9zd0o",
        "colab_type": "text"
      },
      "source": [
        "Whats the difference between the 2 code snippets below? "
      ]
    },
    {
      "cell_type": "code",
      "metadata": {
        "id": "3t17mgRGzj4d",
        "colab_type": "code",
        "colab": {}
      },
      "source": [
        "if a:\n",
        "  print('a')\n",
        "elif b:\n",
        "  print('b')\n",
        "# Versus\n",
        "if a:\n",
        "  print('a')\n",
        "if b:\n",
        "  print('b')"
      ],
      "execution_count": 0,
      "outputs": []
    },
    {
      "cell_type": "markdown",
      "metadata": {
        "id": "D3m6K07b0oPk",
        "colab_type": "text"
      },
      "source": [
        "Many languages use a `switch` statement"
      ]
    },
    {
      "cell_type": "code",
      "metadata": {
        "id": "zrgDq8xA0zGk",
        "colab_type": "code",
        "colab": {}
      },
      "source": [
        "switch (expr) {\n",
        "  case \"Oranges\":\n",
        "    document.write(\"Oranges are $0.59 a pound.<br>\");\n",
        "    break;\n",
        "  case \"Apples\":\n",
        "    document.write(\"Apples are $0.32 a pound.<br>\");\n",
        "    break;\n",
        "  case \"Mangoes\":\n",
        "  case \"Papayas\":\n",
        "    document.write(\"Mangoes and papayas are $2.79 a pound.<br>\");\n",
        "    break;\n",
        "  default:\n",
        "    document.write(\"Sorry, we are out of \" + expr + \".<br>\");\n",
        "}"
      ],
      "execution_count": 0,
      "outputs": []
    },
    {
      "cell_type": "markdown",
      "metadata": {
        "id": "0cUxGL_P08Ah",
        "colab_type": "text"
      },
      "source": [
        "**Not in python** ... in python, you use `if`, `elif`, `else`.\n",
        "\n",
        "(or a dictionary or subclassing...)\n",
        "\n",
        "\n"
      ]
    }
  ]
}