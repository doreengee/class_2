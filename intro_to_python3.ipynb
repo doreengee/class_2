{
  "nbformat": 4,
  "nbformat_minor": 0,
  "metadata": {
    "colab": {
      "name": "intro_to_python3.ipynb",
      "provenance": [],
      "include_colab_link": true
    },
    "kernelspec": {
      "name": "python3",
      "display_name": "Python 3"
    }
  },
  "cells": [
    {
      "cell_type": "markdown",
      "metadata": {
        "id": "view-in-github",
        "colab_type": "text"
      },
      "source": [
        "<a href=\"https://colab.research.google.com/github/doreengee/class_2/blob/master/intro_to_python3.ipynb\" target=\"_parent\"><img src=\"https://colab.research.google.com/assets/colab-badge.svg\" alt=\"Open In Colab\"/></a>"
      ]
    },
    {
      "cell_type": "markdown",
      "metadata": {
        "id": "uZPPBPVf7Vo6",
        "colab_type": "text"
      },
      "source": [
        "# **Recursion**"
      ]
    },
    {
      "cell_type": "markdown",
      "metadata": {
        "id": "2BI6OFg77fUk",
        "colab_type": "text"
      },
      "source": [
        "We have seen that functions can call other functions. \n",
        "\n",
        "But if a function calls itself, that is called **recursion**\n",
        "\n",
        "Like with other functions, a call within a call establishes a call stack\n",
        "\n",
        "With recursion, you need to be careful as this call stack might become very deep if you are not careful. \n",
        "\n",
        "That being said, python has a built in maximum limit on how much recursion you can do therefore saving your machine from running out of memory. "
      ]
    },
    {
      "cell_type": "markdown",
      "metadata": {
        "id": "rOW23_As9005",
        "colab_type": "text"
      },
      "source": [
        "Recursion is very useful for particular situations\n",
        "\n",
        "For example, take the case of the factorial function \n",
        "\n",
        "In mathmatics, the factorial of an integer is the result of multiplying that integer by every integer smaller than it down to 1.\n",
        "\n",
        "5! == 5 * 4 * 3 * 2 * 1"
      ]
    },
    {
      "cell_type": "markdown",
      "metadata": {
        "id": "1KBUaHQV-aou",
        "colab_type": "text"
      },
      "source": [
        "# **Boolean Expressions**"
      ]
    },
    {
      "cell_type": "markdown",
      "metadata": {
        "id": "fP61fow8-rXc",
        "colab_type": "text"
      },
      "source": [
        "**Truthiness**"
      ]
    },
    {
      "cell_type": "markdown",
      "metadata": {
        "id": "JfFpvsAY_Chx",
        "colab_type": "text"
      },
      "source": [
        "What is True or False in Python? \n",
        "\n",
        "* The booleans `True` or `false`\n",
        "* something or nothing"
      ]
    },
    {
      "cell_type": "markdown",
      "metadata": {
        "id": "0dzWYzQ__3IM",
        "colab_type": "text"
      },
      "source": [
        "**Determining Truthiness**"
      ]
    },
    {
      "cell_type": "code",
      "metadata": {
        "id": "FFR_voOiAFoz",
        "colab_type": "code",
        "colab": {}
      },
      "source": [
        "bool(something)"
      ],
      "execution_count": 0,
      "outputs": []
    },
    {
      "cell_type": "markdown",
      "metadata": {
        "id": "Z0zcdVKRALol",
        "colab_type": "text"
      },
      "source": [
        "* None\n",
        "* False\n",
        "* Zero of any numeric type `0, 0L, 0.0, 0j`\n",
        "* Any empty sequence. For example `'', (), []`\n",
        "* Any empty mapping, for example `{}`\n",
        "* nstances of user-defined classes, if the class defines a __nonzero__() or __len__() method, when that method returns the integer zero or bool value False.\n"
      ]
    },
    {
      "cell_type": "markdown",
      "metadata": {
        "id": "gorJdJ5ADRDs",
        "colab_type": "text"
      },
      "source": [
        "**Everything else**"
      ]
    },
    {
      "cell_type": "markdown",
      "metadata": {
        "id": "IxeFpZzFDezY",
        "colab_type": "text"
      },
      "source": [
        "Any object in Python, when passed to the bool() type operator, will evaluate to True or False.\n",
        "\n",
        "When you use the if keyword, it automatically does this to the statement provided.\n",
        "\n",
        "Which means that this is redundant, and not Pythonic:\n"
      ]
    },
    {
      "cell_type": "code",
      "metadata": {
        "id": "j_3UwclJDsXq",
        "colab_type": "code",
        "colab": {}
      },
      "source": [
        "if xx == True:\n",
        "  do_something()"
      ],
      "execution_count": 0,
      "outputs": []
    },
    {
      "cell_type": "markdown",
      "metadata": {
        "id": "aBDzk6hTD0oy",
        "colab_type": "text"
      },
      "source": [
        "instead we use what python gives... "
      ]
    },
    {
      "cell_type": "code",
      "metadata": {
        "id": "mEZrzyBgD6k0",
        "colab_type": "code",
        "colab": {}
      },
      "source": [
        "if xx:\n",
        "  do_something()"
      ],
      "execution_count": 0,
      "outputs": []
    },
    {
      "cell_type": "markdown",
      "metadata": {
        "id": "0QHAgDAqEFHM",
        "colab_type": "text"
      },
      "source": [
        "**And, or and Not**"
      ]
    },
    {
      "cell_type": "markdown",
      "metadata": {
        "id": "4RzRp0ReEMAM",
        "colab_type": "text"
      },
      "source": [
        "Python has three boolean keywords, **and**, **or** and **not**.\n",
        "\n",
        "**and** and **or** are binary expressions, and evaluate from left to right.\n",
        "\n",
        "**and** will return the first operand that evaluates to False, or the last operand if none are True:"
      ]
    },
    {
      "cell_type": "code",
      "metadata": {
        "id": "S_XS6lP7FT-I",
        "colab_type": "code",
        "colab": {}
      },
      "source": [
        "0 and 456"
      ],
      "execution_count": 0,
      "outputs": []
    },
    {
      "cell_type": "markdown",
      "metadata": {
        "id": "V_9NbcraFhGt",
        "colab_type": "text"
      },
      "source": [
        "**or** will return the first operand that evaluates to True, or the last operand if none are True:"
      ]
    },
    {
      "cell_type": "code",
      "metadata": {
        "id": "cAIRJw-cF7VS",
        "colab_type": "code",
        "colab": {}
      },
      "source": [
        "0 or 456"
      ],
      "execution_count": 0,
      "outputs": []
    },
    {
      "cell_type": "markdown",
      "metadata": {
        "id": "yAxEo5akGDc9",
        "colab_type": "text"
      },
      "source": [
        "On the other hand, **not** is a unary expression and inverts the boolean value of its operand:"
      ]
    },
    {
      "cell_type": "code",
      "metadata": {
        "id": "5G13yCV1GTwY",
        "colab_type": "code",
        "outputId": "c52cf92d-b3e5-4fcf-c406-5987a5b764b6",
        "colab": {
          "base_uri": "https://localhost:8080/",
          "height": 34
        }
      },
      "source": [
        "not True"
      ],
      "execution_count": 0,
      "outputs": [
        {
          "output_type": "execute_result",
          "data": {
            "text/plain": [
              "False"
            ]
          },
          "metadata": {
            "tags": []
          },
          "execution_count": 16
        }
      ]
    },
    {
      "cell_type": "code",
      "metadata": {
        "id": "C9PXnHqdGaPw",
        "colab_type": "code",
        "outputId": "e95d9b52-52f8-49d8-c582-80bc45c36ff1",
        "colab": {
          "base_uri": "https://localhost:8080/",
          "height": 34
        }
      },
      "source": [
        "not False"
      ],
      "execution_count": 0,
      "outputs": [
        {
          "output_type": "execute_result",
          "data": {
            "text/plain": [
              "True"
            ]
          },
          "metadata": {
            "tags": []
          },
          "execution_count": 17
        }
      ]
    },
    {
      "cell_type": "markdown",
      "metadata": {
        "id": "TdNiZuvIIqTa",
        "colab_type": "text"
      },
      "source": [
        "Because of the return value of these keywords, you can write concise statements:"
      ]
    },
    {
      "cell_type": "code",
      "metadata": {
        "id": "xws48wY2IvnC",
        "colab_type": "code",
        "colab": {}
      },
      "source": [
        "                  if x is false,\n",
        "x or y               return y,\n",
        "                     else return x\n",
        "\n",
        "                  if x is false,\n",
        "x and y               return  x\n",
        "                      else return y\n",
        "\n",
        "                  if x is false,\n",
        "not x               return True,\n",
        "                    else return False"
      ],
      "execution_count": 0,
      "outputs": []
    },
    {
      "cell_type": "code",
      "metadata": {
        "id": "F8wWfo4MI194",
        "colab_type": "code",
        "colab": {}
      },
      "source": [
        "a or b or c or d\n",
        "a and b and c and d"
      ],
      "execution_count": 0,
      "outputs": []
    },
    {
      "cell_type": "markdown",
      "metadata": {
        "id": "61aPuQL2I5pF",
        "colab_type": "text"
      },
      "source": [
        "The first value that defines the result is returned\n",
        "\n",
        "This is a fairly common idiom:"
      ]
    },
    {
      "cell_type": "code",
      "metadata": {
        "id": "gGI2zcqSI9gn",
        "colab_type": "code",
        "colab": {}
      },
      "source": [
        "if something:\n",
        "    x = a_value\n",
        "else:\n",
        "    x = another_value"
      ],
      "execution_count": 0,
      "outputs": []
    },
    {
      "cell_type": "markdown",
      "metadata": {
        "id": "uxDoVf-hJDDa",
        "colab_type": "text"
      },
      "source": [
        "In other languages, this can be compressed with a “ternary operator”:"
      ]
    },
    {
      "cell_type": "code",
      "metadata": {
        "id": "q5CVLpnVJHID",
        "colab_type": "code",
        "colab": {}
      },
      "source": [
        "result = a > b ? x : y;"
      ],
      "execution_count": 0,
      "outputs": []
    },
    {
      "cell_type": "markdown",
      "metadata": {
        "id": "CBAH-kLIJIcx",
        "colab_type": "text"
      },
      "source": [
        "In python, the same is accomplished with the ternary expression:"
      ]
    },
    {
      "cell_type": "code",
      "metadata": {
        "id": "x4C9SzUCJRYS",
        "colab_type": "code",
        "colab": {}
      },
      "source": [
        "y = 5 if x > 2 else 3"
      ],
      "execution_count": 0,
      "outputs": []
    },
    {
      "cell_type": "markdown",
      "metadata": {
        "id": "yW_DRUxZKfi1",
        "colab_type": "text"
      },
      "source": [
        "**Boolean Return Values**"
      ]
    },
    {
      "cell_type": "markdown",
      "metadata": {
        "id": "1Cl6_tPYKwXs",
        "colab_type": "text"
      },
      "source": [
        "Consider this codding example ... "
      ]
    },
    {
      "cell_type": "code",
      "metadata": {
        "id": "aCcpZU0rK1eT",
        "colab_type": "code",
        "colab": {}
      },
      "source": [
        "def sleep_in(weekday, vacation):\n",
        "    if weekday == True and vacation == False:\n",
        "        return False\n",
        "    else:\n",
        "        return True"
      ],
      "execution_count": 0,
      "outputs": []
    },
    {
      "cell_type": "markdown",
      "metadata": {
        "id": "y79omlZ2LAlN",
        "colab_type": "text"
      },
      "source": [
        "Though correct, that’s not a particularly Pythonic way of solving the problem. Here’s a better solution:\n",
        "\n"
      ]
    },
    {
      "cell_type": "code",
      "metadata": {
        "id": "Kc8nEQu6LGdX",
        "colab_type": "code",
        "colab": {}
      },
      "source": [
        "def sleep_in(weekday, vacation):\n",
        "    return not (weekday == True and vacation == False)"
      ],
      "execution_count": 0,
      "outputs": []
    },
    {
      "cell_type": "markdown",
      "metadata": {
        "id": "w8rp7qoFLWoE",
        "colab_type": "text"
      },
      "source": [
        "And here’s an even better one:"
      ]
    },
    {
      "cell_type": "code",
      "metadata": {
        "id": "0MgI9j0MLX6c",
        "colab_type": "code",
        "colab": {}
      },
      "source": [
        "def sleep_in(weekday, vacation):\n",
        "    return (not weekday) or vacation"
      ],
      "execution_count": 0,
      "outputs": []
    },
    {
      "cell_type": "markdown",
      "metadata": {
        "id": "WBTA_1lVLhoJ",
        "colab_type": "text"
      },
      "source": [
        "In python, the boolean types are subclasses of integer:"
      ]
    },
    {
      "cell_type": "code",
      "metadata": {
        "id": "uZXuyB2nLk3w",
        "colab_type": "code",
        "colab": {}
      },
      "source": [
        "True == 1"
      ],
      "execution_count": 0,
      "outputs": []
    },
    {
      "cell_type": "code",
      "metadata": {
        "id": "kUEF9xgqLpJP",
        "colab_type": "code",
        "colab": {}
      },
      "source": [
        "False == 0"
      ],
      "execution_count": 0,
      "outputs": []
    },
    {
      "cell_type": "markdown",
      "metadata": {
        "id": "E5dW8p_3L0Rl",
        "colab_type": "text"
      },
      "source": [
        "And you can even do math with them (though it’s a bit odd to do so):"
      ]
    },
    {
      "cell_type": "code",
      "metadata": {
        "id": "TNfX2rzTL2pj",
        "colab_type": "code",
        "colab": {}
      },
      "source": [
        "3 + True"
      ],
      "execution_count": 0,
      "outputs": []
    },
    {
      "cell_type": "markdown",
      "metadata": {
        "id": "4m0ylfseYnJD",
        "colab_type": "text"
      },
      "source": [
        "# **In Class Lab**"
      ]
    },
    {
      "cell_type": "markdown",
      "metadata": {
        "id": "LtUniK3sZBwC",
        "colab_type": "text"
      },
      "source": [
        "**Exercises**\n",
        "\n",
        "* Look up the `%` operator.\n",
        "\n",
        "* What do the following statements do? \n",
        "\n",
        "   * 10 % 7 == 3\n",
        "   * 14 % 7 == 0\n",
        "\n",
        "* Write a program that prints the numbers from 1 to 100 inclusive. But    for multiples of three print “Fizz” instead of the number and for the multiples of five print “Buzz”. For numbers which are multiples of both three and five print “FizzBuzz” instead.\n",
        "\n",
        "* Write a function that uses conditional statements \n",
        "* Write a function that returns direct boolean results"
      ]
    },
    {
      "cell_type": "markdown",
      "metadata": {
        "id": "9KAFudGgMYYr",
        "colab_type": "text"
      },
      "source": [
        "# **Code Structure, Modules, and Namespaces**"
      ]
    },
    {
      "cell_type": "markdown",
      "metadata": {
        "id": "9_8CZAE2Mmn8",
        "colab_type": "text"
      },
      "source": [
        "How to get what you want, when you want it. "
      ]
    },
    {
      "cell_type": "markdown",
      "metadata": {
        "id": "ezJuHYfqMtjH",
        "colab_type": "text"
      },
      "source": [
        "**Code Structure**"
      ]
    },
    {
      "cell_type": "markdown",
      "metadata": {
        "id": "HZn5CYjzM37H",
        "colab_type": "text"
      },
      "source": [
        "In Python, the structure of your code is determined by whitespace.\n",
        "\n",
        "How you indent your code determines how it is structured"
      ]
    },
    {
      "cell_type": "code",
      "metadata": {
        "id": "HqkSy4iNM6pV",
        "colab_type": "code",
        "colab": {}
      },
      "source": [
        "block statement:\n",
        "    some code body\n",
        "    some more code body\n",
        "    another block statement:\n",
        "        code body in\n",
        "        that block"
      ],
      "execution_count": 0,
      "outputs": []
    },
    {
      "cell_type": "markdown",
      "metadata": {
        "id": "7WJoWnZFNInj",
        "colab_type": "text"
      },
      "source": [
        "The colon that terminates a block statement is also important...\n",
        "\n",
        "You can put a one-liner after the colon:"
      ]
    },
    {
      "cell_type": "code",
      "metadata": {
        "id": "pSCc8SpqNWwr",
        "colab_type": "code",
        "colab": {}
      },
      "source": [
        "x = 22\n",
        "if x > 4: print(x)"
      ],
      "execution_count": 0,
      "outputs": []
    },
    {
      "cell_type": "code",
      "metadata": {
        "id": "r0KgnZF65S_n",
        "colab_type": "code",
        "colab": {}
      },
      "source": [
        "x = 22\n",
        "if x > 4:\n",
        "  print(x)"
      ],
      "execution_count": 0,
      "outputs": []
    },
    {
      "cell_type": "markdown",
      "metadata": {
        "id": "ggwIXfplNnXv",
        "colab_type": "text"
      },
      "source": [
        "But this should only be done if it makes your code more readable.\n",
        "\n",
        "Whitespace is important in Python.\n",
        "\n",
        "An indent could be:\n",
        "\n",
        "* any number of spaces\n",
        "* a tab\n",
        "* a mix of tabs and spaces\n",
        "\n",
        "if you want to be taken seriously as a python developer, \n",
        "\n",
        "**Always use four spaces --Really**\n",
        "\n",
        "Other than for indenting, space does not matter .. well technically it does not. "
      ]
    },
    {
      "cell_type": "code",
      "metadata": {
        "id": "ubmLWsXnOdjo",
        "colab_type": "code",
        "colab": {}
      },
      "source": [
        "x = 3*4+12/func(x,y,z)\n",
        "x = 3*4 + 12 /   func (x,   y, z)"
      ],
      "execution_count": 0,
      "outputs": []
    },
    {
      "cell_type": "markdown",
      "metadata": {
        "id": "SV-KMeGAOjUY",
        "colab_type": "text"
      },
      "source": [
        "That being said, you still need to strive for proper styling. I will suggest you read PEP8. You will also need to install pylinter when using vscode. "
      ]
    },
    {
      "cell_type": "markdown",
      "metadata": {
        "id": "vqqNQpH5QJkG",
        "colab_type": "text"
      },
      "source": [
        "**Modules and Packages**"
      ]
    },
    {
      "cell_type": "markdown",
      "metadata": {
        "id": "MSB2_eChSCI8",
        "colab_type": "text"
      },
      "source": [
        "python is all about namepaces - the dots\n",
        "\n",
        "`name.another_anme`\n",
        "\n",
        "The “dot” indicates that you are looking for a name in the namespace of the given object. It could be:\n",
        "\n",
        "* name in a module\n",
        "* module in a package\n",
        "* attribute in an object\n",
        "* method in a object\n",
        "\n",
        "A module is simply a namespace.\n",
        "\n",
        "It might be a single file, or it could be a collection of files that define a shared API.\n",
        "\n",
        "To a first approximation, you can think of the files you write that end in .py as modules.\n",
        "\n",
        "A package is a module with other modules in it.\n",
        "\n",
        "On a filesystem, this is represented as a folder that contains one or more .py files, one of which must be called `__init__.py`.\n",
        "\n",
        "When you have a package, you can import the package, or any of the modules inside it."
      ]
    },
    {
      "cell_type": "code",
      "metadata": {
        "id": "XNvWIQXgTodZ",
        "colab_type": "code",
        "colab": {}
      },
      "source": [
        "import modulename\n",
        "from modulename import this, that\n",
        "import modulename as a_new_name\n",
        "from modulename import this as that"
      ],
      "execution_count": 0,
      "outputs": []
    },
    {
      "cell_type": "code",
      "metadata": {
        "id": "PyRDcCriTpH_",
        "colab_type": "code",
        "colab": {}
      },
      "source": [
        "import packagename.modulename\n",
        "from packagename.modulename import this, that\n",
        "from package import modulename"
      ],
      "execution_count": 0,
      "outputs": []
    },
    {
      "cell_type": "markdown",
      "metadata": {
        "id": "ZWgwLWg7T1E8",
        "colab_type": "text"
      },
      "source": [
        "From time to time you will see something like this:"
      ]
    },
    {
      "cell_type": "code",
      "metadata": {
        "id": "s0y1c9zeT512",
        "colab_type": "code",
        "colab": {}
      },
      "source": [
        "from modulename import *"
      ],
      "execution_count": 0,
      "outputs": []
    },
    {
      "cell_type": "markdown",
      "metadata": {
        "id": "w_rKycPHUBdu",
        "colab_type": "text"
      },
      "source": [
        "While its correct .. **Please don't do it**"
      ]
    },
    {
      "cell_type": "markdown",
      "metadata": {
        "id": "HaSAoHRbU0bo",
        "colab_type": "text"
      },
      "source": [
        "**Import**"
      ]
    },
    {
      "cell_type": "markdown",
      "metadata": {
        "id": "1vg-7oT_U_uJ",
        "colab_type": "text"
      },
      "source": [
        "When you import a module, or a symbol from a module, the Python code is compiled to bytecode.\n",
        "\n",
        "The result is a module.pyc file.\n",
        "\n",
        "This process executes all code at the module scope.\n",
        "\n",
        "For this reason, it is good to avoid module-scope statements that have global side-effects.\n",
        "\n",
        "The code in a module is NOT re-run when imported again\n",
        "\n",
        "It must be explicitly reloaded to be re-run"
      ]
    },
    {
      "cell_type": "code",
      "metadata": {
        "id": "qwNMW_CcVFY0",
        "colab_type": "code",
        "colab": {}
      },
      "source": [
        "import modulename\n",
        "import imp\n",
        "imp.reload(modulename)"
      ],
      "execution_count": 0,
      "outputs": []
    },
    {
      "cell_type": "markdown",
      "metadata": {
        "id": "N2sN8CNiXGYY",
        "colab_type": "text"
      },
      "source": [
        "In addition to importing modules, you can run them. "
      ]
    },
    {
      "cell_type": "markdown",
      "metadata": {
        "id": "jptnpDhWXYbQ",
        "colab_type": "text"
      },
      "source": [
        "* `$ python hello.py `– must be in current working directory\n",
        "* `$ python -m hello `– any module on PYTHONPATH anywhere on the system\n",
        "* `$ ./hello.py `– put #!/usr/env/python at top of module (Unix)\n",
        "* `run hello.py` – at the IPython prompt – running a module brings the names into the interactive namespace\n",
        "\n"
      ]
    },
    {
      "cell_type": "markdown",
      "metadata": {
        "id": "E0LTxy3mYHaH",
        "colab_type": "text"
      },
      "source": [
        "jUst like importing, running modules executes all code at the module level. \n",
        "\n",
        "But there is one important difference"
      ]
    },
    {
      "cell_type": "markdown",
      "metadata": {
        "id": "4ORl1aqTYc1-",
        "colab_type": "text"
      },
      "source": [
        "When you import a module, the value of the symbol `__name__` in the module is the same as the filename.\n",
        "\n",
        "When you run a module, the value of the symbol `__name__` is `__main__`.\n",
        "\n",
        "This allows you to create blocks of code that are executed only when you run a module"
      ]
    },
    {
      "cell_type": "code",
      "metadata": {
        "id": "CKv_kMJcYnkc",
        "colab_type": "code",
        "colab": {}
      },
      "source": [
        "if __name__ == '__main__':\n",
        "    # Do something interesting here\n",
        "    # It will only happen when the module is run"
      ],
      "execution_count": 0,
      "outputs": []
    },
    {
      "cell_type": "markdown",
      "metadata": {
        "id": "ar2T2j6-YtTp",
        "colab_type": "text"
      },
      "source": [
        "This is useful in a number of cases.\n",
        "\n",
        "You can put code here that lets your module be a utility script\n",
        "\n",
        "You can put code here that demonstrates the functions contained in your module\n",
        "\n",
        "You can put code here that proves that your module works.\n",
        "\n",
        "Writing tests that demonstrate that your program works is an important part of learning to program.\n",
        "\n",
        "The python `assert` statement is useful in writing `main` blocks that test your code."
      ]
    },
    {
      "cell_type": "code",
      "metadata": {
        "id": "sqM08QxBXEuM",
        "colab_type": "code",
        "colab": {}
      },
      "source": [
        "def add(n1, n2):\n",
        "  return n1 + n2\n",
        "\n",
        "assert add(3, 4) == 7"
      ],
      "execution_count": 0,
      "outputs": []
    },
    {
      "cell_type": "code",
      "metadata": {
        "id": "uPiRJ07lX2PV",
        "colab_type": "code",
        "colab": {}
      },
      "source": [
        "assert add(3, 4) == 10"
      ],
      "execution_count": 0,
      "outputs": []
    },
    {
      "cell_type": "markdown",
      "metadata": {
        "id": "Fr1_NYnoddra",
        "colab_type": "text"
      },
      "source": [
        "# **In Class LAB**"
      ]
    },
    {
      "cell_type": "markdown",
      "metadata": {
        "id": "aKQy66xJdoT_",
        "colab_type": "text"
      },
      "source": [
        "Import interactions. "
      ]
    },
    {
      "cell_type": "markdown",
      "metadata": {
        "id": "biKMa8Zpd6Um",
        "colab_type": "text"
      },
      "source": [
        "**Exercises**"
      ]
    },
    {
      "cell_type": "code",
      "metadata": {
        "id": "O9bSr6uQeBhZ",
        "colab_type": "code",
        "colab": {}
      },
      "source": [
        "import math\n",
        "\n",
        "math.<TAB>"
      ],
      "execution_count": 0,
      "outputs": []
    },
    {
      "cell_type": "code",
      "metadata": {
        "id": "d-GHdtj0eqIS",
        "colab_type": "code",
        "colab": {}
      },
      "source": [
        "math.sqrt(4)"
      ],
      "execution_count": 0,
      "outputs": []
    },
    {
      "cell_type": "code",
      "metadata": {
        "id": "WpKq3hw0efK3",
        "colab_type": "code",
        "colab": {}
      },
      "source": [
        "import math as m"
      ],
      "execution_count": 0,
      "outputs": []
    },
    {
      "cell_type": "code",
      "metadata": {
        "id": "E5UCmRitely6",
        "colab_type": "code",
        "colab": {}
      },
      "source": [
        "m.sqrt(4)"
      ],
      "execution_count": 0,
      "outputs": []
    },
    {
      "cell_type": "code",
      "metadata": {
        "id": "7ensiIYle83c",
        "colab_type": "code",
        "colab": {}
      },
      "source": [
        "from math import sqrt"
      ],
      "execution_count": 0,
      "outputs": []
    },
    {
      "cell_type": "code",
      "metadata": {
        "id": "_OXd_6BOfB5o",
        "colab_type": "code",
        "colab": {}
      },
      "source": [
        "sqrt(4)"
      ],
      "execution_count": 0,
      "outputs": []
    },
    {
      "cell_type": "markdown",
      "metadata": {
        "id": "rs_CjFWkfZGv",
        "colab_type": "text"
      },
      "source": [
        "Also try these"
      ]
    },
    {
      "cell_type": "code",
      "metadata": {
        "id": "lpB2qWZOfcMw",
        "colab_type": "code",
        "colab": {}
      },
      "source": [
        "import sys\n",
        "print(sys.path)"
      ],
      "execution_count": 0,
      "outputs": []
    },
    {
      "cell_type": "code",
      "metadata": {
        "id": "vq1jd5xQfnZ3",
        "colab_type": "code",
        "colab": {}
      },
      "source": [
        "import os\n",
        "print(os.path)"
      ],
      "execution_count": 0,
      "outputs": []
    }
  ]
}