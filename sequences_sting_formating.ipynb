{
  "nbformat": 4,
  "nbformat_minor": 0,
  "metadata": {
    "colab": {
      "name": "sequences_sting_formating.ipynb",
      "provenance": [],
      "include_colab_link": true
    },
    "kernelspec": {
      "name": "python3",
      "display_name": "Python 3"
    }
  },
  "cells": [
    {
      "cell_type": "markdown",
      "metadata": {
        "id": "view-in-github",
        "colab_type": "text"
      },
      "source": [
        "<a href=\"https://colab.research.google.com/github/doreengee/class_2/blob/master/sequences_sting_formating.ipynb\" target=\"_parent\"><img src=\"https://colab.research.google.com/assets/colab-badge.svg\" alt=\"Open In Colab\"/></a>"
      ]
    },
    {
      "cell_type": "markdown",
      "metadata": {
        "id": "ZdCODJsBESn9",
        "colab_type": "text"
      },
      "source": [
        "**Sequences Interations and String formating**"
      ]
    },
    {
      "cell_type": "markdown",
      "metadata": {
        "id": "neZ0ejrDEfTc",
        "colab_type": "text"
      },
      "source": [
        "**Review Questions**\n",
        "\n",
        "**Review of previous topics**\n",
        "\n",
        "* Functions\n",
        "* Booleans\n",
        "* Modules\n",
        "\n",
        "**Homework Review**"
      ]
    },
    {
      "cell_type": "markdown",
      "metadata": {
        "id": "pFVa-W7FFCVQ",
        "colab_type": "text"
      },
      "source": [
        "# **Sequences**"
      ]
    },
    {
      "cell_type": "markdown",
      "metadata": {
        "id": "VelRBYYSGmm8",
        "colab_type": "text"
      },
      "source": [
        "Sequences are an ordered collection of objects"
      ]
    },
    {
      "cell_type": "markdown",
      "metadata": {
        "id": "Kue6z22IG48P",
        "colab_type": "text"
      },
      "source": [
        "**What is a sequence?**\n",
        "\n",
        "Remember duck typing? \n",
        "A sequence can be described as any python object that supports at least one of these operations. \n",
        "\n",
        "* indexing\n",
        "* slicing\n",
        "* membership\n",
        "* concantenation\n",
        "* length\n",
        "* Iteration"
      ]
    },
    {
      "cell_type": "markdown",
      "metadata": {
        "id": "jsshanfcILeF",
        "colab_type": "text"
      },
      "source": [
        "**Sequence Types**\n",
        "\n",
        "Theere are several built in types in python that are sequences: \n",
        "\n",
        "* stings\n",
        "* Unicode Strings\n",
        "* Lists\n",
        "* Tuples\n",
        "* bytearrays\n",
        "* buffers\n",
        "* xrange objects"
      ]
    },
    {
      "cell_type": "markdown",
      "metadata": {
        "id": "uVa_ihNSJcC2",
        "colab_type": "text"
      },
      "source": [
        "For this class, you wont see much beyond strings, list and tuples. but what we talk about for these 3 objects applies to all sequences with some very minor caveats. "
      ]
    },
    {
      "cell_type": "markdown",
      "metadata": {
        "id": "gEvL4tkBJu6A",
        "colab_type": "text"
      },
      "source": [
        "**Indexing**\n",
        "\n",
        "Items in a sequence may be looked up by index using the subscription operator: `[]`\n",
        "\n",
        "Indexing in python always starts with zero\n",
        "\n"
      ]
    },
    {
      "cell_type": "code",
      "metadata": {
        "id": "GlRwqp4zKI6c",
        "colab_type": "code",
        "colab": {}
      },
      "source": [
        "s = 'This is a string'"
      ],
      "execution_count": 0,
      "outputs": []
    },
    {
      "cell_type": "code",
      "metadata": {
        "id": "_xlRxo1FKRu-",
        "colab_type": "code",
        "outputId": "e7c25b1b-d70d-4091-af1d-3f598db0dd48",
        "colab": {
          "base_uri": "https://localhost:8080/",
          "height": 35
        }
      },
      "source": [
        "s[0]"
      ],
      "execution_count": 0,
      "outputs": [
        {
          "output_type": "execute_result",
          "data": {
            "text/plain": [
              "'T'"
            ]
          },
          "metadata": {
            "tags": []
          },
          "execution_count": 68
        }
      ]
    },
    {
      "cell_type": "code",
      "metadata": {
        "id": "BC9r2NViKb7W",
        "colab_type": "code",
        "outputId": "9291d967-4f18-4045-a2bb-2b5f8ce30b08",
        "colab": {
          "base_uri": "https://localhost:8080/",
          "height": 35
        }
      },
      "source": [
        "s[5]"
      ],
      "execution_count": 0,
      "outputs": [
        {
          "output_type": "execute_result",
          "data": {
            "text/plain": [
              "'i'"
            ]
          },
          "metadata": {
            "tags": []
          },
          "execution_count": 69
        }
      ]
    },
    {
      "cell_type": "markdown",
      "metadata": {
        "id": "NZ4PYp1LKpbb",
        "colab_type": "text"
      },
      "source": [
        "You can use negative indices to count from the other end"
      ]
    },
    {
      "cell_type": "code",
      "metadata": {
        "id": "65MIlqjqKz_c",
        "colab_type": "code",
        "outputId": "bb3f2296-779d-4aa4-bffb-d2103b1acf5b",
        "colab": {
          "base_uri": "https://localhost:8080/",
          "height": 35
        }
      },
      "source": [
        "s[-1]"
      ],
      "execution_count": 0,
      "outputs": [
        {
          "output_type": "execute_result",
          "data": {
            "text/plain": [
              "'g'"
            ]
          },
          "metadata": {
            "tags": []
          },
          "execution_count": 70
        }
      ]
    },
    {
      "cell_type": "code",
      "metadata": {
        "id": "jnd_XoxbK8PR",
        "colab_type": "code",
        "outputId": "699a9fcc-8027-4387-cb72-3430ff55723e",
        "colab": {
          "base_uri": "https://localhost:8080/",
          "height": 35
        }
      },
      "source": [
        "s[-6]"
      ],
      "execution_count": 0,
      "outputs": [
        {
          "output_type": "execute_result",
          "data": {
            "text/plain": [
              "'s'"
            ]
          },
          "metadata": {
            "tags": []
          },
          "execution_count": 71
        }
      ]
    },
    {
      "cell_type": "markdown",
      "metadata": {
        "id": "eH0dcbB7LG2z",
        "colab_type": "text"
      },
      "source": [
        "Indexing beyond the end of a sequence causes an IndexError:"
      ]
    },
    {
      "cell_type": "code",
      "metadata": {
        "id": "KNlSmZbCLKfC",
        "colab_type": "code",
        "colab": {}
      },
      "source": [
        "seq = [0, 1, 2, 3]"
      ],
      "execution_count": 0,
      "outputs": []
    },
    {
      "cell_type": "code",
      "metadata": {
        "id": "9A1fuw09LSXG",
        "colab_type": "code",
        "outputId": "042f128d-3049-4b4e-929f-79d7ae60f7c7",
        "colab": {
          "base_uri": "https://localhost:8080/",
          "height": 187
        }
      },
      "source": [
        "seq[4]"
      ],
      "execution_count": 0,
      "outputs": [
        {
          "output_type": "error",
          "ename": "IndexError",
          "evalue": "ignored",
          "traceback": [
            "\u001b[0;31m---------------------------------------------------------------------------\u001b[0m",
            "\u001b[0;31mIndexError\u001b[0m                                Traceback (most recent call last)",
            "\u001b[0;32m<ipython-input-73-a6e03adf74ca>\u001b[0m in \u001b[0;36m<module>\u001b[0;34m()\u001b[0m\n\u001b[0;32m----> 1\u001b[0;31m \u001b[0mseq\u001b[0m\u001b[0;34m[\u001b[0m\u001b[0;36m4\u001b[0m\u001b[0;34m]\u001b[0m\u001b[0;34m\u001b[0m\u001b[0;34m\u001b[0m\u001b[0m\n\u001b[0m",
            "\u001b[0;31mIndexError\u001b[0m: list index out of range"
          ]
        }
      ]
    },
    {
      "cell_type": "markdown",
      "metadata": {
        "id": "811o5bEtLbld",
        "colab_type": "text"
      },
      "source": [
        "**Slicing**"
      ]
    },
    {
      "cell_type": "markdown",
      "metadata": {
        "id": "jvXLBizjLhke",
        "colab_type": "text"
      },
      "source": [
        "Slicing a sequence creates a new sequence with a range of objects from the original sequence.\n",
        "\n",
        "It also uses the subscription operator (`[]`), but with a twist.\n",
        "\n",
        "`sequence[start:finish]` returns all `sequence[i]` for which start <= i < finish:"
      ]
    },
    {
      "cell_type": "code",
      "metadata": {
        "id": "oP8imtncMIRl",
        "colab_type": "code",
        "colab": {}
      },
      "source": [
        "s = 'A bunch of words taht we may or may not like'"
      ],
      "execution_count": 0,
      "outputs": []
    },
    {
      "cell_type": "code",
      "metadata": {
        "id": "HaneNRKlMYEE",
        "colab_type": "code",
        "outputId": "b9648b7d-305e-4821-ff18-cb6e73009772",
        "colab": {
          "base_uri": "https://localhost:8080/",
          "height": 35
        }
      },
      "source": [
        "s[2]"
      ],
      "execution_count": 0,
      "outputs": [
        {
          "output_type": "execute_result",
          "data": {
            "text/plain": [
              "'b'"
            ]
          },
          "metadata": {
            "tags": []
          },
          "execution_count": 75
        }
      ]
    },
    {
      "cell_type": "code",
      "metadata": {
        "id": "Xz-PKBxKMabZ",
        "colab_type": "code",
        "outputId": "8e5651bf-f05e-4319-d5b7-716e3447eedb",
        "colab": {
          "base_uri": "https://localhost:8080/",
          "height": 35
        }
      },
      "source": [
        "s[6]"
      ],
      "execution_count": 0,
      "outputs": [
        {
          "output_type": "execute_result",
          "data": {
            "text/plain": [
              "'h'"
            ]
          },
          "metadata": {
            "tags": []
          },
          "execution_count": 76
        }
      ]
    },
    {
      "cell_type": "code",
      "metadata": {
        "id": "TBbakf3mNj24",
        "colab_type": "code",
        "outputId": "8f0b458a-c1e1-4b9a-9cc2-44f21becf927",
        "colab": {
          "base_uri": "https://localhost:8080/",
          "height": 35
        }
      },
      "source": [
        "s[2:6]"
      ],
      "execution_count": 0,
      "outputs": [
        {
          "output_type": "execute_result",
          "data": {
            "text/plain": [
              "'bunc'"
            ]
          },
          "metadata": {
            "tags": []
          },
          "execution_count": 77
        }
      ]
    },
    {
      "cell_type": "code",
      "metadata": {
        "id": "VqDK2pmTNrKE",
        "colab_type": "code",
        "outputId": "4942ce90-3f84-4c3a-d929-e087440b6035",
        "colab": {
          "base_uri": "https://localhost:8080/",
          "height": 35
        }
      },
      "source": [
        "s[2:7]"
      ],
      "execution_count": 0,
      "outputs": [
        {
          "output_type": "execute_result",
          "data": {
            "text/plain": [
              "'bunch'"
            ]
          },
          "metadata": {
            "tags": []
          },
          "execution_count": 78
        }
      ]
    },
    {
      "cell_type": "markdown",
      "metadata": {
        "id": "6O3nunVXN4b8",
        "colab_type": "text"
      },
      "source": [
        "Think of indices as pointing to the spaces between the items"
      ]
    },
    {
      "cell_type": "code",
      "metadata": {
        "id": "Fj3P6WpXOBDI",
        "colab_type": "code",
        "colab": {}
      },
      "source": [
        "  a       b   u   n   c   h       o   f\n",
        "|   |   |   |   |   |   |   |   |   |\n",
        "0   1   2   3   4   5   6   7   8   9"
      ],
      "execution_count": 0,
      "outputs": []
    },
    {
      "cell_type": "markdown",
      "metadata": {
        "id": "iUvym9FoOJNz",
        "colab_type": "text"
      },
      "source": [
        "You do not have to provide both start and finish:"
      ]
    },
    {
      "cell_type": "code",
      "metadata": {
        "id": "EXTqRaV-OTBY",
        "colab_type": "code",
        "colab": {}
      },
      "source": [
        "s = 'a bunch of words'"
      ],
      "execution_count": 0,
      "outputs": []
    },
    {
      "cell_type": "code",
      "metadata": {
        "id": "taKdJMzBOW49",
        "colab_type": "code",
        "outputId": "47569c0a-c624-4eea-b53b-f88825d925d1",
        "colab": {
          "base_uri": "https://localhost:8080/",
          "height": 35
        }
      },
      "source": [
        "s[:5]"
      ],
      "execution_count": 0,
      "outputs": [
        {
          "output_type": "execute_result",
          "data": {
            "text/plain": [
              "'a bun'"
            ]
          },
          "metadata": {
            "tags": []
          },
          "execution_count": 80
        }
      ]
    },
    {
      "cell_type": "code",
      "metadata": {
        "id": "S-Iby6DjOh6w",
        "colab_type": "code",
        "outputId": "30222a33-e182-4928-c196-2f9374bc6da9",
        "colab": {
          "base_uri": "https://localhost:8080/",
          "height": 35
        }
      },
      "source": [
        "s[3:]"
      ],
      "execution_count": 0,
      "outputs": [
        {
          "output_type": "execute_result",
          "data": {
            "text/plain": [
              "'unch of words'"
            ]
          },
          "metadata": {
            "tags": []
          },
          "execution_count": 81
        }
      ]
    },
    {
      "cell_type": "markdown",
      "metadata": {
        "id": "4e5xzwldOti8",
        "colab_type": "text"
      },
      "source": [
        "Either 0 or `len(s)` will be assumed respectively\n",
        "\n",
        "As a corollary `seq[:b] + seq[b:] == seq`.\n",
        "\n",
        "Slicing also tekes a third elevent which controls which elements are returned"
      ]
    },
    {
      "cell_type": "code",
      "metadata": {
        "id": "2goyaDExVMq_",
        "colab_type": "code",
        "colab": {}
      },
      "source": [
        "s = 'A fairly long string'"
      ],
      "execution_count": 0,
      "outputs": []
    },
    {
      "cell_type": "code",
      "metadata": {
        "id": "AnIutl_XVUoq",
        "colab_type": "code",
        "outputId": "23d8133e-f536-4fc1-a729-f556b0f553e9",
        "colab": {
          "base_uri": "https://localhost:8080/",
          "height": 35
        }
      },
      "source": [
        "s[0:15]"
      ],
      "execution_count": 0,
      "outputs": [
        {
          "output_type": "execute_result",
          "data": {
            "text/plain": [
              "'A fairly long s'"
            ]
          },
          "metadata": {
            "tags": []
          },
          "execution_count": 83
        }
      ]
    },
    {
      "cell_type": "code",
      "metadata": {
        "id": "rx1mY7kCVflU",
        "colab_type": "code",
        "outputId": "52b4bfec-0fff-4855-8b24-a1f66ccc1441",
        "colab": {
          "base_uri": "https://localhost:8080/",
          "height": 35
        }
      },
      "source": [
        "s[0:15:2]"
      ],
      "execution_count": 0,
      "outputs": [
        {
          "output_type": "execute_result",
          "data": {
            "text/plain": [
              "'Afil ogs'"
            ]
          },
          "metadata": {
            "tags": []
          },
          "execution_count": 84
        }
      ]
    },
    {
      "cell_type": "code",
      "metadata": {
        "id": "ZJf-Vj84Vt4D",
        "colab_type": "code",
        "outputId": "cd6c04b2-5b4c-45f8-ce97-14c39e6a86a5",
        "colab": {
          "base_uri": "https://localhost:8080/",
          "height": 35
        }
      },
      "source": [
        "s[0:15:3]"
      ],
      "execution_count": 0,
      "outputs": [
        {
          "output_type": "execute_result",
          "data": {
            "text/plain": [
              "'Aallg'"
            ]
          },
          "metadata": {
            "tags": []
          },
          "execution_count": 85
        }
      ]
    },
    {
      "cell_type": "code",
      "metadata": {
        "id": "1RgkdYZuVypq",
        "colab_type": "code",
        "outputId": "a65f82e8-ce08-427e-8ab1-2027d40489a1",
        "colab": {
          "base_uri": "https://localhost:8080/",
          "height": 35
        }
      },
      "source": [
        "s[::-1]"
      ],
      "execution_count": 0,
      "outputs": [
        {
          "output_type": "execute_result",
          "data": {
            "text/plain": [
              "'gnirts gnol ylriaf A'"
            ]
          },
          "metadata": {
            "tags": []
          },
          "execution_count": 86
        }
      ]
    },
    {
      "cell_type": "markdown",
      "metadata": {
        "id": "zFRc2SN2V8ab",
        "colab_type": "text"
      },
      "source": [
        "Though they share an operator, slicing and indexing have a few important differences:\n",
        "\n",
        "Indexing will always return one object, slicing will return a sequence of objects.\n",
        "\n",
        "Indexing past the end of a sequence will raise an error, slicing will not:"
      ]
    },
    {
      "cell_type": "code",
      "metadata": {
        "id": "jQpIxbgDWFyF",
        "colab_type": "code",
        "colab": {}
      },
      "source": [
        "s = 'A bunch of words'"
      ],
      "execution_count": 0,
      "outputs": []
    },
    {
      "cell_type": "code",
      "metadata": {
        "id": "j9QwKW7VWaS6",
        "colab_type": "code",
        "outputId": "6df4350a-d9e9-4d3a-be45-609907327428",
        "colab": {
          "base_uri": "https://localhost:8080/",
          "height": 187
        }
      },
      "source": [
        "s[17]"
      ],
      "execution_count": 0,
      "outputs": [
        {
          "output_type": "error",
          "ename": "IndexError",
          "evalue": "ignored",
          "traceback": [
            "\u001b[0;31m---------------------------------------------------------------------------\u001b[0m",
            "\u001b[0;31mIndexError\u001b[0m                                Traceback (most recent call last)",
            "\u001b[0;32m<ipython-input-88-37a771fa7c18>\u001b[0m in \u001b[0;36m<module>\u001b[0;34m()\u001b[0m\n\u001b[0;32m----> 1\u001b[0;31m \u001b[0ms\u001b[0m\u001b[0;34m[\u001b[0m\u001b[0;36m17\u001b[0m\u001b[0;34m]\u001b[0m\u001b[0;34m\u001b[0m\u001b[0;34m\u001b[0m\u001b[0m\n\u001b[0m",
            "\u001b[0;31mIndexError\u001b[0m: string index out of range"
          ]
        }
      ]
    },
    {
      "cell_type": "code",
      "metadata": {
        "id": "qP7lrqNXWkX9",
        "colab_type": "code",
        "outputId": "d691064b-96d0-4388-cebd-5047ee0240dc",
        "colab": {
          "base_uri": "https://localhost:8080/",
          "height": 35
        }
      },
      "source": [
        "s[10:20]"
      ],
      "execution_count": 0,
      "outputs": [
        {
          "output_type": "execute_result",
          "data": {
            "text/plain": [
              "' words'"
            ]
          },
          "metadata": {
            "tags": []
          },
          "execution_count": 89
        }
      ]
    },
    {
      "cell_type": "code",
      "metadata": {
        "id": "_aB8pKVdWrmk",
        "colab_type": "code",
        "outputId": "a828a798-d411-4c8d-f37b-c291ab68b548",
        "colab": {
          "base_uri": "https://localhost:8080/",
          "height": 35
        }
      },
      "source": [
        "s[20:30]"
      ],
      "execution_count": 0,
      "outputs": [
        {
          "output_type": "execute_result",
          "data": {
            "text/plain": [
              "''"
            ]
          },
          "metadata": {
            "tags": []
          },
          "execution_count": 90
        }
      ]
    },
    {
      "cell_type": "markdown",
      "metadata": {
        "id": "uvXuNyo4W93E",
        "colab_type": "text"
      },
      "source": [
        "**Membership**"
      ]
    },
    {
      "cell_type": "markdown",
      "metadata": {
        "id": "AvuHY0fdXTM9",
        "colab_type": "text"
      },
      "source": [
        "All sequences support the `in` and the `not in` operators"
      ]
    },
    {
      "cell_type": "code",
      "metadata": {
        "id": "u-qz9nJIXfN8",
        "colab_type": "code",
        "colab": {}
      },
      "source": [
        "s = [1, 3, 4, 6, 8, 10]"
      ],
      "execution_count": 0,
      "outputs": []
    },
    {
      "cell_type": "code",
      "metadata": {
        "id": "u-dBvOPdX1tV",
        "colab_type": "code",
        "outputId": "c26d52b6-054e-4be7-fac7-43e5c3ae04f8",
        "colab": {
          "base_uri": "https://localhost:8080/",
          "height": 35
        }
      },
      "source": [
        "10 in s"
      ],
      "execution_count": 0,
      "outputs": [
        {
          "output_type": "execute_result",
          "data": {
            "text/plain": [
              "True"
            ]
          },
          "metadata": {
            "tags": []
          },
          "execution_count": 92
        }
      ]
    },
    {
      "cell_type": "code",
      "metadata": {
        "id": "EnWxaeQcX9GR",
        "colab_type": "code",
        "outputId": "33514587-672b-4d49-b3b8-667f71dd7d8a",
        "colab": {
          "base_uri": "https://localhost:8080/",
          "height": 35
        }
      },
      "source": [
        "42 in s"
      ],
      "execution_count": 0,
      "outputs": [
        {
          "output_type": "execute_result",
          "data": {
            "text/plain": [
              "False"
            ]
          },
          "metadata": {
            "tags": []
          },
          "execution_count": 93
        }
      ]
    },
    {
      "cell_type": "code",
      "metadata": {
        "id": "uAomQtr0YBfS",
        "colab_type": "code",
        "outputId": "5f5944d9-dc22-42fb-f74e-97808dff918f",
        "colab": {
          "base_uri": "https://localhost:8080/",
          "height": 35
        }
      },
      "source": [
        "42 not in s"
      ],
      "execution_count": 0,
      "outputs": [
        {
          "output_type": "execute_result",
          "data": {
            "text/plain": [
              "True"
            ]
          },
          "metadata": {
            "tags": []
          },
          "execution_count": 94
        }
      ]
    },
    {
      "cell_type": "markdown",
      "metadata": {
        "id": "aZcWijx2YImU",
        "colab_type": "text"
      },
      "source": [
        "For strings, the membership operations are like `substring` operations in other languages:"
      ]
    },
    {
      "cell_type": "code",
      "metadata": {
        "id": "pkvc_fcTYXYC",
        "colab_type": "code",
        "colab": {}
      },
      "source": [
        "s = 'This is a long string'"
      ],
      "execution_count": 0,
      "outputs": []
    },
    {
      "cell_type": "code",
      "metadata": {
        "id": "vJrktUYpYfaD",
        "colab_type": "code",
        "outputId": "a5e96bd6-7940-45dc-c0b5-a8044f71fa82",
        "colab": {
          "base_uri": "https://localhost:8080/",
          "height": 35
        }
      },
      "source": [
        "'long' in s"
      ],
      "execution_count": 0,
      "outputs": [
        {
          "output_type": "execute_result",
          "data": {
            "text/plain": [
              "True"
            ]
          },
          "metadata": {
            "tags": []
          },
          "execution_count": 96
        }
      ]
    },
    {
      "cell_type": "markdown",
      "metadata": {
        "id": "m-5yyCCTYrXf",
        "colab_type": "text"
      },
      "source": [
        "This does not work for sub-sequences of other types (can you think of why?):"
      ]
    },
    {
      "cell_type": "code",
      "metadata": {
        "id": "4qrszyKqYv0E",
        "colab_type": "code",
        "colab": {}
      },
      "source": [
        "s = [1, 2, 3, 4]"
      ],
      "execution_count": 0,
      "outputs": []
    },
    {
      "cell_type": "code",
      "metadata": {
        "id": "QhD7UG60Y15M",
        "colab_type": "code",
        "outputId": "fb349ed7-d96c-45fd-e5bd-30ab4f1d936e",
        "colab": {
          "base_uri": "https://localhost:8080/",
          "height": 35
        }
      },
      "source": [
        "[2,3] in s"
      ],
      "execution_count": 0,
      "outputs": [
        {
          "output_type": "execute_result",
          "data": {
            "text/plain": [
              "False"
            ]
          },
          "metadata": {
            "tags": []
          },
          "execution_count": 98
        }
      ]
    },
    {
      "cell_type": "markdown",
      "metadata": {
        "id": "WY77UnIoZBUy",
        "colab_type": "text"
      },
      "source": [
        "**Concantenation**"
      ]
    },
    {
      "cell_type": "markdown",
      "metadata": {
        "id": "nhk817G6ZUkf",
        "colab_type": "text"
      },
      "source": [
        "Using `+` or `*` on sequences will concantenate them: "
      ]
    },
    {
      "cell_type": "code",
      "metadata": {
        "id": "S8vboVofZjkv",
        "colab_type": "code",
        "colab": {}
      },
      "source": [
        "s1 = 'left'\n",
        "s2 = 'right'"
      ],
      "execution_count": 0,
      "outputs": []
    },
    {
      "cell_type": "code",
      "metadata": {
        "id": "H53OzsyaZ036",
        "colab_type": "code",
        "outputId": "604e2f9c-90bc-44b4-eeba-dfd7a83001b8",
        "colab": {
          "base_uri": "https://localhost:8080/",
          "height": 35
        }
      },
      "source": [
        "s1 + s2"
      ],
      "execution_count": 0,
      "outputs": [
        {
          "output_type": "execute_result",
          "data": {
            "text/plain": [
              "'leftright'"
            ]
          },
          "metadata": {
            "tags": []
          },
          "execution_count": 100
        }
      ]
    },
    {
      "cell_type": "code",
      "metadata": {
        "id": "qZeFDJJiZ7w4",
        "colab_type": "code",
        "outputId": "0376fb61-f1aa-4dd9-8bf5-f2594d2a5539",
        "colab": {
          "base_uri": "https://localhost:8080/",
          "height": 35
        }
      },
      "source": [
        "(s1 + s2) * 3"
      ],
      "execution_count": 0,
      "outputs": [
        {
          "output_type": "execute_result",
          "data": {
            "text/plain": [
              "'leftrightleftrightleftright'"
            ]
          },
          "metadata": {
            "tags": []
          },
          "execution_count": 101
        }
      ]
    },
    {
      "cell_type": "markdown",
      "metadata": {
        "id": "KWqiOwuJaOOW",
        "colab_type": "text"
      },
      "source": [
        "You can apply this concatenation to slices as well, leading to some nicely concise code:"
      ]
    },
    {
      "cell_type": "code",
      "metadata": {
        "id": "CA8ZPgGVaVyU",
        "colab_type": "code",
        "colab": {}
      },
      "source": [
        "def front3(str):\n",
        "  if len(str) < 3:\n",
        "    return str+str+str\n",
        "  else:\n",
        "    return str[:3]+str[:3]+str[:3]"
      ],
      "execution_count": 0,
      "outputs": []
    },
    {
      "cell_type": "markdown",
      "metadata": {
        "id": "BKrC89nZacMp",
        "colab_type": "text"
      },
      "source": [
        "This non-pythonic solution can also be expressed like so:"
      ]
    },
    {
      "cell_type": "code",
      "metadata": {
        "id": "kTm6kobBad6c",
        "colab_type": "code",
        "colab": {}
      },
      "source": [
        "def front3(str):\n",
        "    return str[:3] * 3"
      ],
      "execution_count": 0,
      "outputs": []
    },
    {
      "cell_type": "markdown",
      "metadata": {
        "id": "kbgLJF0WbIc6",
        "colab_type": "text"
      },
      "source": [
        "**Length**"
      ]
    },
    {
      "cell_type": "markdown",
      "metadata": {
        "id": "mtXt1E5jbSmF",
        "colab_type": "text"
      },
      "source": [
        "All sequences have a length. You can get it with the `len` builtin:"
      ]
    },
    {
      "cell_type": "code",
      "metadata": {
        "id": "7wpCDqGrbaPZ",
        "colab_type": "code",
        "colab": {}
      },
      "source": [
        "s = 'How long is this, anyway?'"
      ],
      "execution_count": 0,
      "outputs": []
    },
    {
      "cell_type": "code",
      "metadata": {
        "id": "owhxP9tFbjHI",
        "colab_type": "code",
        "outputId": "a1210564-48eb-47e5-8941-dca824b6e121",
        "colab": {
          "base_uri": "https://localhost:8080/",
          "height": 35
        }
      },
      "source": [
        "len(s)"
      ],
      "execution_count": 0,
      "outputs": [
        {
          "output_type": "execute_result",
          "data": {
            "text/plain": [
              "25"
            ]
          },
          "metadata": {
            "tags": []
          },
          "execution_count": 103
        }
      ]
    },
    {
      "cell_type": "markdown",
      "metadata": {
        "id": "i8t6nnS7bx9E",
        "colab_type": "text"
      },
      "source": [
        "Remember, Python sequences are zero-indexed, so the last index in a sequence is len(s) - 1:"
      ]
    },
    {
      "cell_type": "code",
      "metadata": {
        "id": "F9w5gcn4cF0Y",
        "colab_type": "code",
        "colab": {}
      },
      "source": [
        "count = len(s)"
      ],
      "execution_count": 0,
      "outputs": []
    },
    {
      "cell_type": "code",
      "metadata": {
        "id": "L-I5roOTB5vx",
        "colab_type": "code",
        "colab": {}
      },
      "source": [
        "count"
      ],
      "execution_count": 0,
      "outputs": []
    },
    {
      "cell_type": "code",
      "metadata": {
        "id": "IzncZB1gcMHE",
        "colab_type": "code",
        "outputId": "15665536-d812-4a5f-c5d2-65b0a7801ab8",
        "colab": {
          "base_uri": "https://localhost:8080/",
          "height": 187
        }
      },
      "source": [
        "s[count]"
      ],
      "execution_count": 0,
      "outputs": [
        {
          "output_type": "error",
          "ename": "IndexError",
          "evalue": "ignored",
          "traceback": [
            "\u001b[0;31m---------------------------------------------------------------------------\u001b[0m",
            "\u001b[0;31mIndexError\u001b[0m                                Traceback (most recent call last)",
            "\u001b[0;32m<ipython-input-106-7cc5843f01ca>\u001b[0m in \u001b[0;36m<module>\u001b[0;34m()\u001b[0m\n\u001b[0;32m----> 1\u001b[0;31m \u001b[0ms\u001b[0m\u001b[0;34m[\u001b[0m\u001b[0mcount\u001b[0m\u001b[0;34m]\u001b[0m\u001b[0;34m\u001b[0m\u001b[0;34m\u001b[0m\u001b[0m\n\u001b[0m",
            "\u001b[0;31mIndexError\u001b[0m: string index out of range"
          ]
        }
      ]
    },
    {
      "cell_type": "markdown",
      "metadata": {
        "id": "-iwQg67hdbHd",
        "colab_type": "text"
      },
      "source": [
        "**Miscellaneous**\n",
        "\n",
        "There are a more operations supported by all sequences\n",
        "\n",
        "All sequences also support the `min` and `max` builtins:"
      ]
    },
    {
      "cell_type": "code",
      "metadata": {
        "id": "MWPM21eNdySs",
        "colab_type": "code",
        "colab": {}
      },
      "source": [
        "all_letters = 'thequickbrownfoxjumpoverthelazydogs'"
      ],
      "execution_count": 0,
      "outputs": []
    },
    {
      "cell_type": "code",
      "metadata": {
        "id": "uc3FeWted6W-",
        "colab_type": "code",
        "outputId": "3bad3dfd-36fa-44ed-fe6f-52aa8f7c7d76",
        "colab": {
          "base_uri": "https://localhost:8080/",
          "height": 35
        }
      },
      "source": [
        "min(all_letters)"
      ],
      "execution_count": 0,
      "outputs": [
        {
          "output_type": "execute_result",
          "data": {
            "text/plain": [
              "'a'"
            ]
          },
          "metadata": {
            "tags": []
          },
          "execution_count": 108
        }
      ]
    },
    {
      "cell_type": "code",
      "metadata": {
        "id": "2hTm5bRAeAmp",
        "colab_type": "code",
        "outputId": "77bb8491-5069-4f9b-8f90-74a995917294",
        "colab": {
          "base_uri": "https://localhost:8080/",
          "height": 35
        }
      },
      "source": [
        "max(all_letters)"
      ],
      "execution_count": 0,
      "outputs": [
        {
          "output_type": "execute_result",
          "data": {
            "text/plain": [
              "'z'"
            ]
          },
          "metadata": {
            "tags": []
          },
          "execution_count": 109
        }
      ]
    },
    {
      "cell_type": "markdown",
      "metadata": {
        "id": "3eX22DaWeXFw",
        "colab_type": "text"
      },
      "source": [
        "All sequences also support the index method, which returns the index of the first occurence of an item in the sequence:"
      ]
    },
    {
      "cell_type": "code",
      "metadata": {
        "id": "k30dafVSfr3c",
        "colab_type": "code",
        "outputId": "9a012ff7-0d23-4b13-fc99-996a991d38ba",
        "colab": {
          "base_uri": "https://localhost:8080/",
          "height": 35
        }
      },
      "source": [
        "all_letters.index('d')"
      ],
      "execution_count": 0,
      "outputs": [
        {
          "output_type": "execute_result",
          "data": {
            "text/plain": [
              "31"
            ]
          },
          "metadata": {
            "tags": []
          },
          "execution_count": 110
        }
      ]
    },
    {
      "cell_type": "markdown",
      "metadata": {
        "id": "fazQcL3uf1Zy",
        "colab_type": "text"
      },
      "source": [
        "This causes a value error if the value saught is not in the sequences"
      ]
    },
    {
      "cell_type": "code",
      "metadata": {
        "id": "8-m1U_JigAcy",
        "colab_type": "code",
        "outputId": "2f70c1aa-e8f3-4a82-8ee0-ea460fdd0df4",
        "colab": {
          "base_uri": "https://localhost:8080/",
          "height": 187
        }
      },
      "source": [
        "all_letters.index('A')"
      ],
      "execution_count": 0,
      "outputs": [
        {
          "output_type": "error",
          "ename": "ValueError",
          "evalue": "ignored",
          "traceback": [
            "\u001b[0;31m---------------------------------------------------------------------------\u001b[0m",
            "\u001b[0;31mValueError\u001b[0m                                Traceback (most recent call last)",
            "\u001b[0;32m<ipython-input-111-99e88dfcb900>\u001b[0m in \u001b[0;36m<module>\u001b[0;34m()\u001b[0m\n\u001b[0;32m----> 1\u001b[0;31m \u001b[0mall_letters\u001b[0m\u001b[0;34m.\u001b[0m\u001b[0mindex\u001b[0m\u001b[0;34m(\u001b[0m\u001b[0;34m'A'\u001b[0m\u001b[0;34m)\u001b[0m\u001b[0;34m\u001b[0m\u001b[0;34m\u001b[0m\u001b[0m\n\u001b[0m",
            "\u001b[0;31mValueError\u001b[0m: substring not found"
          ]
        }
      ]
    },
    {
      "cell_type": "markdown",
      "metadata": {
        "id": "pEF0HAvagJtK",
        "colab_type": "text"
      },
      "source": [
        "A sequence can also be queried for the number of times a particular item appears:"
      ]
    },
    {
      "cell_type": "code",
      "metadata": {
        "id": "owUudnsZgMSw",
        "colab_type": "code",
        "outputId": "717bde70-a92a-433c-e4fd-070b4e9dd5b5",
        "colab": {
          "base_uri": "https://localhost:8080/",
          "height": 35
        }
      },
      "source": [
        "all_letters.count('o')"
      ],
      "execution_count": 0,
      "outputs": [
        {
          "output_type": "execute_result",
          "data": {
            "text/plain": [
              "4"
            ]
          },
          "metadata": {
            "tags": []
          },
          "execution_count": 112
        }
      ]
    },
    {
      "cell_type": "code",
      "metadata": {
        "id": "wW9hDalcgXo0",
        "colab_type": "code",
        "outputId": "5802485c-5e62-42cf-8cc6-adccb74fc545",
        "colab": {
          "base_uri": "https://localhost:8080/",
          "height": 35
        }
      },
      "source": [
        "all_letters.count('the')"
      ],
      "execution_count": 0,
      "outputs": [
        {
          "output_type": "execute_result",
          "data": {
            "text/plain": [
              "2"
            ]
          },
          "metadata": {
            "tags": []
          },
          "execution_count": 113
        }
      ]
    },
    {
      "cell_type": "markdown",
      "metadata": {
        "id": "mqjonZAfggSk",
        "colab_type": "text"
      },
      "source": [
        "This does not raise an error if the item you seek is not present"
      ]
    },
    {
      "cell_type": "code",
      "metadata": {
        "id": "YTpaZEFJgkGC",
        "colab_type": "code",
        "outputId": "da785857-3b1b-4a95-b3cb-1778577f28e6",
        "colab": {
          "base_uri": "https://localhost:8080/",
          "height": 35
        }
      },
      "source": [
        "all_letters.count('A')"
      ],
      "execution_count": 0,
      "outputs": [
        {
          "output_type": "execute_result",
          "data": {
            "text/plain": [
              "0"
            ]
          },
          "metadata": {
            "tags": []
          },
          "execution_count": 114
        }
      ]
    },
    {
      "cell_type": "markdown",
      "metadata": {
        "id": "CgilzKx-gvBz",
        "colab_type": "text"
      },
      "source": [
        "**Iterations**\n",
        "\n",
        "More on this in a later lesson!"
      ]
    },
    {
      "cell_type": "markdown",
      "metadata": {
        "id": "ckUSilPSg2t1",
        "colab_type": "text"
      },
      "source": [
        "# **Lists and Tuples**"
      ]
    },
    {
      "cell_type": "markdown",
      "metadata": {
        "id": "Wnw534jOi8wL",
        "colab_type": "text"
      },
      "source": [
        "**Lists**\n",
        "\n",
        "List can be constructed using list literals (`[]`)"
      ]
    },
    {
      "cell_type": "code",
      "metadata": {
        "id": "MjBpjeNpjR7t",
        "colab_type": "code",
        "colab": {}
      },
      "source": [
        "[]"
      ],
      "execution_count": 0,
      "outputs": []
    },
    {
      "cell_type": "code",
      "metadata": {
        "id": "D2NqcRVHjTfc",
        "colab_type": "code",
        "colab": {}
      },
      "source": [
        "[1,2,3,4]"
      ],
      "execution_count": 0,
      "outputs": []
    },
    {
      "cell_type": "code",
      "metadata": {
        "id": "nbUCgchKjZOx",
        "colab_type": "code",
        "colab": {}
      },
      "source": [
        "[1, 'W', 7.14]"
      ],
      "execution_count": 0,
      "outputs": []
    },
    {
      "cell_type": "code",
      "metadata": {
        "id": "ysWpRz0MEk3W",
        "colab_type": "code",
        "colab": {}
      },
      "source": [
        "fruits = []"
      ],
      "execution_count": 0,
      "outputs": []
    },
    {
      "cell_type": "code",
      "metadata": {
        "id": "onDTh0IzE-Z_",
        "colab_type": "code",
        "colab": {}
      },
      "source": [
        "fruits.append('Mango')"
      ],
      "execution_count": 0,
      "outputs": []
    },
    {
      "cell_type": "code",
      "metadata": {
        "id": "O_LLUNFPFDqk",
        "colab_type": "code",
        "colab": {}
      },
      "source": [
        "fruits.append('Orange')"
      ],
      "execution_count": 0,
      "outputs": []
    },
    {
      "cell_type": "code",
      "metadata": {
        "id": "1neGmCklFHl6",
        "colab_type": "code",
        "outputId": "d6cc1189-4916-4c85-f8c3-e9d5f75a5ceb",
        "colab": {
          "base_uri": "https://localhost:8080/",
          "height": 35
        }
      },
      "source": [
        "fruits"
      ],
      "execution_count": 0,
      "outputs": [
        {
          "output_type": "execute_result",
          "data": {
            "text/plain": [
              "['Mango', 'Orange']"
            ]
          },
          "metadata": {
            "tags": []
          },
          "execution_count": 125
        }
      ]
    },
    {
      "cell_type": "code",
      "metadata": {
        "id": "fxBHPcP9ErO8",
        "colab_type": "code",
        "colab": {}
      },
      "source": [
        "cars = ['benz', 'Toyota', 'Bimmer', 'Mazda']"
      ],
      "execution_count": 0,
      "outputs": []
    },
    {
      "cell_type": "code",
      "metadata": {
        "id": "V-06njK0E4B0",
        "colab_type": "code",
        "outputId": "abebd460-df2d-4cc9-cfd0-7efb42f2b607",
        "colab": {
          "base_uri": "https://localhost:8080/",
          "height": 35
        }
      },
      "source": [
        "cars"
      ],
      "execution_count": 0,
      "outputs": [
        {
          "output_type": "execute_result",
          "data": {
            "text/plain": [
              "['benz', 'Toyota', 'Bimmer', 'Mazda']"
            ]
          },
          "metadata": {
            "tags": []
          },
          "execution_count": 121
        }
      ]
    },
    {
      "cell_type": "markdown",
      "metadata": {
        "id": "99qNYAJfjgX0",
        "colab_type": "text"
      },
      "source": [
        "or by using the `list` object type constructor:"
      ]
    },
    {
      "cell_type": "code",
      "metadata": {
        "id": "3wNBlbHDjq6b",
        "colab_type": "code",
        "outputId": "97b0f9b8-f12f-4a33-9938-3705588b99eb",
        "colab": {
          "base_uri": "https://localhost:8080/",
          "height": 35
        }
      },
      "source": [
        "list()"
      ],
      "execution_count": 0,
      "outputs": [
        {
          "output_type": "execute_result",
          "data": {
            "text/plain": [
              "[]"
            ]
          },
          "metadata": {
            "tags": []
          },
          "execution_count": 126
        }
      ]
    },
    {
      "cell_type": "code",
      "metadata": {
        "id": "lnLu618zFUEY",
        "colab_type": "code",
        "colab": {}
      },
      "source": [
        "names = list('Pau,Peter,James')"
      ],
      "execution_count": 0,
      "outputs": []
    },
    {
      "cell_type": "code",
      "metadata": {
        "id": "savSh1f2Fma-",
        "colab_type": "code",
        "colab": {}
      },
      "source": [
        "names"
      ],
      "execution_count": 0,
      "outputs": []
    },
    {
      "cell_type": "code",
      "metadata": {
        "id": "KiBd2cbQjsi5",
        "colab_type": "code",
        "outputId": "6c61d347-5709-476c-99fa-f0b5f1249272",
        "colab": {
          "base_uri": "https://localhost:8080/",
          "height": 35
        }
      },
      "source": [
        "list(range(4))"
      ],
      "execution_count": 0,
      "outputs": [
        {
          "output_type": "execute_result",
          "data": {
            "text/plain": [
              "[0, 1, 2, 3]"
            ]
          },
          "metadata": {
            "tags": []
          },
          "execution_count": 130
        }
      ]
    },
    {
      "cell_type": "code",
      "metadata": {
        "id": "Wg2jpKPNFspI",
        "colab_type": "code",
        "colab": {}
      },
      "source": [
        "numbers = list(range(4))"
      ],
      "execution_count": 0,
      "outputs": []
    },
    {
      "cell_type": "code",
      "metadata": {
        "id": "ntBy6KXvFyJP",
        "colab_type": "code",
        "outputId": "a622c112-ea6a-4d7d-c0ab-3c41d3f50d24",
        "colab": {
          "base_uri": "https://localhost:8080/",
          "height": 35
        }
      },
      "source": [
        "numbers"
      ],
      "execution_count": 0,
      "outputs": [
        {
          "output_type": "execute_result",
          "data": {
            "text/plain": [
              "[0, 1, 2, 3]"
            ]
          },
          "metadata": {
            "tags": []
          },
          "execution_count": 132
        }
      ]
    },
    {
      "cell_type": "code",
      "metadata": {
        "id": "cWOrQCOWj141",
        "colab_type": "code",
        "colab": {}
      },
      "source": [
        "list('abc')"
      ],
      "execution_count": 0,
      "outputs": []
    },
    {
      "cell_type": "markdown",
      "metadata": {
        "id": "eRYnA-a7kAr-",
        "colab_type": "text"
      },
      "source": [
        "The elements contained in a list need not be of a single type.\n",
        "\n",
        "Lists are heterogenous, ordered collections.\n",
        "\n",
        "Each element in a list is a value, and can be in multiple lists and have multiple names (or no name)"
      ]
    },
    {
      "cell_type": "code",
      "metadata": {
        "id": "6LmFfKCJkIMM",
        "colab_type": "code",
        "colab": {}
      },
      "source": [
        "name = 'Brian'"
      ],
      "execution_count": 0,
      "outputs": []
    },
    {
      "cell_type": "code",
      "metadata": {
        "id": "--BgLDYVkSXC",
        "colab_type": "code",
        "colab": {}
      },
      "source": [
        "a = [1,2, name]"
      ],
      "execution_count": 0,
      "outputs": []
    },
    {
      "cell_type": "code",
      "metadata": {
        "id": "R5oODGkAkYd_",
        "colab_type": "code",
        "colab": {}
      },
      "source": [
        "b = [3, 4, name]"
      ],
      "execution_count": 0,
      "outputs": []
    },
    {
      "cell_type": "code",
      "metadata": {
        "id": "7A5pCybekiMK",
        "colab_type": "code",
        "colab": {}
      },
      "source": [
        "a[2]"
      ],
      "execution_count": 0,
      "outputs": []
    },
    {
      "cell_type": "code",
      "metadata": {
        "id": "HEjRK2eMksVW",
        "colab_type": "code",
        "colab": {}
      },
      "source": [
        "b[2]"
      ],
      "execution_count": 0,
      "outputs": []
    },
    {
      "cell_type": "code",
      "metadata": {
        "id": "C7twRywpkxxs",
        "colab_type": "code",
        "colab": {}
      },
      "source": [
        "a[2] is b[2]"
      ],
      "execution_count": 0,
      "outputs": []
    },
    {
      "cell_type": "markdown",
      "metadata": {
        "id": "m7yCxYVsk-kl",
        "colab_type": "text"
      },
      "source": [
        "**Tuples**\n",
        "\n",
        "Tuples can be constructed using the (`()`) literal:"
      ]
    },
    {
      "cell_type": "code",
      "metadata": {
        "id": "j1DJUJ62lTJ-",
        "colab_type": "code",
        "colab": {}
      },
      "source": [
        "()"
      ],
      "execution_count": 0,
      "outputs": []
    },
    {
      "cell_type": "code",
      "metadata": {
        "id": "Vr3OrYQMGO5a",
        "colab_type": "code",
        "colab": {}
      },
      "source": [
        "some_tuple = (1, 3, 6, 9)"
      ],
      "execution_count": 0,
      "outputs": []
    },
    {
      "cell_type": "code",
      "metadata": {
        "id": "kPveQ5xgGVyw",
        "colab_type": "code",
        "outputId": "46f18c7e-689a-4626-8224-a33ff7fb42b9",
        "colab": {
          "base_uri": "https://localhost:8080/",
          "height": 35
        }
      },
      "source": [
        "type(some_tuple)"
      ],
      "execution_count": 0,
      "outputs": [
        {
          "output_type": "execute_result",
          "data": {
            "text/plain": [
              "tuple"
            ]
          },
          "metadata": {
            "tags": []
          },
          "execution_count": 134
        }
      ]
    },
    {
      "cell_type": "code",
      "metadata": {
        "id": "1c8rIG-iGanz",
        "colab_type": "code",
        "colab": {}
      },
      "source": [
        "another_tuple = 1, 3, 4 , 8, 10,"
      ],
      "execution_count": 0,
      "outputs": []
    },
    {
      "cell_type": "code",
      "metadata": {
        "id": "5CY7E9ykGkTi",
        "colab_type": "code",
        "outputId": "8ffb36a4-35fe-44ac-a1ee-7f2390e3d05a",
        "colab": {
          "base_uri": "https://localhost:8080/",
          "height": 35
        }
      },
      "source": [
        "type(another_tuple)"
      ],
      "execution_count": 0,
      "outputs": [
        {
          "output_type": "execute_result",
          "data": {
            "text/plain": [
              "tuple"
            ]
          },
          "metadata": {
            "tags": []
          },
          "execution_count": 136
        }
      ]
    },
    {
      "cell_type": "code",
      "metadata": {
        "id": "UVuwYcljGrrB",
        "colab_type": "code",
        "colab": {}
      },
      "source": [
        "some_number = (3)"
      ],
      "execution_count": 0,
      "outputs": []
    },
    {
      "cell_type": "code",
      "metadata": {
        "id": "VphBgH73Gv8V",
        "colab_type": "code",
        "outputId": "39a5b1e4-0e36-4f63-fa25-100330d5d35f",
        "colab": {
          "base_uri": "https://localhost:8080/",
          "height": 35
        }
      },
      "source": [
        "type(some_number)"
      ],
      "execution_count": 0,
      "outputs": [
        {
          "output_type": "execute_result",
          "data": {
            "text/plain": [
              "int"
            ]
          },
          "metadata": {
            "tags": []
          },
          "execution_count": 138
        }
      ]
    },
    {
      "cell_type": "code",
      "metadata": {
        "id": "4kS9xc3aG4HN",
        "colab_type": "code",
        "colab": {}
      },
      "source": [
        "another_somenumber = (3,)"
      ],
      "execution_count": 0,
      "outputs": []
    },
    {
      "cell_type": "code",
      "metadata": {
        "id": "hUth6p7nHBre",
        "colab_type": "code",
        "outputId": "e1e97021-3efc-4f35-cb11-7744fec1ce03",
        "colab": {
          "base_uri": "https://localhost:8080/",
          "height": 35
        }
      },
      "source": [
        "type(another_somenumber)"
      ],
      "execution_count": 0,
      "outputs": [
        {
          "output_type": "execute_result",
          "data": {
            "text/plain": [
              "tuple"
            ]
          },
          "metadata": {
            "tags": []
          },
          "execution_count": 142
        }
      ]
    },
    {
      "cell_type": "code",
      "metadata": {
        "id": "i1AuFgvplVKb",
        "colab_type": "code",
        "colab": {}
      },
      "source": [
        "(1,2)"
      ],
      "execution_count": 0,
      "outputs": []
    },
    {
      "cell_type": "code",
      "metadata": {
        "id": "vKU1t-Z4lYi1",
        "colab_type": "code",
        "colab": {}
      },
      "source": [
        "(1, 'a', 765)"
      ],
      "execution_count": 0,
      "outputs": []
    },
    {
      "cell_type": "code",
      "metadata": {
        "id": "kMC9QRs8lhhd",
        "colab_type": "code",
        "colab": {}
      },
      "source": [
        "(1,)"
      ],
      "execution_count": 0,
      "outputs": []
    },
    {
      "cell_type": "markdown",
      "metadata": {
        "id": "_ZJb7Q_QmkkF",
        "colab_type": "text"
      },
      "source": [
        "Tuples don’t NEED parentheses..."
      ]
    },
    {
      "cell_type": "code",
      "metadata": {
        "id": "wYx2pPjhmmiQ",
        "colab_type": "code",
        "colab": {}
      },
      "source": [
        "t = (1,2,3)"
      ],
      "execution_count": 0,
      "outputs": []
    },
    {
      "cell_type": "code",
      "metadata": {
        "id": "tS-61CP9mmgm",
        "colab_type": "code",
        "colab": {}
      },
      "source": [
        "t"
      ],
      "execution_count": 0,
      "outputs": []
    },
    {
      "cell_type": "code",
      "metadata": {
        "id": "1eJ6VPgZmzUQ",
        "colab_type": "code",
        "colab": {}
      },
      "source": [
        "t = 1, 2,3"
      ],
      "execution_count": 0,
      "outputs": []
    },
    {
      "cell_type": "code",
      "metadata": {
        "id": "tt82j-s1m4Id",
        "colab_type": "code",
        "colab": {}
      },
      "source": [
        "t"
      ],
      "execution_count": 0,
      "outputs": []
    },
    {
      "cell_type": "code",
      "metadata": {
        "id": "hhiWyhC6m-fD",
        "colab_type": "code",
        "colab": {}
      },
      "source": [
        "type(t)"
      ],
      "execution_count": 0,
      "outputs": []
    },
    {
      "cell_type": "markdown",
      "metadata": {
        "id": "4wS3TW6jnEVD",
        "colab_type": "text"
      },
      "source": [
        "But they do need commas...!"
      ]
    },
    {
      "cell_type": "code",
      "metadata": {
        "id": "qFsVlLwNnOsV",
        "colab_type": "code",
        "colab": {}
      },
      "source": [
        "t = (3)"
      ],
      "execution_count": 0,
      "outputs": []
    },
    {
      "cell_type": "code",
      "metadata": {
        "id": "tvWUdzWjnTna",
        "colab_type": "code",
        "colab": {}
      },
      "source": [
        "type(t)"
      ],
      "execution_count": 0,
      "outputs": []
    },
    {
      "cell_type": "code",
      "metadata": {
        "id": "f1ULr8N6rHLA",
        "colab_type": "code",
        "colab": {}
      },
      "source": [
        "t = (3, )"
      ],
      "execution_count": 0,
      "outputs": []
    },
    {
      "cell_type": "code",
      "metadata": {
        "id": "y-jiwuaKrLtw",
        "colab_type": "code",
        "colab": {}
      },
      "source": [
        "type(t)"
      ],
      "execution_count": 0,
      "outputs": []
    },
    {
      "cell_type": "markdown",
      "metadata": {
        "id": "vTRkbB85rm1m",
        "colab_type": "text"
      },
      "source": [
        "You can also use the tuple type object to convert any sequence into a tuple:"
      ]
    },
    {
      "cell_type": "code",
      "metadata": {
        "id": "uYXk-B0Tt4eK",
        "colab_type": "code",
        "colab": {}
      },
      "source": [
        "tuple()"
      ],
      "execution_count": 0,
      "outputs": []
    },
    {
      "cell_type": "code",
      "metadata": {
        "id": "B8uiakAyuCJ9",
        "colab_type": "code",
        "colab": {}
      },
      "source": [
        "tuple(range(4))"
      ],
      "execution_count": 0,
      "outputs": []
    },
    {
      "cell_type": "code",
      "metadata": {
        "id": "H0qJvXvHuIdv",
        "colab_type": "code",
        "colab": {}
      },
      "source": [
        "tuple('gabanzoh')"
      ],
      "execution_count": 0,
      "outputs": []
    },
    {
      "cell_type": "markdown",
      "metadata": {
        "id": "FIwM8YjHuSvk",
        "colab_type": "text"
      },
      "source": [
        "The elements contained in a tuple need not be of a single type.\n",
        "\n",
        "Tuples are heterogenous, ordered collections.\n",
        "\n",
        "Each element in a tuple is a value, and can be in multiple tuples and have multiple names (or no name)"
      ]
    },
    {
      "cell_type": "code",
      "metadata": {
        "id": "lemXM2Kvubld",
        "colab_type": "code",
        "colab": {}
      },
      "source": [
        "name = 'Brian'\n",
        "other = name\n",
        "a = (1, 2, name)\n",
        "b = (3, 4, other)"
      ],
      "execution_count": 0,
      "outputs": []
    },
    {
      "cell_type": "code",
      "metadata": {
        "id": "N2zSgqvluxV3",
        "colab_type": "code",
        "colab": {}
      },
      "source": [
        "for i in range(3):\n",
        "  print(a[1] is b[1],)"
      ],
      "execution_count": 0,
      "outputs": []
    },
    {
      "cell_type": "markdown",
      "metadata": {
        "id": "RnTIZk56vwAP",
        "colab_type": "text"
      },
      "source": [
        "# **Mutability**"
      ]
    },
    {
      "cell_type": "markdown",
      "metadata": {
        "id": "vuPTnZIHwHSF",
        "colab_type": "text"
      },
      "source": [
        "**Mutability in python**\n",
        "\n",
        "All items in pyton fall into 2 camps\n",
        "\n",
        "   * Mutable \n",
        "   * Immutable\n",
        "\n",
        "Objects which are mutable may be changed in place.\n",
        "\n",
        "Objects which are immutable may not be changed.\n",
        "\n",
        "|Immutable | mutable|\n",
        "|---|---|\n",
        "|Unicode | list|\n",
        "| String |     |\n",
        "| Integer|     |\n",
        "| Float  |     |\n",
        "| Tuple  |     |"
      ]
    },
    {
      "cell_type": "markdown",
      "metadata": {
        "id": "SPkbaTcOydDM",
        "colab_type": "text"
      },
      "source": [
        "Try this out: "
      ]
    },
    {
      "cell_type": "code",
      "metadata": {
        "id": "lYeCVS-1yjm2",
        "colab_type": "code",
        "colab": {}
      },
      "source": [
        "food = ['oranges', 'garri', 'water fufu']"
      ],
      "execution_count": 0,
      "outputs": []
    },
    {
      "cell_type": "code",
      "metadata": {
        "id": "RacBL-aRywau",
        "colab_type": "code",
        "outputId": "02c31751-abb7-4929-990e-fd84e397918d",
        "colab": {
          "base_uri": "https://localhost:8080/"
        }
      },
      "source": [
        "food"
      ],
      "execution_count": 0,
      "outputs": [
        {
          "output_type": "execute_result",
          "data": {
            "text/plain": [
              "['oranges', 'garri', 'water fufu']"
            ]
          },
          "metadata": {
            "tags": []
          },
          "execution_count": 54
        }
      ]
    },
    {
      "cell_type": "code",
      "metadata": {
        "id": "GUMEhpqNyypb",
        "colab_type": "code",
        "colab": {}
      },
      "source": [
        "food[1] = 'Okro soup'"
      ],
      "execution_count": 0,
      "outputs": []
    },
    {
      "cell_type": "code",
      "metadata": {
        "id": "NvlzcweIfOqa",
        "colab_type": "code",
        "outputId": "f2334673-668c-474c-f9e0-9393530bc41d",
        "colab": {
          "base_uri": "https://localhost:8080/"
        }
      },
      "source": [
        "food"
      ],
      "execution_count": 0,
      "outputs": [
        {
          "output_type": "execute_result",
          "data": {
            "text/plain": [
              "['oranges', 'Okro soup', 'water fufu']"
            ]
          },
          "metadata": {
            "tags": []
          },
          "execution_count": 56
        }
      ]
    },
    {
      "cell_type": "markdown",
      "metadata": {
        "id": "qU4hhJuHy6gI",
        "colab_type": "text"
      },
      "source": [
        "Try the same thing with a tuple"
      ]
    },
    {
      "cell_type": "code",
      "metadata": {
        "id": "Ak7wl6XazDRj",
        "colab_type": "code",
        "colab": {}
      },
      "source": [
        "food = ('oranges', 'garri', 'water fufu')"
      ],
      "execution_count": 0,
      "outputs": []
    },
    {
      "cell_type": "code",
      "metadata": {
        "id": "qD-jRCePzMeb",
        "colab_type": "code",
        "outputId": "2f3196f2-5b4c-490c-b46d-d69ab279a120",
        "colab": {
          "base_uri": "https://localhost:8080/"
        }
      },
      "source": [
        "food"
      ],
      "execution_count": 0,
      "outputs": [
        {
          "output_type": "execute_result",
          "data": {
            "text/plain": [
              "('oranges', 'garri', 'water fufu')"
            ]
          },
          "metadata": {
            "tags": []
          },
          "execution_count": 58
        }
      ]
    },
    {
      "cell_type": "code",
      "metadata": {
        "id": "2pF50VZRzNxb",
        "colab_type": "code",
        "outputId": "7548e27f-3704-4b48-f6f7-395c7397febb",
        "colab": {
          "base_uri": "https://localhost:8080/"
        }
      },
      "source": [
        "food[1] = 'Okro soup'"
      ],
      "execution_count": 0,
      "outputs": [
        {
          "output_type": "error",
          "ename": "TypeError",
          "evalue": "ignored",
          "traceback": [
            "\u001b[0;31m---------------------------------------------------------------------------\u001b[0m",
            "\u001b[0;31mTypeError\u001b[0m                                 Traceback (most recent call last)",
            "\u001b[0;32m<ipython-input-59-39286f5782af>\u001b[0m in \u001b[0;36m<module>\u001b[0;34m()\u001b[0m\n\u001b[0;32m----> 1\u001b[0;31m \u001b[0mfood\u001b[0m\u001b[0;34m[\u001b[0m\u001b[0;36m1\u001b[0m\u001b[0;34m]\u001b[0m \u001b[0;34m=\u001b[0m \u001b[0;34m'Okro soup'\u001b[0m\u001b[0;34m\u001b[0m\u001b[0;34m\u001b[0m\u001b[0m\n\u001b[0m",
            "\u001b[0;31mTypeError\u001b[0m: 'tuple' object does not support item assignment"
          ]
        }
      ]
    },
    {
      "cell_type": "markdown",
      "metadata": {
        "id": "5vqMEG5pzYL1",
        "colab_type": "text"
      },
      "source": [
        "This property means you need to be aware of what you are doing with your lists:"
      ]
    },
    {
      "cell_type": "code",
      "metadata": {
        "id": "ChE8FKd8Hj3a",
        "colab_type": "code",
        "colab": {}
      },
      "source": [
        "original = [1,2,3]\n",
        "altered = original\n",
        "for i in range(len(original)):\n",
        "  if True:\n",
        "    altered[i] +=1"
      ],
      "execution_count": 0,
      "outputs": []
    },
    {
      "cell_type": "markdown",
      "metadata": {
        "id": "996T7AIWIOBX",
        "colab_type": "text"
      },
      "source": [
        "Perhaps we want to check to see if altered has been updated, as a flag for whatever condition caused it to be updated.\n",
        "\n",
        "What is the result of this code?\n",
        "\n",
        "Our altered list has been updated:"
      ]
    },
    {
      "cell_type": "code",
      "metadata": {
        "id": "B2m43matIXjq",
        "colab_type": "code",
        "outputId": "c5964049-ae40-4424-d1b5-b2896419a991",
        "colab": {
          "base_uri": "https://localhost:8080/"
        }
      },
      "source": [
        "altered"
      ],
      "execution_count": 0,
      "outputs": [
        {
          "output_type": "execute_result",
          "data": {
            "text/plain": [
              "[2, 3, 4]"
            ]
          },
          "metadata": {
            "tags": []
          },
          "execution_count": 61
        }
      ]
    },
    {
      "cell_type": "markdown",
      "metadata": {
        "id": "8sEl_qCrIhmr",
        "colab_type": "text"
      },
      "source": [
        "But so has the original list"
      ]
    },
    {
      "cell_type": "code",
      "metadata": {
        "id": "9EoveYVmInUc",
        "colab_type": "code",
        "outputId": "d9d3cb09-f663-4a23-c2ee-694cc88093e9",
        "colab": {
          "base_uri": "https://localhost:8080/"
        }
      },
      "source": [
        "original"
      ],
      "execution_count": 0,
      "outputs": [
        {
          "output_type": "execute_result",
          "data": {
            "text/plain": [
              "[2, 3, 4]"
            ]
          },
          "metadata": {
            "tags": []
          },
          "execution_count": 62
        }
      ]
    },
    {
      "cell_type": "markdown",
      "metadata": {
        "id": "ESUxSzgVIrOA",
        "colab_type": "text"
      },
      "source": [
        "Why?\n",
        "\n",
        "Easy container setup or deadly trap?"
      ]
    },
    {
      "cell_type": "code",
      "metadata": {
        "id": "XDHhpmoQJAad",
        "colab_type": "code",
        "colab": {}
      },
      "source": [
        "bins = [[]] * 5\n",
        "words = ['one', 'three', 'rough', 'sad', 'goof']\n",
        "for word in words:\n",
        "  bins[len(word)-1].append(word)"
      ],
      "execution_count": 0,
      "outputs": []
    },
    {
      "cell_type": "markdown",
      "metadata": {
        "id": "q6GKtDlLJtzI",
        "colab_type": "text"
      },
      "source": [
        "what do you think will be in bins??"
      ]
    },
    {
      "cell_type": "code",
      "metadata": {
        "id": "MN7Kz7niJzHo",
        "colab_type": "code",
        "outputId": "32e94d7e-e822-4773-adfe-b3ef63c1cd5e",
        "colab": {
          "base_uri": "https://localhost:8080/"
        }
      },
      "source": [
        "bins"
      ],
      "execution_count": 0,
      "outputs": [
        {
          "output_type": "execute_result",
          "data": {
            "text/plain": [
              "[['one', 'three', 'rough', 'sad', 'goof'],\n",
              " ['one', 'three', 'rough', 'sad', 'goof'],\n",
              " ['one', 'three', 'rough', 'sad', 'goof'],\n",
              " ['one', 'three', 'rough', 'sad', 'goof'],\n",
              " ['one', 'three', 'rough', 'sad', 'goof']]"
            ]
          },
          "metadata": {
            "tags": []
          },
          "execution_count": 63
        }
      ]
    },
    {
      "cell_type": "markdown",
      "metadata": {
        "id": "jPfdP7cJJ6_p",
        "colab_type": "text"
      },
      "source": [
        "We multiplied a sequence containing a single mutable object.\n",
        "\n",
        "We got a list containing five pointers to a single mutable object.\n",
        "\n",
        "Watch out especially for passing mutable objects as default values for function parameters:"
      ]
    },
    {
      "cell_type": "code",
      "metadata": {
        "id": "kejUqvtRK4uU",
        "colab_type": "code",
        "colab": {}
      },
      "source": [
        "def accumulator(count, list=[]):\n",
        "  for i in range(count):\n",
        "    list.append(i)\n",
        "  return list"
      ],
      "execution_count": 0,
      "outputs": []
    },
    {
      "cell_type": "code",
      "metadata": {
        "id": "H03gNex6MczU",
        "colab_type": "code",
        "outputId": "0bcec804-d696-46d8-fae5-4941092adb11",
        "colab": {
          "base_uri": "https://localhost:8080/"
        }
      },
      "source": [
        "accumulator(5)"
      ],
      "execution_count": 0,
      "outputs": [
        {
          "output_type": "execute_result",
          "data": {
            "text/plain": [
              "[0, 1, 2, 3, 4]"
            ]
          },
          "metadata": {
            "tags": []
          },
          "execution_count": 65
        }
      ]
    },
    {
      "cell_type": "code",
      "metadata": {
        "id": "dhOi6o4UMjZQ",
        "colab_type": "code",
        "outputId": "c295ef2c-22de-42c8-9539-5daf9e4b48c1",
        "colab": {
          "base_uri": "https://localhost:8080/"
        }
      },
      "source": [
        "accumulator(7)"
      ],
      "execution_count": 0,
      "outputs": [
        {
          "output_type": "execute_result",
          "data": {
            "text/plain": [
              "[0, 1, 2, 3, 4, 0, 1, 2, 3, 4, 5, 6]"
            ]
          },
          "metadata": {
            "tags": []
          },
          "execution_count": 66
        }
      ]
    },
    {
      "cell_type": "markdown",
      "metadata": {
        "id": "_J2sH9uCPQ9i",
        "colab_type": "text"
      },
      "source": [
        "# **Mutable Sequences Methods**"
      ]
    },
    {
      "cell_type": "markdown",
      "metadata": {
        "id": "n5nwvaGwQqT_",
        "colab_type": "text"
      },
      "source": [
        "In addition to all the methods supported by sequences we’ve seen above, mutable sequences (the List), have a number of other methods that are used to change the list.\n",
        "\n",
        "You’ve already seen changing a single element of a list by assignment:"
      ]
    },
    {
      "cell_type": "code",
      "metadata": {
        "id": "jZtF_v2NQ34a",
        "colab_type": "code",
        "colab": {}
      },
      "source": [
        "list = [1, 2, 3]"
      ],
      "execution_count": 0,
      "outputs": []
    },
    {
      "cell_type": "code",
      "metadata": {
        "id": "1Dx49OY9RBuM",
        "colab_type": "code",
        "colab": {}
      },
      "source": [
        "list[2] = 10"
      ],
      "execution_count": 0,
      "outputs": []
    },
    {
      "cell_type": "code",
      "metadata": {
        "id": "Bie1l4j9RHyp",
        "colab_type": "code",
        "outputId": "c806bcce-4a55-4659-a34e-d1dd6bcf2581",
        "colab": {
          "base_uri": "https://localhost:8080/",
          "height": 34
        }
      },
      "source": [
        "list"
      ],
      "execution_count": 0,
      "outputs": [
        {
          "output_type": "execute_result",
          "data": {
            "text/plain": [
              "[1, 2, 10]"
            ]
          },
          "metadata": {
            "tags": []
          },
          "execution_count": 69
        }
      ]
    },
    {
      "cell_type": "markdown",
      "metadata": {
        "id": "hlZVdeoPRMC9",
        "colab_type": "text"
      },
      "source": [
        "**Growing the List**"
      ]
    },
    {
      "cell_type": "markdown",
      "metadata": {
        "id": "ovAO5ifIRQhp",
        "colab_type": "text"
      },
      "source": [
        "`.append()`, `.insert()`, `.extend()`"
      ]
    },
    {
      "cell_type": "code",
      "metadata": {
        "id": "0frte5QtRgA1",
        "colab_type": "code",
        "colab": {}
      },
      "source": [
        "food = ['fufu', 'eru', 'garri']"
      ],
      "execution_count": 0,
      "outputs": []
    },
    {
      "cell_type": "code",
      "metadata": {
        "id": "AGxqkqrZRrUH",
        "colab_type": "code",
        "colab": {}
      },
      "source": [
        "food.append('bohbohloh')"
      ],
      "execution_count": 0,
      "outputs": []
    },
    {
      "cell_type": "code",
      "metadata": {
        "id": "V6kAfmCQRx3H",
        "colab_type": "code",
        "outputId": "e47d0d2e-fe18-4bc4-9b5a-d57be459305f",
        "colab": {
          "base_uri": "https://localhost:8080/",
          "height": 34
        }
      },
      "source": [
        "food"
      ],
      "execution_count": 0,
      "outputs": [
        {
          "output_type": "execute_result",
          "data": {
            "text/plain": [
              "['fufu', 'eru', 'garri', 'bohbohloh']"
            ]
          },
          "metadata": {
            "tags": []
          },
          "execution_count": 72
        }
      ]
    },
    {
      "cell_type": "code",
      "metadata": {
        "id": "ZVYCQrqzR1XH",
        "colab_type": "code",
        "colab": {}
      },
      "source": [
        "food.insert(0, 'cassava')"
      ],
      "execution_count": 0,
      "outputs": []
    },
    {
      "cell_type": "code",
      "metadata": {
        "id": "xeiOmcIOSAz8",
        "colab_type": "code",
        "outputId": "8704b66b-6096-4efe-8fec-bc510acc69e6",
        "colab": {
          "base_uri": "https://localhost:8080/",
          "height": 34
        }
      },
      "source": [
        "food"
      ],
      "execution_count": 0,
      "outputs": [
        {
          "output_type": "execute_result",
          "data": {
            "text/plain": [
              "['cassava', 'fufu', 'eru', 'garri', 'bohbohloh']"
            ]
          },
          "metadata": {
            "tags": []
          },
          "execution_count": 74
        }
      ]
    },
    {
      "cell_type": "code",
      "metadata": {
        "id": "rNcL7ovkijKp",
        "colab_type": "code",
        "colab": {}
      },
      "source": [
        "food.insert(1, 'Beans')"
      ],
      "execution_count": 0,
      "outputs": []
    },
    {
      "cell_type": "code",
      "metadata": {
        "id": "MCWdP31Ripzw",
        "colab_type": "code",
        "outputId": "ae6d8075-566e-4c67-de9a-0724bc4a1e05",
        "colab": {
          "base_uri": "https://localhost:8080/",
          "height": 34
        }
      },
      "source": [
        "food"
      ],
      "execution_count": 0,
      "outputs": [
        {
          "output_type": "execute_result",
          "data": {
            "text/plain": [
              "['cassava', 'Beans', 'fufu', 'eru', 'garri', 'bohbohloh']"
            ]
          },
          "metadata": {
            "tags": []
          },
          "execution_count": 76
        }
      ]
    },
    {
      "cell_type": "code",
      "metadata": {
        "id": "ze-qwFEVSUOr",
        "colab_type": "code",
        "colab": {}
      },
      "source": [
        "food.extend(['rice', 'Suya'])"
      ],
      "execution_count": 0,
      "outputs": []
    },
    {
      "cell_type": "code",
      "metadata": {
        "id": "LzNJ_C02SkSE",
        "colab_type": "code",
        "outputId": "a01fe407-fc05-42e1-af60-685c436e8ca8",
        "colab": {
          "base_uri": "https://localhost:8080/",
          "height": 34
        }
      },
      "source": [
        "food"
      ],
      "execution_count": 0,
      "outputs": [
        {
          "output_type": "execute_result",
          "data": {
            "text/plain": [
              "['cassava', 'Beans', 'fufu', 'eru', 'garri', 'bohbohloh', 'rice', 'Suya']"
            ]
          },
          "metadata": {
            "tags": []
          },
          "execution_count": 78
        }
      ]
    },
    {
      "cell_type": "markdown",
      "metadata": {
        "id": "rpxwqgRYSszm",
        "colab_type": "text"
      },
      "source": [
        "You can pass any sequence usign `.extend`"
      ]
    },
    {
      "cell_type": "code",
      "metadata": {
        "id": "ziD24gLmS0-L",
        "colab_type": "code",
        "outputId": "ac6a81b2-0767-400d-a747-4e473a3bc147",
        "colab": {
          "base_uri": "https://localhost:8080/",
          "height": 34
        }
      },
      "source": [
        "food"
      ],
      "execution_count": 0,
      "outputs": [
        {
          "output_type": "execute_result",
          "data": {
            "text/plain": [
              "['cassava', 'Beans', 'fufu', 'eru', 'garri', 'bohbohloh', 'rice', 'Suya']"
            ]
          },
          "metadata": {
            "tags": []
          },
          "execution_count": 79
        }
      ]
    },
    {
      "cell_type": "code",
      "metadata": {
        "id": "OuTn3w9MS2mj",
        "colab_type": "code",
        "colab": {}
      },
      "source": [
        "food.extend('Okongohbong')"
      ],
      "execution_count": 0,
      "outputs": []
    },
    {
      "cell_type": "code",
      "metadata": {
        "id": "oIKnPxH1TAWq",
        "colab_type": "code",
        "outputId": "62af4456-34e0-48b5-ca0e-848eaf6e7c80",
        "colab": {
          "base_uri": "https://localhost:8080/",
          "height": 340
        }
      },
      "source": [
        "food"
      ],
      "execution_count": 0,
      "outputs": [
        {
          "output_type": "execute_result",
          "data": {
            "text/plain": [
              "['cassava',\n",
              " 'Beans',\n",
              " 'fufu',\n",
              " 'eru',\n",
              " 'garri',\n",
              " 'bohbohloh',\n",
              " 'rice',\n",
              " 'Suya',\n",
              " 'O',\n",
              " 'k',\n",
              " 'o',\n",
              " 'n',\n",
              " 'g',\n",
              " 'o',\n",
              " 'h',\n",
              " 'b',\n",
              " 'o',\n",
              " 'n',\n",
              " 'g']"
            ]
          },
          "metadata": {
            "tags": []
          },
          "execution_count": 81
        }
      ]
    },
    {
      "cell_type": "markdown",
      "metadata": {
        "id": "yW9UkeV4TIWu",
        "colab_type": "text"
      },
      "source": [
        "**Shrinking the list**"
      ]
    },
    {
      "cell_type": "markdown",
      "metadata": {
        "id": "tSOZXNGVTMYn",
        "colab_type": "text"
      },
      "source": [
        "`.pop()`, `.remove()`"
      ]
    },
    {
      "cell_type": "code",
      "metadata": {
        "id": "XsFWPodcTTir",
        "colab_type": "code",
        "colab": {}
      },
      "source": [
        "food = ['fufu', 'eru', 'garri', 'nkum-nkum']"
      ],
      "execution_count": 0,
      "outputs": []
    },
    {
      "cell_type": "code",
      "metadata": {
        "id": "lgKozd1mTrKW",
        "colab_type": "code",
        "outputId": "2c495c13-c777-41e6-dafa-2e4a287fa23f",
        "colab": {
          "base_uri": "https://localhost:8080/",
          "height": 34
        }
      },
      "source": [
        "food.pop()"
      ],
      "execution_count": 0,
      "outputs": [
        {
          "output_type": "execute_result",
          "data": {
            "text/plain": [
              "'nkum-nkum'"
            ]
          },
          "metadata": {
            "tags": []
          },
          "execution_count": 83
        }
      ]
    },
    {
      "cell_type": "code",
      "metadata": {
        "id": "UyT42yXtT1Jr",
        "colab_type": "code",
        "outputId": "0353d1a3-53c7-483f-917f-3819ba264e4d",
        "colab": {
          "base_uri": "https://localhost:8080/",
          "height": 34
        }
      },
      "source": [
        "food.pop(0)"
      ],
      "execution_count": 0,
      "outputs": [
        {
          "output_type": "execute_result",
          "data": {
            "text/plain": [
              "'fufu'"
            ]
          },
          "metadata": {
            "tags": []
          },
          "execution_count": 84
        }
      ]
    },
    {
      "cell_type": "code",
      "metadata": {
        "id": "OiPzyUuJT9fq",
        "colab_type": "code",
        "outputId": "2a05b430-3ff1-4101-8169-e6f5ceb20200",
        "colab": {
          "base_uri": "https://localhost:8080/",
          "height": 34
        }
      },
      "source": [
        "food"
      ],
      "execution_count": 0,
      "outputs": [
        {
          "output_type": "execute_result",
          "data": {
            "text/plain": [
              "['eru', 'garri']"
            ]
          },
          "metadata": {
            "tags": []
          },
          "execution_count": 85
        }
      ]
    },
    {
      "cell_type": "code",
      "metadata": {
        "id": "Z-k7-hWXUBeR",
        "colab_type": "code",
        "colab": {}
      },
      "source": [
        "food.remove('eru')"
      ],
      "execution_count": 0,
      "outputs": []
    },
    {
      "cell_type": "code",
      "metadata": {
        "id": "sVdYEZGpUHFn",
        "colab_type": "code",
        "outputId": "9ad9aff4-dcb9-40c3-b903-ef11a24f3eb6",
        "colab": {
          "base_uri": "https://localhost:8080/",
          "height": 34
        }
      },
      "source": [
        "food"
      ],
      "execution_count": 0,
      "outputs": [
        {
          "output_type": "execute_result",
          "data": {
            "text/plain": [
              "['garri']"
            ]
          },
          "metadata": {
            "tags": []
          },
          "execution_count": 87
        }
      ]
    },
    {
      "cell_type": "markdown",
      "metadata": {
        "id": "Cs4cvVzcUNkI",
        "colab_type": "text"
      },
      "source": [
        "You can also delete slices from a list using the `del` keyword"
      ]
    },
    {
      "cell_type": "code",
      "metadata": {
        "id": "YLjkbISbUZNe",
        "colab_type": "code",
        "colab": {}
      },
      "source": [
        "nums = [i for i in range(10)]"
      ],
      "execution_count": 0,
      "outputs": []
    },
    {
      "cell_type": "code",
      "metadata": {
        "id": "loaGuT3yUeZO",
        "colab_type": "code",
        "outputId": "9fc8a4b2-1ba2-48a3-f9d3-0de16fc70efc",
        "colab": {
          "base_uri": "https://localhost:8080/",
          "height": 34
        }
      },
      "source": [
        "nums"
      ],
      "execution_count": 0,
      "outputs": [
        {
          "output_type": "execute_result",
          "data": {
            "text/plain": [
              "[0, 1, 2, 3, 4, 5, 6, 7, 8, 9]"
            ]
          },
          "metadata": {
            "tags": []
          },
          "execution_count": 89
        }
      ]
    },
    {
      "cell_type": "code",
      "metadata": {
        "id": "9MmT3iVOUsb7",
        "colab_type": "code",
        "colab": {}
      },
      "source": [
        "del nums[1:6:2]"
      ],
      "execution_count": 0,
      "outputs": []
    },
    {
      "cell_type": "code",
      "metadata": {
        "id": "F5o5j3fvWBp2",
        "colab_type": "code",
        "outputId": "add96baf-cb7f-4534-f5fd-0adee6657729",
        "colab": {
          "base_uri": "https://localhost:8080/",
          "height": 34
        }
      },
      "source": [
        "nums"
      ],
      "execution_count": 0,
      "outputs": [
        {
          "output_type": "execute_result",
          "data": {
            "text/plain": [
              "[0, 2, 4, 6, 7, 8, 9]"
            ]
          },
          "metadata": {
            "tags": []
          },
          "execution_count": 91
        }
      ]
    },
    {
      "cell_type": "markdown",
      "metadata": {
        "id": "7rkjDr7EXbbN",
        "colab_type": "text"
      },
      "source": [
        "**Copying List**"
      ]
    },
    {
      "cell_type": "markdown",
      "metadata": {
        "id": "iR7kkLKqXgC8",
        "colab_type": "text"
      },
      "source": [
        "You can make copies of parts of a list by using slicing"
      ]
    },
    {
      "cell_type": "code",
      "metadata": {
        "id": "xiN-suzrXnlJ",
        "colab_type": "code",
        "colab": {}
      },
      "source": [
        "food = ['garri','beans','bread', 'yams']"
      ],
      "execution_count": 0,
      "outputs": []
    },
    {
      "cell_type": "code",
      "metadata": {
        "id": "OoWjSq3MXxDs",
        "colab_type": "code",
        "colab": {}
      },
      "source": [
        "some_food = food[1:3]"
      ],
      "execution_count": 0,
      "outputs": []
    },
    {
      "cell_type": "code",
      "metadata": {
        "id": "VeMAX953YDn2",
        "colab_type": "code",
        "outputId": "af708c24-2940-43c7-8fbb-308a44c2854b",
        "colab": {
          "base_uri": "https://localhost:8080/",
          "height": 34
        }
      },
      "source": [
        "some_food"
      ],
      "execution_count": 0,
      "outputs": [
        {
          "output_type": "execute_result",
          "data": {
            "text/plain": [
              "['beans', 'bread']"
            ]
          },
          "metadata": {
            "tags": []
          },
          "execution_count": 94
        }
      ]
    },
    {
      "cell_type": "code",
      "metadata": {
        "id": "N8PIVO0IYG6K",
        "colab_type": "code",
        "colab": {}
      },
      "source": [
        "some_food[1] = 'Ogbonoh'"
      ],
      "execution_count": 0,
      "outputs": []
    },
    {
      "cell_type": "code",
      "metadata": {
        "id": "3jNJ-F7lYx-K",
        "colab_type": "code",
        "outputId": "2ecdf0d1-e882-49bc-ce30-0ca285691078",
        "colab": {
          "base_uri": "https://localhost:8080/",
          "height": 34
        }
      },
      "source": [
        "food"
      ],
      "execution_count": 0,
      "outputs": [
        {
          "output_type": "execute_result",
          "data": {
            "text/plain": [
              "['garri', 'beans', 'bread', 'yams']"
            ]
          },
          "metadata": {
            "tags": []
          },
          "execution_count": 96
        }
      ]
    },
    {
      "cell_type": "code",
      "metadata": {
        "id": "NYQ6AL_bY0KP",
        "colab_type": "code",
        "outputId": "73edeec1-a05a-4af6-d8a2-e9129231f4e5",
        "colab": {
          "base_uri": "https://localhost:8080/",
          "height": 34
        }
      },
      "source": [
        "some_food"
      ],
      "execution_count": 0,
      "outputs": [
        {
          "output_type": "execute_result",
          "data": {
            "text/plain": [
              "['beans', 'Ogbonoh']"
            ]
          },
          "metadata": {
            "tags": []
          },
          "execution_count": 97
        }
      ]
    },
    {
      "cell_type": "markdown",
      "metadata": {
        "id": "O6TU_KjVY6zD",
        "colab_type": "text"
      },
      "source": [
        "if you provide no arguments with the slice, it makes an entire copy of the old list"
      ]
    },
    {
      "cell_type": "code",
      "metadata": {
        "id": "-X0oxejvZI8N",
        "colab_type": "code",
        "outputId": "5c33b0b0-0347-42c8-9566-05df1568e591",
        "colab": {
          "base_uri": "https://localhost:8080/",
          "height": 34
        }
      },
      "source": [
        "food"
      ],
      "execution_count": 0,
      "outputs": [
        {
          "output_type": "execute_result",
          "data": {
            "text/plain": [
              "['garri', 'beans', 'bread', 'yams']"
            ]
          },
          "metadata": {
            "tags": []
          },
          "execution_count": 98
        }
      ]
    },
    {
      "cell_type": "code",
      "metadata": {
        "id": "kl8f-ipPZOPG",
        "colab_type": "code",
        "colab": {}
      },
      "source": [
        "food2 = food[:]"
      ],
      "execution_count": 0,
      "outputs": []
    },
    {
      "cell_type": "code",
      "metadata": {
        "id": "jHlEqItXZT8y",
        "colab_type": "code",
        "outputId": "6b261cfb-468f-4b95-9bf0-5a8942433f61",
        "colab": {
          "base_uri": "https://localhost:8080/",
          "height": 34
        }
      },
      "source": [
        "food is food2"
      ],
      "execution_count": 0,
      "outputs": [
        {
          "output_type": "execute_result",
          "data": {
            "text/plain": [
              "False"
            ]
          },
          "metadata": {
            "tags": []
          },
          "execution_count": 100
        }
      ]
    },
    {
      "cell_type": "markdown",
      "metadata": {
        "id": "fNLblkzLZbTc",
        "colab_type": "text"
      },
      "source": [
        "The copy of a list made this way is a shallow copy.\n",
        "\n",
        "The list is itself a new object, but the objects it contains are not.\n",
        "\n",
        "Mutable objects in the list can be mutated in both copies:"
      ]
    },
    {
      "cell_type": "code",
      "metadata": {
        "id": "NyLqrf_mlSvz",
        "colab_type": "code",
        "colab": {}
      },
      "source": [
        "food = ['cassava',['rice', 'bread']]"
      ],
      "execution_count": 0,
      "outputs": []
    },
    {
      "cell_type": "code",
      "metadata": {
        "id": "IG50tkbZlfG9",
        "colab_type": "code",
        "colab": {}
      },
      "source": [
        "food_copy = food[:]"
      ],
      "execution_count": 0,
      "outputs": []
    },
    {
      "cell_type": "code",
      "metadata": {
        "id": "Olt43hYjlpPG",
        "colab_type": "code",
        "outputId": "bc055ea5-23a5-43be-9427-a6d99cd1cae6",
        "colab": {
          "base_uri": "https://localhost:8080/",
          "height": 34
        }
      },
      "source": [
        "food[1].pop()"
      ],
      "execution_count": 0,
      "outputs": [
        {
          "output_type": "execute_result",
          "data": {
            "text/plain": [
              "'bread'"
            ]
          },
          "metadata": {
            "tags": []
          },
          "execution_count": 106
        }
      ]
    },
    {
      "cell_type": "code",
      "metadata": {
        "id": "d0ATEXXwmPVq",
        "colab_type": "code",
        "outputId": "aabd8442-f039-4df2-dc57-8bd51e23465f",
        "colab": {
          "base_uri": "https://localhost:8080/",
          "height": 34
        }
      },
      "source": [
        "food"
      ],
      "execution_count": 0,
      "outputs": [
        {
          "output_type": "execute_result",
          "data": {
            "text/plain": [
              "['cassava', ['rice']]"
            ]
          },
          "metadata": {
            "tags": []
          },
          "execution_count": 107
        }
      ]
    },
    {
      "cell_type": "code",
      "metadata": {
        "id": "olhxgYp_mYhK",
        "colab_type": "code",
        "outputId": "84615bd0-6384-497c-89eb-655de1377d37",
        "colab": {
          "base_uri": "https://localhost:8080/",
          "height": 34
        }
      },
      "source": [
        "food.pop(0)"
      ],
      "execution_count": 0,
      "outputs": [
        {
          "output_type": "execute_result",
          "data": {
            "text/plain": [
              "'cassava'"
            ]
          },
          "metadata": {
            "tags": []
          },
          "execution_count": 108
        }
      ]
    },
    {
      "cell_type": "code",
      "metadata": {
        "id": "QjXcjNAtmiJn",
        "colab_type": "code",
        "outputId": "ad18e3ad-ed52-4566-eaf7-1fd3a12a9f71",
        "colab": {
          "base_uri": "https://localhost:8080/",
          "height": 34
        }
      },
      "source": [
        "food"
      ],
      "execution_count": 0,
      "outputs": [
        {
          "output_type": "execute_result",
          "data": {
            "text/plain": [
              "[['rice']]"
            ]
          },
          "metadata": {
            "tags": []
          },
          "execution_count": 109
        }
      ]
    },
    {
      "cell_type": "code",
      "metadata": {
        "id": "qW81Mc5tmqR5",
        "colab_type": "code",
        "outputId": "90bd9493-ee45-4266-f7a1-9877aa1a121b",
        "colab": {
          "base_uri": "https://localhost:8080/",
          "height": 34
        }
      },
      "source": [
        "food_copy"
      ],
      "execution_count": 0,
      "outputs": [
        {
          "output_type": "execute_result",
          "data": {
            "text/plain": [
              "['cassava', ['rice']]"
            ]
          },
          "metadata": {
            "tags": []
          },
          "execution_count": 110
        }
      ]
    },
    {
      "cell_type": "markdown",
      "metadata": {
        "id": "4pCtYAgxnIoR",
        "colab_type": "text"
      },
      "source": [
        "Consider this common pattern:"
      ]
    },
    {
      "cell_type": "code",
      "metadata": {
        "id": "P3ihF0NknLJk",
        "colab_type": "code",
        "colab": {}
      },
      "source": [
        "for x in somelist:\n",
        "    if should_be_removed(x):\n",
        "        somelist.remove(x)"
      ],
      "execution_count": 0,
      "outputs": []
    },
    {
      "cell_type": "markdown",
      "metadata": {
        "id": "ooIIAestnh_b",
        "colab_type": "text"
      },
      "source": [
        "This looks benign enough, but changing a list while you are iterating over it can be the cause of some pernicious bugs.\n",
        "\n",
        "for example: "
      ]
    },
    {
      "cell_type": "code",
      "metadata": {
        "id": "8ALA31EHnp--",
        "colab_type": "code",
        "colab": {}
      },
      "source": [
        "a_list = [i for i in range(10)]"
      ],
      "execution_count": 0,
      "outputs": []
    },
    {
      "cell_type": "code",
      "metadata": {
        "id": "FhFaLVYen0qJ",
        "colab_type": "code",
        "outputId": "ba8a7117-be6c-481e-c1fe-69ed29e84e23",
        "colab": {
          "base_uri": "https://localhost:8080/",
          "height": 34
        }
      },
      "source": [
        "a_list"
      ],
      "execution_count": 0,
      "outputs": [
        {
          "output_type": "execute_result",
          "data": {
            "text/plain": [
              "[0, 1, 2, 3, 4, 5, 6, 7, 8, 9]"
            ]
          },
          "metadata": {
            "tags": []
          },
          "execution_count": 112
        }
      ]
    },
    {
      "cell_type": "code",
      "metadata": {
        "id": "nhc2SpiCn891",
        "colab_type": "code",
        "colab": {}
      },
      "source": [
        "for x in a_list:\n",
        "  a_list.remove(x)"
      ],
      "execution_count": 0,
      "outputs": []
    },
    {
      "cell_type": "code",
      "metadata": {
        "id": "InSYcVdEoJx5",
        "colab_type": "code",
        "outputId": "632b7b43-d46d-4e10-d36e-b99f6d3f952f",
        "colab": {
          "base_uri": "https://localhost:8080/",
          "height": 34
        }
      },
      "source": [
        "a_list"
      ],
      "execution_count": 0,
      "outputs": [
        {
          "output_type": "execute_result",
          "data": {
            "text/plain": [
              "[1, 3, 5, 7, 9]"
            ]
          },
          "metadata": {
            "tags": []
          },
          "execution_count": 114
        }
      ]
    },
    {
      "cell_type": "markdown",
      "metadata": {
        "id": "PfhqZccSo0QA",
        "colab_type": "text"
      },
      "source": [
        "**The Correct way**"
      ]
    },
    {
      "cell_type": "code",
      "metadata": {
        "id": "RhKOoQOxo5Sd",
        "colab_type": "code",
        "colab": {}
      },
      "source": [
        "new_list = [i for i in range(10)]"
      ],
      "execution_count": 0,
      "outputs": []
    },
    {
      "cell_type": "code",
      "metadata": {
        "id": "1wth3GkQo_85",
        "colab_type": "code",
        "colab": {}
      },
      "source": [
        "for x in new_list[:]:\n",
        "  new_list.remove(x)"
      ],
      "execution_count": 0,
      "outputs": []
    },
    {
      "cell_type": "code",
      "metadata": {
        "id": "Aw6necbipLBC",
        "colab_type": "code",
        "outputId": "7a7572cc-7678-4990-9e3c-41413c58feee",
        "colab": {
          "base_uri": "https://localhost:8080/",
          "height": 34
        }
      },
      "source": [
        "new_list"
      ],
      "execution_count": 0,
      "outputs": [
        {
          "output_type": "execute_result",
          "data": {
            "text/plain": [
              "[]"
            ]
          },
          "metadata": {
            "tags": []
          },
          "execution_count": 117
        }
      ]
    },
    {
      "cell_type": "markdown",
      "metadata": {
        "id": "gGhj5cF_pZhm",
        "colab_type": "text"
      },
      "source": [
        "Okay, so we’ve done this a bunch already, but let’s state it out loud.\n",
        "\n",
        "You can iterate over a sequence."
      ]
    },
    {
      "cell_type": "code",
      "metadata": {
        "id": "P2FWhTQxpgjq",
        "colab_type": "code",
        "colab": {}
      },
      "source": [
        "for element in sequence:\n",
        "  do_something_with(element)"
      ],
      "execution_count": 0,
      "outputs": []
    },
    {
      "cell_type": "markdown",
      "metadata": {
        "id": "8HkHRFf6p7v3",
        "colab_type": "text"
      },
      "source": [
        "**Miscellaneous List Methods**"
      ]
    },
    {
      "cell_type": "markdown",
      "metadata": {
        "id": "aN2GFEqHqAhK",
        "colab_type": "text"
      },
      "source": [
        "These methods change a list in place and are not available on immutable sequence types."
      ]
    },
    {
      "cell_type": "markdown",
      "metadata": {
        "id": "pE0n4fWlqNzQ",
        "colab_type": "text"
      },
      "source": [
        "`reverse()`"
      ]
    },
    {
      "cell_type": "code",
      "metadata": {
        "id": "ejcJDF9MqkyY",
        "colab_type": "code",
        "colab": {}
      },
      "source": [
        "food = ['rice', 'garri', 'yams']"
      ],
      "execution_count": 0,
      "outputs": []
    },
    {
      "cell_type": "code",
      "metadata": {
        "id": "CoHCzDVgqtLa",
        "colab_type": "code",
        "colab": {}
      },
      "source": [
        "food.reverse()"
      ],
      "execution_count": 0,
      "outputs": []
    },
    {
      "cell_type": "code",
      "metadata": {
        "id": "X3XMCie1qy1K",
        "colab_type": "code",
        "outputId": "a823cba0-480b-4282-9503-9335c8402a4b",
        "colab": {
          "base_uri": "https://localhost:8080/",
          "height": 34
        }
      },
      "source": [
        "food"
      ],
      "execution_count": 0,
      "outputs": [
        {
          "output_type": "execute_result",
          "data": {
            "text/plain": [
              "['yams', 'garri', 'rice']"
            ]
          },
          "metadata": {
            "tags": []
          },
          "execution_count": 120
        }
      ]
    },
    {
      "cell_type": "markdown",
      "metadata": {
        "id": "a3OQFQTmq4AE",
        "colab_type": "text"
      },
      "source": [
        "`sort()`"
      ]
    },
    {
      "cell_type": "code",
      "metadata": {
        "id": "JzI6rpovq7JZ",
        "colab_type": "code",
        "outputId": "c8c27a03-ed06-4c05-c085-ef1474155cdb",
        "colab": {
          "base_uri": "https://localhost:8080/",
          "height": 34
        }
      },
      "source": [
        "food"
      ],
      "execution_count": 0,
      "outputs": [
        {
          "output_type": "execute_result",
          "data": {
            "text/plain": [
              "['yams', 'garri', 'rice']"
            ]
          },
          "metadata": {
            "tags": []
          },
          "execution_count": 121
        }
      ]
    },
    {
      "cell_type": "code",
      "metadata": {
        "id": "kahiKqDYrCOx",
        "colab_type": "code",
        "outputId": "d665f2df-6772-4f51-87fe-a2d1a8a2755e",
        "colab": {
          "base_uri": "https://localhost:8080/",
          "height": 34
        }
      },
      "source": [
        "print(food.sort())"
      ],
      "execution_count": 0,
      "outputs": [
        {
          "output_type": "stream",
          "text": [
            "None\n"
          ],
          "name": "stdout"
        }
      ]
    },
    {
      "cell_type": "markdown",
      "metadata": {
        "id": "IDcUB9-orVoY",
        "colab_type": "text"
      },
      "source": [
        "Because these methods mutate the list in place, they have a return value of None"
      ]
    },
    {
      "cell_type": "markdown",
      "metadata": {
        "id": "AtM49AN3ri44",
        "colab_type": "text"
      },
      "source": [
        "`.sort()` by providing a key parameter. \n",
        "\n",
        "It should be a function that takes one parameter (list items one at a time) and returns something that can be used for sorting:"
      ]
    },
    {
      "cell_type": "code",
      "metadata": {
        "id": "oEWA5Ffnrx6F",
        "colab_type": "code",
        "colab": {}
      },
      "source": [
        "def third_letter(string):\n",
        "  return string[2]"
      ],
      "execution_count": 0,
      "outputs": []
    },
    {
      "cell_type": "code",
      "metadata": {
        "id": "tLVk-YKwsbRF",
        "colab_type": "code",
        "colab": {}
      },
      "source": [
        "food = ['rice', 'yam', 'garri']"
      ],
      "execution_count": 0,
      "outputs": []
    },
    {
      "cell_type": "code",
      "metadata": {
        "id": "kiHe6E1EsBtK",
        "colab_type": "code",
        "colab": {}
      },
      "source": [
        "food = food.sort(key=third_letter)"
      ],
      "execution_count": 0,
      "outputs": []
    },
    {
      "cell_type": "code",
      "metadata": {
        "id": "QzVpQ8oksJ1W",
        "colab_type": "code",
        "colab": {}
      },
      "source": [
        "food"
      ],
      "execution_count": 0,
      "outputs": []
    },
    {
      "cell_type": "markdown",
      "metadata": {
        "id": "SiWcgnksthtL",
        "colab_type": "text"
      },
      "source": [
        "**List Performance**"
      ]
    },
    {
      "cell_type": "markdown",
      "metadata": {
        "id": "levaLQsktroI",
        "colab_type": "text"
      },
      "source": [
        "* indexing is fast and constant time: O(1)\n",
        "* x in s proportional to n: O(n)\n",
        "* visiting all is proportional to n: O(n)\n",
        "* operating on the end of list is fast and constant time: O(1)\n",
        "  * `.pop()` and the `.append()`\n",
        "* operating on the front (or middle) of the list depends on n: O(n)\n",
        "  * pop(0), insert(0, v)\n",
        "  * But, reversing is fast. Also, collections.deque\n"
      ]
    },
    {
      "cell_type": "markdown",
      "metadata": {
        "id": "cNMClIrRvM5z",
        "colab_type": "text"
      },
      "source": [
        "**Why would you choose a list over a tuple?**"
      ]
    },
    {
      "cell_type": "markdown",
      "metadata": {
        "id": "hCKw-JBSvUC1",
        "colab_type": "text"
      },
      "source": [
        "* if the list needs to be mutable use a list\n",
        "* if the list needs to be immutable, then use a tuple\n",
        "   * (safety when passing to a function)\n",
        "\n",
        "taste and try ... to see what works for the project you are working on... \n",
        "\n",
        "Lists are Collections (homogeneous): – contain values of the same type – simplifies iterating, sorting, etc\n",
        "\n",
        "tuples are mixed types: – Group multiple values into one logical thing – Kind of like simple C structs.\n",
        "\n",
        "Generally accepted conventiosn when using python: \n",
        "\n",
        "* Do the same operation to each element?\n",
        "    * List\n",
        "* Small collection of values which make a single logical item?\n",
        "    * Tuple\n",
        "* To document that these values won’t change?\n",
        "    * Tuple\n",
        "* Build it iteratively?\n",
        "    * List\n",
        "* Transform, filter, etc?\n",
        "    * list"
      ]
    },
    {
      "cell_type": "markdown",
      "metadata": {
        "id": "8YTSESVKx8VY",
        "colab_type": "text"
      },
      "source": [
        "# **Iterations**"
      ]
    },
    {
      "cell_type": "markdown",
      "metadata": {
        "id": "GyTqwV25yOdl",
        "colab_type": "text"
      },
      "source": [
        "Repetition, Repetition, Repetition, Repe..."
      ]
    },
    {
      "cell_type": "markdown",
      "metadata": {
        "id": "PGefykXPyVs0",
        "colab_type": "text"
      },
      "source": [
        "**For loops**"
      ]
    },
    {
      "cell_type": "markdown",
      "metadata": {
        "id": "M5b4OEY-yc_w",
        "colab_type": "text"
      },
      "source": [
        "We’ve seen simple iteration over a sequence with `for ... in:`\n",
        "\n"
      ]
    },
    {
      "cell_type": "code",
      "metadata": {
        "id": "cvxAJMEXymWw",
        "colab_type": "code",
        "colab": {}
      },
      "source": [
        "for x in 'Willy Takang':\n",
        "  print(x)"
      ],
      "execution_count": 0,
      "outputs": []
    },
    {
      "cell_type": "code",
      "metadata": {
        "id": "RIh0-oflzAKg",
        "colab_type": "code",
        "colab": {}
      },
      "source": [
        "for letter in 'Willy Takang':\n",
        "  print(letter)"
      ],
      "execution_count": 0,
      "outputs": []
    },
    {
      "cell_type": "markdown",
      "metadata": {
        "id": "RgR55cuhzTHT",
        "colab_type": "text"
      },
      "source": [
        "Contrast this with other languages, where you must build and use an index:"
      ]
    },
    {
      "cell_type": "code",
      "metadata": {
        "id": "YkCb-KPAzWSc",
        "colab_type": "code",
        "colab": {}
      },
      "source": [
        "for(var i=0; i<arr.length; i++) {\n",
        "    var value = arr[i];\n",
        "    alert(i + \") \" + value);"
      ],
      "execution_count": 0,
      "outputs": []
    },
    {
      "cell_type": "markdown",
      "metadata": {
        "id": "ebhufkauzmjw",
        "colab_type": "text"
      },
      "source": [
        "If you need an index, though you can use `enumerate`:"
      ]
    },
    {
      "cell_type": "code",
      "metadata": {
        "id": "OevJQ3IvzvUg",
        "colab_type": "code",
        "outputId": "386bb1a8-c20b-4cec-91ca-4aba7c24ddc5",
        "colab": {
          "base_uri": "https://localhost:8080/",
          "height": 119
        }
      },
      "source": [
        "for idx, letter in enumerate('python'):\n",
        "  print(idx, letter)"
      ],
      "execution_count": 0,
      "outputs": [
        {
          "output_type": "stream",
          "text": [
            "0 p\n",
            "1 y\n",
            "2 t\n",
            "3 h\n",
            "4 o\n",
            "5 n\n"
          ],
          "name": "stdout"
        }
      ]
    },
    {
      "cell_type": "markdown",
      "metadata": {
        "id": "YcCodsnm0XI-",
        "colab_type": "text"
      },
      "source": [
        "The `range` builtin is useful for looping a known number of times:"
      ]
    },
    {
      "cell_type": "code",
      "metadata": {
        "id": "lQ0rHEIn0ceD",
        "colab_type": "code",
        "outputId": "41c26681-791f-4c49-a8ca-4a7def33d5b9",
        "colab": {
          "base_uri": "https://localhost:8080/",
          "height": 102
        }
      },
      "source": [
        "for i in range(5):\n",
        "  print(i)"
      ],
      "execution_count": 0,
      "outputs": [
        {
          "output_type": "stream",
          "text": [
            "0\n",
            "1\n",
            "2\n",
            "3\n",
            "4\n"
          ],
          "name": "stdout"
        }
      ]
    }
  ]
}